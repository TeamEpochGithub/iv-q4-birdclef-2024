{
 "cells": [
  {
   "metadata": {
    "ExecuteTime": {
     "end_time": "2024-05-01T14:42:26.226492Z",
     "start_time": "2024-05-01T14:42:26.224036Z"
    }
   },
   "cell_type": "code",
   "source": "import pandas as pd",
   "id": "1bf84269af6f6d2f",
   "outputs": [],
   "execution_count": 4
  },
  {
   "metadata": {
    "ExecuteTime": {
     "end_time": "2024-05-01T14:42:26.543787Z",
     "start_time": "2024-05-01T14:42:26.456839Z"
    }
   },
   "cell_type": "code",
   "source": [
    "# Retrieve mapping from scientific_name to primary_label\n",
    "train_metadata = pd.read_csv(\"../data/raw/2024/train_metadata.csv\")\n",
    "train_metadata = train_metadata.drop_duplicates(subset=\"common_name\", keep=\"first\")\n",
    "\n",
    "common_name_to_birdcode = train_metadata.set_index(\"common_name\").to_dict()[\"primary_label\"]\n",
    "birdcode_to_scientific_name = train_metadata.set_index(\"primary_label\").to_dict()[\"scientific_name\"]"
   ],
   "id": "1d04bc58d6885a0",
   "outputs": [],
   "execution_count": 5
  },
  {
   "metadata": {
    "ExecuteTime": {
     "end_time": "2024-05-01T14:42:48.327363Z",
     "start_time": "2024-05-01T14:42:48.164654Z"
    }
   },
   "cell_type": "code",
   "source": [
    "additional_metadata = pd.read_csv('../data/raw/BirdClef2024_additional.csv', usecols=[\"id\", \"en\", \"rec\", \"lat\", \"lng\", \"type\", \"url\", \"file\", \"lic\", \"q\", \"also\"])\n",
    "# .rename({\n",
    "#     \"en\": \"common_name\",\n",
    "#     \"rec\": \"author\",\n",
    "#     \"lat\": \"latitude\",\n",
    "#     \"lng\": \"longitude\",\n",
    "#     \"lic\": \"license\",\n",
    "#     \"q\": \"rating\",\n",
    "#     \"also\": \"secondary_labels\"\n",
    "# }))\n"
   ],
   "id": "b7fcb4911ae6946d",
   "outputs": [
    {
     "data": {
      "text/plain": [
       "id        int64\n",
       "en       object\n",
       "rec      object\n",
       "lat     float64\n",
       "lng     float64\n",
       "type     object\n",
       "url      object\n",
       "file     object\n",
       "lic      object\n",
       "q        object\n",
       "also     object\n",
       "dtype: object"
      ]
     },
     "execution_count": 8,
     "metadata": {},
     "output_type": "execute_result"
    }
   ],
   "execution_count": 8
  },
  {
   "metadata": {
    "ExecuteTime": {
     "end_time": "2024-05-01T15:05:57.626600Z",
     "start_time": "2024-05-01T15:05:57.556921Z"
    }
   },
   "cell_type": "code",
   "source": [
    "additional_metadata[\"type\"] = additional_metadata[\"type\"].str.split(\", \")\n",
    "additional_metadata[\"type\"]"
   ],
   "id": "2fa5c732380c2c62",
   "outputs": [
    {
     "data": {
      "text/plain": [
       "0        [song]\n",
       "1        [song]\n",
       "2        [song]\n",
       "3        [call]\n",
       "4        [song]\n",
       "          ...  \n",
       "24274    [call]\n",
       "24275    [song]\n",
       "24276    [call]\n",
       "24277    [call]\n",
       "24278    [song]\n",
       "Name: type, Length: 24279, dtype: object"
      ]
     },
     "execution_count": 9,
     "metadata": {},
     "output_type": "execute_result"
    }
   ],
   "execution_count": 9
  },
  {
   "metadata": {},
   "cell_type": "code",
   "outputs": [],
   "execution_count": null,
   "source": "",
   "id": "688f5ed76601c575"
  }
 ],
 "metadata": {
  "kernelspec": {
   "display_name": "Python 3",
   "language": "python",
   "name": "python3"
  },
  "language_info": {
   "codemirror_mode": {
    "name": "ipython",
    "version": 2
   },
   "file_extension": ".py",
   "mimetype": "text/x-python",
   "name": "python",
   "nbconvert_exporter": "python",
   "pygments_lexer": "ipython2",
   "version": "2.7.6"
  }
 },
 "nbformat": 4,
 "nbformat_minor": 5
}
