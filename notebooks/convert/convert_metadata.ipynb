{
 "cells": [
  {
   "metadata": {},
   "cell_type": "markdown",
   "source": [
    "# Convert XC metadata to BirdCLEF metadata\n",
    "\n",
    "Convert metadata scraped from Xeno-Canto to a format used for this competition"
   ],
   "id": "3cccba4a43621888"
  },
  {
   "metadata": {
    "ExecuteTime": {
     "end_time": "2024-05-02T14:40:12.346035Z",
     "start_time": "2024-05-02T14:40:12.343070Z"
    }
   },
   "cell_type": "code",
   "source": [
    "from pathlib import Path\n",
    "import ast\n",
    "from collections import defaultdict\n",
    "from collections.abc import Mapping\n",
    "from typing import Final\n",
    "\n",
    "import pandas as pd\n",
    "\n",
    "RATING_MAP: Final[defaultdict[str, int]] = defaultdict(lambda: 0, {\n",
    "    \"A\": 5,\n",
    "    \"B\": 4,\n",
    "    \"C\": 3,\n",
    "    \"D\": 2,\n",
    "    \"E\": 1,\n",
    "})\n",
    "EBIRD_TAXONOMY_PATH: Final[Path] = Path(\"../data/raw/eBird_Taxonomy_v2021.csv\")\n",
    "\n",
    "# Re-scraped 2024 metadata\n",
    "# XC_METADATA_PATH: Final[Path] = Path(\"./dataset/train_metadata_xc.csv\")\n",
    "# OUT_METADATA_PATH: Final[Path] = Path(\"../data/raw/2024/train_metadata.csv\")\n",
    "# EXTENSION: Final[str] = \".ogg\"\n",
    "\n",
    "# Additional 2024 metadata\n",
    "XC_METADATA_PATH: Final[Path] = Path(\"../data/raw/BirdClef2024_additional.csv\")\n",
    "OUT_METADATA_PATH: Final[Path] = Path(\"../data/raw/2024-add/train_metadata.csv\")\n",
    "EXTENSION: Final[str] = \".mp3\""
   ],
   "id": "1bf84269af6f6d2f",
   "outputs": [],
   "execution_count": 46
  },
  {
   "metadata": {
    "ExecuteTime": {
     "end_time": "2024-05-02T14:40:12.650262Z",
     "start_time": "2024-05-02T14:40:12.619731Z"
    }
   },
   "cell_type": "code",
   "source": [
    "# Retrieve mapping from scientific name to birdcode\n",
    "ebird_taxonomy = pd.read_csv(EBIRD_TAXONOMY_PATH, usecols=[\"SPECIES_CODE\", \"SCI_NAME\"])\n",
    "\n",
    "scientific_name_to_birdcode: Mapping[str, str] = ebird_taxonomy.set_index(\"SCI_NAME\").to_dict()[\"SPECIES_CODE\"] | {\"Spilopelia senegalensis\": \"laudov1\", \"Spilopelia chinensis\": \"spodov\", \"Acritillas indica\": \"yebbul3\"}"
   ],
   "id": "1d04bc58d6885a0",
   "outputs": [],
   "execution_count": 47
  },
  {
   "metadata": {
    "ExecuteTime": {
     "end_time": "2024-05-02T14:40:23.875542Z",
     "start_time": "2024-05-02T14:40:23.477384Z"
    }
   },
   "cell_type": "code",
   "source": [
    "# Read XC metadata and rename columns that map one-to-one to columns in train_metadata\n",
    "metadata = pd.read_csv(XC_METADATA_PATH, usecols=[\"id\", \"gen\", \"sp\", \"en\", \"rec\", \"lat\", \"lng\", \"type\", \"url\", \"lic\", \"q\", \"also\"]).rename(columns={\n",
    "    \"en\": \"common_name\",\n",
    "    \"rec\": \"author\",\n",
    "    \"lat\": \"latitude\",\n",
    "    \"lng\": \"longitude\",\n",
    "    \"lic\": \"license\",\n",
    "})\n",
    "\n",
    "# Add all other columns\n",
    "metadata[\"scientific_name\"] = (metadata[\"gen\"].fillna(\"\") + \" \" + metadata[\"sp\"].fillna(\"\")).str.strip()\n",
    "metadata[\"type\"] = metadata[\"type\"].fillna(\"\").str.split(\", \")\n",
    "metadata[\"primary_label\"] = metadata[\"scientific_name\"].map(scientific_name_to_birdcode)\n",
    "metadata[\"secondary_labels\"] = metadata[\"also\"].map(lambda l: [scientific_name_to_birdcode[x] for x in ast.literal_eval(l) if x in scientific_name_to_birdcode])\n",
    "metadata[\"url\"] = \"https:\" + metadata[\"url\"]\n",
    "metadata[\"filename\"] = (metadata[\"primary_label\"] + \"/XC\" + metadata[\"id\"].astype(str) + EXTENSION)\n",
    "metadata[\"rating\"] = metadata[\"q\"].map(RATING_MAP)\n",
    "metadata = metadata.drop(columns=[\"id\", \"q\", \"also\"]).sort_values(\"filename\").reindex(columns=[\n",
    "    \"primary_label\", \"secondary_labels\", \"type\", \"latitude\", \"longitude\", \"scientific_name\", \"common_name\", \"author\", \"license\", \"rating\", \"url\",  \"filename\"\n",
    "])\n",
    "\n",
    "metadata.head()"
   ],
   "id": "2fa5c732380c2c62",
   "outputs": [
    {
     "data": {
      "text/plain": [
       "     primary_label secondary_labels          type   latitude   longitude  \\\n",
       "6382        asbfly        [salwar1]  [call, song]  43.652400  142.797800   \n",
       "6361        asbfly        [putbab1]        [call]  10.556700   98.566400   \n",
       "6383        asbfly               []        [call]  14.750100  106.066700   \n",
       "6360        asbfly               []        [song]  43.725637  142.805428   \n",
       "6338        asbfly               []        [song]  43.615421  143.348494   \n",
       "\n",
       "         scientific_name             common_name              author  \\\n",
       "6382  Muscicapa dauurica  Asian Brown Flycatcher       Frank Lambert   \n",
       "6361  Muscicapa dauurica  Asian Brown Flycatcher  Martjan Lammertink   \n",
       "6383  Muscicapa dauurica  Asian Brown Flycatcher     Wouter Halfwerk   \n",
       "6360  Muscicapa dauurica  Asian Brown Flycatcher       Peter Boesman   \n",
       "6338  Muscicapa dauurica  Asian Brown Flycatcher       Peter Boesman   \n",
       "\n",
       "                                           license  rating  \\\n",
       "6382  //creativecommons.org/licenses/by-nc-nd/4.0/       2   \n",
       "6361  //creativecommons.org/licenses/by-nc-nd/2.5/       4   \n",
       "6383  //creativecommons.org/licenses/by-nc-nd/2.5/       1   \n",
       "6360  //creativecommons.org/licenses/by-nc-nd/4.0/       4   \n",
       "6338  //creativecommons.org/licenses/by-nc-nd/4.0/       5   \n",
       "\n",
       "                                url             filename  \n",
       "6382  https://xeno-canto.org/155673  asbfly/XC155673.mp3  \n",
       "6361   https://xeno-canto.org/26046   asbfly/XC26046.mp3  \n",
       "6383   https://xeno-canto.org/27245   asbfly/XC27245.mp3  \n",
       "6360  https://xeno-canto.org/286199  asbfly/XC286199.mp3  \n",
       "6338  https://xeno-canto.org/286212  asbfly/XC286212.mp3  "
      ],
      "text/html": [
       "<div>\n",
       "<style scoped>\n",
       "    .dataframe tbody tr th:only-of-type {\n",
       "        vertical-align: middle;\n",
       "    }\n",
       "\n",
       "    .dataframe tbody tr th {\n",
       "        vertical-align: top;\n",
       "    }\n",
       "\n",
       "    .dataframe thead th {\n",
       "        text-align: right;\n",
       "    }\n",
       "</style>\n",
       "<table border=\"1\" class=\"dataframe\">\n",
       "  <thead>\n",
       "    <tr style=\"text-align: right;\">\n",
       "      <th></th>\n",
       "      <th>primary_label</th>\n",
       "      <th>secondary_labels</th>\n",
       "      <th>type</th>\n",
       "      <th>latitude</th>\n",
       "      <th>longitude</th>\n",
       "      <th>scientific_name</th>\n",
       "      <th>common_name</th>\n",
       "      <th>author</th>\n",
       "      <th>license</th>\n",
       "      <th>rating</th>\n",
       "      <th>url</th>\n",
       "      <th>filename</th>\n",
       "    </tr>\n",
       "  </thead>\n",
       "  <tbody>\n",
       "    <tr>\n",
       "      <th>6382</th>\n",
       "      <td>asbfly</td>\n",
       "      <td>[salwar1]</td>\n",
       "      <td>[call, song]</td>\n",
       "      <td>43.652400</td>\n",
       "      <td>142.797800</td>\n",
       "      <td>Muscicapa dauurica</td>\n",
       "      <td>Asian Brown Flycatcher</td>\n",
       "      <td>Frank Lambert</td>\n",
       "      <td>//creativecommons.org/licenses/by-nc-nd/4.0/</td>\n",
       "      <td>2</td>\n",
       "      <td>https://xeno-canto.org/155673</td>\n",
       "      <td>asbfly/XC155673.mp3</td>\n",
       "    </tr>\n",
       "    <tr>\n",
       "      <th>6361</th>\n",
       "      <td>asbfly</td>\n",
       "      <td>[putbab1]</td>\n",
       "      <td>[call]</td>\n",
       "      <td>10.556700</td>\n",
       "      <td>98.566400</td>\n",
       "      <td>Muscicapa dauurica</td>\n",
       "      <td>Asian Brown Flycatcher</td>\n",
       "      <td>Martjan Lammertink</td>\n",
       "      <td>//creativecommons.org/licenses/by-nc-nd/2.5/</td>\n",
       "      <td>4</td>\n",
       "      <td>https://xeno-canto.org/26046</td>\n",
       "      <td>asbfly/XC26046.mp3</td>\n",
       "    </tr>\n",
       "    <tr>\n",
       "      <th>6383</th>\n",
       "      <td>asbfly</td>\n",
       "      <td>[]</td>\n",
       "      <td>[call]</td>\n",
       "      <td>14.750100</td>\n",
       "      <td>106.066700</td>\n",
       "      <td>Muscicapa dauurica</td>\n",
       "      <td>Asian Brown Flycatcher</td>\n",
       "      <td>Wouter Halfwerk</td>\n",
       "      <td>//creativecommons.org/licenses/by-nc-nd/2.5/</td>\n",
       "      <td>1</td>\n",
       "      <td>https://xeno-canto.org/27245</td>\n",
       "      <td>asbfly/XC27245.mp3</td>\n",
       "    </tr>\n",
       "    <tr>\n",
       "      <th>6360</th>\n",
       "      <td>asbfly</td>\n",
       "      <td>[]</td>\n",
       "      <td>[song]</td>\n",
       "      <td>43.725637</td>\n",
       "      <td>142.805428</td>\n",
       "      <td>Muscicapa dauurica</td>\n",
       "      <td>Asian Brown Flycatcher</td>\n",
       "      <td>Peter Boesman</td>\n",
       "      <td>//creativecommons.org/licenses/by-nc-nd/4.0/</td>\n",
       "      <td>4</td>\n",
       "      <td>https://xeno-canto.org/286199</td>\n",
       "      <td>asbfly/XC286199.mp3</td>\n",
       "    </tr>\n",
       "    <tr>\n",
       "      <th>6338</th>\n",
       "      <td>asbfly</td>\n",
       "      <td>[]</td>\n",
       "      <td>[song]</td>\n",
       "      <td>43.615421</td>\n",
       "      <td>143.348494</td>\n",
       "      <td>Muscicapa dauurica</td>\n",
       "      <td>Asian Brown Flycatcher</td>\n",
       "      <td>Peter Boesman</td>\n",
       "      <td>//creativecommons.org/licenses/by-nc-nd/4.0/</td>\n",
       "      <td>5</td>\n",
       "      <td>https://xeno-canto.org/286212</td>\n",
       "      <td>asbfly/XC286212.mp3</td>\n",
       "    </tr>\n",
       "  </tbody>\n",
       "</table>\n",
       "</div>"
      ]
     },
     "execution_count": 48,
     "metadata": {},
     "output_type": "execute_result"
    }
   ],
   "execution_count": 48
  },
  {
   "metadata": {},
   "cell_type": "markdown",
   "source": [
    "# Merge re-scraped metadata with metadata from the competition\n",
    "Since 542 audio files have been removed from Xeno-Canto, but are still present in our dataset, we have to merge the missing data from the BirdCLEF 2024 data into the new dataframe. \n",
    "\n",
    "SKIP THE NEXT BLOCK IF YOU USE ANY OTHER DATASET"
   ],
   "id": "e07e804c21e88fd6"
  },
  {
   "metadata": {
    "ExecuteTime": {
     "end_time": "2024-05-02T13:13:01.699093Z",
     "start_time": "2024-05-02T13:13:01.567814Z"
    }
   },
   "cell_type": "code",
   "source": [
    "BIRDCLEF_2024_METADATA_PATH: Final[Path] = Path(\"../data/raw/train_metadata.csv\")\n",
    "\n",
    "birdclef_2024_metadata = pd.read_csv(BIRDCLEF_2024_METADATA_PATH)\n",
    "\n",
    "metadata = metadata.combine_first(birdclef_2024_metadata).sort_values(\"filename\")\n",
    "\n",
    "species_birdclef = set(birdclef_2024_metadata[\"primary_label\"])\n",
    "species_meta = set(metadata[\"primary_label\"])\n",
    "species_birdclef - species_meta"
   ],
   "id": "800c34943e315caa",
   "outputs": [
    {
     "data": {
      "text/plain": [
       "set()"
      ]
     },
     "execution_count": 36,
     "metadata": {},
     "output_type": "execute_result"
    }
   ],
   "execution_count": 36
  },
  {
   "metadata": {
    "ExecuteTime": {
     "end_time": "2024-05-02T14:40:26.918803Z",
     "start_time": "2024-05-02T14:40:26.822318Z"
    }
   },
   "cell_type": "code",
   "source": [
    "metadata.to_csv(OUT_METADATA_PATH, index=False)\n",
    "metadata.shape"
   ],
   "id": "688f5ed76601c575",
   "outputs": [
    {
     "data": {
      "text/plain": [
       "(24279, 12)"
      ]
     },
     "execution_count": 49,
     "metadata": {},
     "output_type": "execute_result"
    }
   ],
   "execution_count": 49
  }
 ],
 "metadata": {
  "kernelspec": {
   "display_name": "Python 3",
   "language": "python",
   "name": "python3"
  },
  "language_info": {
   "codemirror_mode": {
    "name": "ipython",
    "version": 2
   },
   "file_extension": ".py",
   "mimetype": "text/x-python",
   "name": "python",
   "nbconvert_exporter": "python",
   "pygments_lexer": "ipython2",
   "version": "2.7.6"
  }
 },
 "nbformat": 4,
 "nbformat_minor": 5
}
