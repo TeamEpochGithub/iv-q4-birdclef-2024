{
 "cells": [
  {
   "cell_type": "code",
   "execution_count": 1,
   "id": "242fbbbab492b43a",
   "metadata": {
    "ExecuteTime": {
     "end_time": "2024-05-13T14:25:02.731391Z",
     "start_time": "2024-05-13T14:25:02.728982Z"
    }
   },
   "outputs": [],
   "source": [
    "import pandas as pd\n",
    "import numpy as np\n",
    "import glob\n",
    "import librosa\n",
    "import torchaudio.transforms\n",
    "from tqdm.notebook import tqdm\n",
    "from matplotlib import pyplot as plt\n",
    "import torch\n",
    "import torchaudio\n",
    "import os"
   ]
  },
  {
   "cell_type": "code",
   "execution_count": 2,
   "id": "initial_id",
   "metadata": {
    "ExecuteTime": {
     "end_time": "2024-05-13T14:25:02.738498Z",
     "start_time": "2024-05-13T14:25:02.736533Z"
    },
    "collapsed": true
   },
   "outputs": [],
   "source": [
    "DATASET_PATH = '../data/raw/kenya'"
   ]
  },
  {
   "cell_type": "code",
   "execution_count": 3,
   "id": "5074f696c7b30ce2",
   "metadata": {
    "ExecuteTime": {
     "end_time": "2024-05-13T14:25:02.741311Z",
     "start_time": "2024-05-13T14:25:02.739479Z"
    }
   },
   "outputs": [],
   "source": [
    "SR = 32000"
   ]
  },
  {
   "cell_type": "code",
   "execution_count": 4,
   "id": "2f806f0cfefae9d9",
   "metadata": {
    "ExecuteTime": {
     "end_time": "2024-05-13T14:25:02.764519Z",
     "start_time": "2024-05-13T14:25:02.750518Z"
    }
   },
   "outputs": [
    {
     "data": {
      "text/html": [
       "<div>\n",
       "<style scoped>\n",
       "    .dataframe tbody tr th:only-of-type {\n",
       "        vertical-align: middle;\n",
       "    }\n",
       "\n",
       "    .dataframe tbody tr th {\n",
       "        vertical-align: top;\n",
       "    }\n",
       "\n",
       "    .dataframe thead th {\n",
       "        text-align: right;\n",
       "    }\n",
       "</style>\n",
       "<table border=\"1\" class=\"dataframe\">\n",
       "  <thead>\n",
       "    <tr style=\"text-align: right;\">\n",
       "      <th></th>\n",
       "      <th>Filename</th>\n",
       "      <th>Start Time (s)</th>\n",
       "      <th>End Time (s)</th>\n",
       "      <th>Species eBird Code</th>\n",
       "    </tr>\n",
       "  </thead>\n",
       "  <tbody>\n",
       "    <tr>\n",
       "      <th>0</th>\n",
       "      <td>KEN_001_20211207_153852.flac</td>\n",
       "      <td>67.8</td>\n",
       "      <td>67.8</td>\n",
       "      <td>slcbou1</td>\n",
       "    </tr>\n",
       "    <tr>\n",
       "      <th>1</th>\n",
       "      <td>KEN_001_20211207_153852.flac</td>\n",
       "      <td>106.8</td>\n",
       "      <td>106.8</td>\n",
       "      <td>slcbou1</td>\n",
       "    </tr>\n",
       "    <tr>\n",
       "      <th>2</th>\n",
       "      <td>KEN_001_20211207_153852.flac</td>\n",
       "      <td>107.5</td>\n",
       "      <td>107.5</td>\n",
       "      <td>hamerk1</td>\n",
       "    </tr>\n",
       "    <tr>\n",
       "      <th>3</th>\n",
       "      <td>KEN_001_20211207_153852.flac</td>\n",
       "      <td>118.4</td>\n",
       "      <td>118.4</td>\n",
       "      <td>slcbou1</td>\n",
       "    </tr>\n",
       "    <tr>\n",
       "      <th>4</th>\n",
       "      <td>KEN_001_20211207_153852.flac</td>\n",
       "      <td>209.1</td>\n",
       "      <td>209.1</td>\n",
       "      <td>hamerk1</td>\n",
       "    </tr>\n",
       "  </tbody>\n",
       "</table>\n",
       "</div>"
      ],
      "text/plain": [
       "                       Filename  Start Time (s)  End Time (s)  \\\n",
       "0  KEN_001_20211207_153852.flac            67.8          67.8   \n",
       "1  KEN_001_20211207_153852.flac           106.8         106.8   \n",
       "2  KEN_001_20211207_153852.flac           107.5         107.5   \n",
       "3  KEN_001_20211207_153852.flac           118.4         118.4   \n",
       "4  KEN_001_20211207_153852.flac           209.1         209.1   \n",
       "\n",
       "  Species eBird Code  \n",
       "0            slcbou1  \n",
       "1            slcbou1  \n",
       "2            hamerk1  \n",
       "3            slcbou1  \n",
       "4            hamerk1  "
      ]
     },
     "execution_count": 4,
     "metadata": {},
     "output_type": "execute_result"
    }
   ],
   "source": [
    "meta = pd.read_csv(f'{DATASET_PATH}/annotations.csv')\n",
    "meta.head()"
   ]
  },
  {
   "cell_type": "code",
   "execution_count": 5,
   "id": "f35368f6fce00e16",
   "metadata": {
    "ExecuteTime": {
     "end_time": "2024-05-13T15:15:24.711872Z",
     "start_time": "2024-05-13T15:15:24.706486Z"
    }
   },
   "outputs": [
    {
     "data": {
      "text/plain": [
       "Species eBird Code\n",
       "combul2    702\n",
       "reccor     508\n",
       "rbsrob1    494\n",
       "wbswea1    469\n",
       "gnbcam2    406\n",
       "          ... \n",
       "yeccan1      1\n",
       "whbcan1      1\n",
       "chespa1      1\n",
       "brcsta1      1\n",
       "lawgol       1\n",
       "Name: count, Length: 176, dtype: int64"
      ]
     },
     "execution_count": 5,
     "metadata": {},
     "output_type": "execute_result"
    }
   ],
   "source": [
    "meta.iloc[:,3].value_counts()"
   ]
  },
  {
   "cell_type": "markdown",
   "id": "bc18335aa206d0a2",
   "metadata": {},
   "source": [
    "# Convert Zenodo dataset to 5sec format\n",
    "Assumes format from 2023 competition Kenya dataset, which has start=end time"
   ]
  },
  {
   "cell_type": "code",
   "execution_count": 6,
   "id": "bb722a643f4370d1",
   "metadata": {
    "ExecuteTime": {
     "end_time": "2024-05-13T14:25:03.116709Z",
     "start_time": "2024-05-13T14:25:02.765593Z"
    }
   },
   "outputs": [
    {
     "name": "stderr",
     "output_type": "stream",
     "text": [
      "/tmp/ipykernel_1579765/3181335996.py:27: DeprecationWarning: DataFrameGroupBy.apply operated on the grouping columns. This behavior is deprecated, and in a future version of pandas the grouping columns will be excluded from the operation. Either pass `include_groups=False` to exclude the groupings or explicitly select the grouping columns after groupby to silence this warning.\n",
      "  meta_5s = meta.groupby('Filename').apply(process_file).reset_index(drop=True)\n"
     ]
    },
    {
     "data": {
      "text/html": [
       "<div>\n",
       "<style scoped>\n",
       "    .dataframe tbody tr th:only-of-type {\n",
       "        vertical-align: middle;\n",
       "    }\n",
       "\n",
       "    .dataframe tbody tr th {\n",
       "        vertical-align: top;\n",
       "    }\n",
       "\n",
       "    .dataframe thead th {\n",
       "        text-align: right;\n",
       "    }\n",
       "</style>\n",
       "<table border=\"1\" class=\"dataframe\">\n",
       "  <thead>\n",
       "    <tr style=\"text-align: right;\">\n",
       "      <th></th>\n",
       "      <th>filename</th>\n",
       "      <th>offset</th>\n",
       "      <th>labels</th>\n",
       "    </tr>\n",
       "  </thead>\n",
       "  <tbody>\n",
       "    <tr>\n",
       "      <th>0</th>\n",
       "      <td>KEN_001_20211207_153852_0.ogg</td>\n",
       "      <td>0</td>\n",
       "      <td>[]</td>\n",
       "    </tr>\n",
       "    <tr>\n",
       "      <th>1</th>\n",
       "      <td>KEN_001_20211207_153852_5.ogg</td>\n",
       "      <td>5</td>\n",
       "      <td>[]</td>\n",
       "    </tr>\n",
       "    <tr>\n",
       "      <th>2</th>\n",
       "      <td>KEN_001_20211207_153852_10.ogg</td>\n",
       "      <td>10</td>\n",
       "      <td>[]</td>\n",
       "    </tr>\n",
       "    <tr>\n",
       "      <th>3</th>\n",
       "      <td>KEN_001_20211207_153852_15.ogg</td>\n",
       "      <td>15</td>\n",
       "      <td>[]</td>\n",
       "    </tr>\n",
       "    <tr>\n",
       "      <th>4</th>\n",
       "      <td>KEN_001_20211207_153852_20.ogg</td>\n",
       "      <td>20</td>\n",
       "      <td>[]</td>\n",
       "    </tr>\n",
       "  </tbody>\n",
       "</table>\n",
       "</div>"
      ],
      "text/plain": [
       "                         filename  offset labels\n",
       "0   KEN_001_20211207_153852_0.ogg       0     []\n",
       "1   KEN_001_20211207_153852_5.ogg       5     []\n",
       "2  KEN_001_20211207_153852_10.ogg      10     []\n",
       "3  KEN_001_20211207_153852_15.ogg      15     []\n",
       "4  KEN_001_20211207_153852_20.ogg      20     []"
      ]
     },
     "execution_count": 6,
     "metadata": {},
     "output_type": "execute_result"
    }
   ],
   "source": [
    "SEG_LEN = 5\n",
    "def process_file(group: pd.DataFrame):\n",
    "    last_event = group['Start Time (s)'].max()\n",
    "    num_segments = int(last_event // SEG_LEN + 1)\n",
    "    \n",
    "    \n",
    "    # create labels list\n",
    "    label_bins = [list() for _ in range(num_segments)]\n",
    "    for idx, row in group.iterrows():\n",
    "        bin = int(row.iloc[1] // SEG_LEN)\n",
    "        bird = row.iloc[3]\n",
    "        if bird not in label_bins[bin]:\n",
    "            label_bins[bin].append(bird)\n",
    "        \n",
    "    # create new dataframe\n",
    "    filename = group.iloc[0,0]\n",
    "    offsets = np.arange(0,num_segments)*SEG_LEN\n",
    "    filenames = [f'{filename[:-5]}_{o}.ogg' for o in offsets]\n",
    "    labels = [str(l) for l in label_bins]\n",
    "    \n",
    "    return pd.DataFrame({\n",
    "        'filename': filenames,\n",
    "        'offset': offsets,\n",
    "        'labels': labels\n",
    "    })\n",
    "\n",
    "meta_5s = meta.groupby('Filename').apply(process_file).reset_index(drop=True)\n",
    "meta_5s.head()"
   ]
  },
  {
   "cell_type": "code",
   "execution_count": 7,
   "id": "5742968dea1bcff9",
   "metadata": {
    "ExecuteTime": {
     "end_time": "2024-05-13T14:25:04.560788Z",
     "start_time": "2024-05-13T14:25:03.117504Z"
    }
   },
   "outputs": [
    {
     "data": {
      "text/html": [
       "<div>\n",
       "<style scoped>\n",
       "    .dataframe tbody tr th:only-of-type {\n",
       "        vertical-align: middle;\n",
       "    }\n",
       "\n",
       "    .dataframe tbody tr th {\n",
       "        vertical-align: top;\n",
       "    }\n",
       "\n",
       "    .dataframe thead th {\n",
       "        text-align: right;\n",
       "    }\n",
       "</style>\n",
       "<table border=\"1\" class=\"dataframe\">\n",
       "  <thead>\n",
       "    <tr style=\"text-align: right;\">\n",
       "      <th></th>\n",
       "      <th>filename</th>\n",
       "      <th>offset</th>\n",
       "      <th>labels</th>\n",
       "      <th>rating</th>\n",
       "      <th>primary_label</th>\n",
       "    </tr>\n",
       "  </thead>\n",
       "  <tbody>\n",
       "    <tr>\n",
       "      <th>0</th>\n",
       "      <td>KEN_001_20211207_153852_0.ogg</td>\n",
       "      <td>0</td>\n",
       "      <td>[]</td>\n",
       "      <td>5</td>\n",
       "      <td>silent</td>\n",
       "    </tr>\n",
       "    <tr>\n",
       "      <th>1</th>\n",
       "      <td>KEN_001_20211207_153852_5.ogg</td>\n",
       "      <td>5</td>\n",
       "      <td>[]</td>\n",
       "      <td>5</td>\n",
       "      <td>silent</td>\n",
       "    </tr>\n",
       "    <tr>\n",
       "      <th>2</th>\n",
       "      <td>KEN_001_20211207_153852_10.ogg</td>\n",
       "      <td>10</td>\n",
       "      <td>[]</td>\n",
       "      <td>5</td>\n",
       "      <td>silent</td>\n",
       "    </tr>\n",
       "    <tr>\n",
       "      <th>3</th>\n",
       "      <td>KEN_001_20211207_153852_15.ogg</td>\n",
       "      <td>15</td>\n",
       "      <td>[]</td>\n",
       "      <td>5</td>\n",
       "      <td>silent</td>\n",
       "    </tr>\n",
       "    <tr>\n",
       "      <th>4</th>\n",
       "      <td>KEN_001_20211207_153852_20.ogg</td>\n",
       "      <td>20</td>\n",
       "      <td>[]</td>\n",
       "      <td>5</td>\n",
       "      <td>silent</td>\n",
       "    </tr>\n",
       "  </tbody>\n",
       "</table>\n",
       "</div>"
      ],
      "text/plain": [
       "                         filename  offset labels  rating primary_label\n",
       "0   KEN_001_20211207_153852_0.ogg       0     []       5        silent\n",
       "1   KEN_001_20211207_153852_5.ogg       5     []       5        silent\n",
       "2  KEN_001_20211207_153852_10.ogg      10     []       5        silent\n",
       "3  KEN_001_20211207_153852_15.ogg      15     []       5        silent\n",
       "4  KEN_001_20211207_153852_20.ogg      20     []       5        silent"
      ]
     },
     "execution_count": 7,
     "metadata": {},
     "output_type": "execute_result"
    }
   ],
   "source": [
    "import ast\n",
    "\n",
    "# Set the primary label, arbitrarily selects a bird, can be used for splitter\n",
    "def set_primary(row):\n",
    "    labels = ast.literal_eval(row['labels'])\n",
    "    if len(labels) > 0:\n",
    "        row['primary_label'] = labels[0]\n",
    "    return row\n",
    "\n",
    "meta_5s['rating'] = 5\n",
    "meta_5s['primary_label'] = 'silent'\n",
    "meta_5s = meta_5s.apply(set_primary, axis=1)\n",
    "meta_5s.head()"
   ]
  },
  {
   "cell_type": "code",
   "execution_count": 8,
   "id": "71f6883fdd0d0dd",
   "metadata": {
    "ExecuteTime": {
     "end_time": "2024-05-13T14:25:04.568392Z",
     "start_time": "2024-05-13T14:25:04.561768Z"
    }
   },
   "outputs": [
    {
     "data": {
      "text/html": [
       "<div>\n",
       "<style scoped>\n",
       "    .dataframe tbody tr th:only-of-type {\n",
       "        vertical-align: middle;\n",
       "    }\n",
       "\n",
       "    .dataframe tbody tr th {\n",
       "        vertical-align: top;\n",
       "    }\n",
       "\n",
       "    .dataframe thead th {\n",
       "        text-align: right;\n",
       "    }\n",
       "</style>\n",
       "<table border=\"1\" class=\"dataframe\">\n",
       "  <thead>\n",
       "    <tr style=\"text-align: right;\">\n",
       "      <th></th>\n",
       "      <th>filename</th>\n",
       "      <th>offset</th>\n",
       "      <th>labels</th>\n",
       "      <th>rating</th>\n",
       "      <th>primary_label</th>\n",
       "    </tr>\n",
       "  </thead>\n",
       "  <tbody>\n",
       "    <tr>\n",
       "      <th>13</th>\n",
       "      <td>KEN_001_20211207_153852_65.ogg</td>\n",
       "      <td>65</td>\n",
       "      <td>['slcbou1']</td>\n",
       "      <td>5</td>\n",
       "      <td>slcbou1</td>\n",
       "    </tr>\n",
       "    <tr>\n",
       "      <th>21</th>\n",
       "      <td>KEN_001_20211207_153852_105.ogg</td>\n",
       "      <td>105</td>\n",
       "      <td>['slcbou1', 'hamerk1']</td>\n",
       "      <td>5</td>\n",
       "      <td>slcbou1</td>\n",
       "    </tr>\n",
       "    <tr>\n",
       "      <th>23</th>\n",
       "      <td>KEN_001_20211207_153852_115.ogg</td>\n",
       "      <td>115</td>\n",
       "      <td>['slcbou1']</td>\n",
       "      <td>5</td>\n",
       "      <td>slcbou1</td>\n",
       "    </tr>\n",
       "    <tr>\n",
       "      <th>41</th>\n",
       "      <td>KEN_001_20211207_153852_205.ogg</td>\n",
       "      <td>205</td>\n",
       "      <td>['hamerk1']</td>\n",
       "      <td>5</td>\n",
       "      <td>hamerk1</td>\n",
       "    </tr>\n",
       "    <tr>\n",
       "      <th>42</th>\n",
       "      <td>KEN_001_20211207_153852_210.ogg</td>\n",
       "      <td>210</td>\n",
       "      <td>['hamerk1']</td>\n",
       "      <td>5</td>\n",
       "      <td>hamerk1</td>\n",
       "    </tr>\n",
       "  </tbody>\n",
       "</table>\n",
       "</div>"
      ],
      "text/plain": [
       "                           filename  offset                  labels  rating  \\\n",
       "13   KEN_001_20211207_153852_65.ogg      65             ['slcbou1']       5   \n",
       "21  KEN_001_20211207_153852_105.ogg     105  ['slcbou1', 'hamerk1']       5   \n",
       "23  KEN_001_20211207_153852_115.ogg     115             ['slcbou1']       5   \n",
       "41  KEN_001_20211207_153852_205.ogg     205             ['hamerk1']       5   \n",
       "42  KEN_001_20211207_153852_210.ogg     210             ['hamerk1']       5   \n",
       "\n",
       "   primary_label  \n",
       "13       slcbou1  \n",
       "21       slcbou1  \n",
       "23       slcbou1  \n",
       "41       hamerk1  \n",
       "42       hamerk1  "
      ]
     },
     "execution_count": 8,
     "metadata": {},
     "output_type": "execute_result"
    }
   ],
   "source": [
    "meta_5s[meta_5s['labels'] != '[]'].head()"
   ]
  },
  {
   "cell_type": "code",
   "execution_count": 9,
   "id": "540c623fad328803",
   "metadata": {
    "ExecuteTime": {
     "end_time": "2024-05-13T14:25:04.600380Z",
     "start_time": "2024-05-13T14:25:04.568982Z"
    }
   },
   "outputs": [],
   "source": [
    "meta_5s.to_csv(f'{DATASET_PATH}/train_metadata.csv', index=False)"
   ]
  },
  {
   "cell_type": "markdown",
   "id": "79213ef329fff658",
   "metadata": {},
   "source": [
    "# Create 5 sec segments"
   ]
  },
  {
   "cell_type": "code",
   "execution_count": 10,
   "id": "64b1678f2149a0a0",
   "metadata": {
    "ExecuteTime": {
     "end_time": "2024-05-13T14:25:08.530980Z",
     "start_time": "2024-05-13T14:25:04.601220Z"
    }
   },
   "outputs": [
    {
     "data": {
      "application/vnd.jupyter.widget-view+json": {
       "model_id": "cc2b6fd486e34e72a04f676e5ae622b0",
       "version_major": 2,
       "version_minor": 0
      },
      "text/plain": [
       "  0%|          | 0/23209 [00:00<?, ?it/s]"
      ]
     },
     "metadata": {},
     "output_type": "display_data"
    }
   ],
   "source": [
    "import soundfile as sf\n",
    "\n",
    "if not os.path.exists(f'{DATASET_PATH}/train_audio'):\n",
    "    os.makedirs(f'{DATASET_PATH}/train_audio')\n",
    "\n",
    "audio_loaded = None\n",
    "audio_loaded_name = None\n",
    "for i, row in tqdm(meta_5s.iterrows(), total=len(meta_5s)):\n",
    "    source_file = '_'.join(row['filename'].split('_')[:-1])\n",
    "    target_file = f'{DATASET_PATH}/train_audio/{row[\"filename\"]}.ogg'\n",
    "    if os.path.exists(target_file):\n",
    "        continue   \n",
    "    \n",
    "    if audio_loaded_name != source_file:\n",
    "        audio_loaded, _  = librosa.load(f'{DATASET_PATH}/soundscape_data/{source_file}.flac', sr= SR)\n",
    "        audio_loaded_name = source_file\n",
    "    \n",
    "    # select segment by offset\n",
    "    offset = row['offset'] * SR\n",
    "    audio = audio_loaded[offset:offset+min(len(audio_loaded), SR*SEG_LEN)]\n",
    "    \n",
    "    # crop or pad\n",
    "    if len(audio) > SR * SEG_LEN:\n",
    "        audio = audio[:SR * SEG_LEN]\n",
    "    if len(audio) < SR * SEG_LEN:\n",
    "        audio = np.pad(audio, (0, SR * SEG_LEN - len(audio)))\n",
    "    \n",
    "    # save audio to ogg\n",
    "    sf.write(target_file[:-4], audio, SR, format='ogg')"
   ]
  }
 ],
 "metadata": {
  "kernelspec": {
   "display_name": "Python 3",
   "language": "python",
   "name": "python3"
  },
  "language_info": {
   "codemirror_mode": {
    "name": "ipython",
    "version": 3
   },
   "file_extension": ".py",
   "mimetype": "text/x-python",
   "name": "python",
   "nbconvert_exporter": "python",
   "pygments_lexer": "ipython3",
   "version": "3.10.12"
  }
 },
 "nbformat": 4,
 "nbformat_minor": 5
}
