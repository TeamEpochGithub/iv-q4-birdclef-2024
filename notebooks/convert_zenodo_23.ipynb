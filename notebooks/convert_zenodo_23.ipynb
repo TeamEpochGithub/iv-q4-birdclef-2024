{
 "cells": [
  {
   "cell_type": "code",
   "execution_count": 50,
   "id": "242fbbbab492b43a",
   "metadata": {
    "ExecuteTime": {
     "end_time": "2024-05-13T14:25:02.731391Z",
     "start_time": "2024-05-13T14:25:02.728982Z"
    }
   },
   "outputs": [],
   "source": [
    "import pandas as pd\n",
    "import numpy as np\n",
    "import glob\n",
    "import librosa\n",
    "import torchaudio.transforms\n",
    "from tqdm.notebook import tqdm\n",
    "from matplotlib import pyplot as plt\n",
    "import torch\n",
    "import torchaudio\n",
    "import os"
   ]
  },
  {
   "cell_type": "code",
   "execution_count": 51,
   "id": "initial_id",
   "metadata": {
    "ExecuteTime": {
     "end_time": "2024-05-13T14:25:02.738498Z",
     "start_time": "2024-05-13T14:25:02.736533Z"
    },
    "collapsed": true
   },
   "outputs": [],
   "source": [
    "DATASET_PATH = '../data/raw/kenya'"
   ]
  },
  {
   "cell_type": "code",
   "execution_count": 52,
   "id": "5074f696c7b30ce2",
   "metadata": {
    "ExecuteTime": {
     "end_time": "2024-05-13T14:25:02.741311Z",
     "start_time": "2024-05-13T14:25:02.739479Z"
    }
   },
   "outputs": [],
   "source": [
    "SR = 32000"
   ]
  },
  {
   "cell_type": "code",
   "execution_count": 53,
   "id": "2f806f0cfefae9d9",
   "metadata": {
    "ExecuteTime": {
     "end_time": "2024-05-13T14:25:02.764519Z",
     "start_time": "2024-05-13T14:25:02.750518Z"
    }
   },
   "outputs": [
    {
     "data": {
      "text/html": [
       "<div>\n",
       "<style scoped>\n",
       "    .dataframe tbody tr th:only-of-type {\n",
       "        vertical-align: middle;\n",
       "    }\n",
       "\n",
       "    .dataframe tbody tr th {\n",
       "        vertical-align: top;\n",
       "    }\n",
       "\n",
       "    .dataframe thead th {\n",
       "        text-align: right;\n",
       "    }\n",
       "</style>\n",
       "<table border=\"1\" class=\"dataframe\">\n",
       "  <thead>\n",
       "    <tr style=\"text-align: right;\">\n",
       "      <th></th>\n",
       "      <th>Filename</th>\n",
       "      <th>Start Time (s)</th>\n",
       "      <th>End Time (s)</th>\n",
       "      <th>Species eBird Code</th>\n",
       "    </tr>\n",
       "  </thead>\n",
       "  <tbody>\n",
       "    <tr>\n",
       "      <th>0</th>\n",
       "      <td>KEN_001_20211207_153852.flac</td>\n",
       "      <td>67.8</td>\n",
       "      <td>67.8</td>\n",
       "      <td>slcbou1</td>\n",
       "    </tr>\n",
       "    <tr>\n",
       "      <th>1</th>\n",
       "      <td>KEN_001_20211207_153852.flac</td>\n",
       "      <td>106.8</td>\n",
       "      <td>106.8</td>\n",
       "      <td>slcbou1</td>\n",
       "    </tr>\n",
       "    <tr>\n",
       "      <th>2</th>\n",
       "      <td>KEN_001_20211207_153852.flac</td>\n",
       "      <td>107.5</td>\n",
       "      <td>107.5</td>\n",
       "      <td>hamerk1</td>\n",
       "    </tr>\n",
       "    <tr>\n",
       "      <th>3</th>\n",
       "      <td>KEN_001_20211207_153852.flac</td>\n",
       "      <td>118.4</td>\n",
       "      <td>118.4</td>\n",
       "      <td>slcbou1</td>\n",
       "    </tr>\n",
       "    <tr>\n",
       "      <th>4</th>\n",
       "      <td>KEN_001_20211207_153852.flac</td>\n",
       "      <td>209.1</td>\n",
       "      <td>209.1</td>\n",
       "      <td>hamerk1</td>\n",
       "    </tr>\n",
       "  </tbody>\n",
       "</table>\n",
       "</div>"
      ],
      "text/plain": [
       "                       Filename  Start Time (s)  End Time (s)  \\\n",
       "0  KEN_001_20211207_153852.flac            67.8          67.8   \n",
       "1  KEN_001_20211207_153852.flac           106.8         106.8   \n",
       "2  KEN_001_20211207_153852.flac           107.5         107.5   \n",
       "3  KEN_001_20211207_153852.flac           118.4         118.4   \n",
       "4  KEN_001_20211207_153852.flac           209.1         209.1   \n",
       "\n",
       "  Species eBird Code  \n",
       "0            slcbou1  \n",
       "1            slcbou1  \n",
       "2            hamerk1  \n",
       "3            slcbou1  \n",
       "4            hamerk1  "
      ]
     },
     "execution_count": 53,
     "metadata": {},
     "output_type": "execute_result"
    }
   ],
   "source": [
    "meta = pd.read_csv(f'{DATASET_PATH}/annotations.csv')\n",
    "meta.head()"
   ]
  },
  {
   "cell_type": "code",
   "execution_count": 59,
   "id": "f35368f6fce00e16",
   "metadata": {
    "ExecuteTime": {
     "end_time": "2024-05-13T15:15:24.711872Z",
     "start_time": "2024-05-13T15:15:24.706486Z"
    }
   },
   "outputs": [
    {
     "data": {
      "text/plain": [
       "Species eBird Code\n",
       "combul2    702\n",
       "reccor     508\n",
       "rbsrob1    494\n",
       "wbswea1    469\n",
       "gnbcam2    406\n",
       "          ... \n",
       "yeccan1      1\n",
       "whbcan1      1\n",
       "chespa1      1\n",
       "brcsta1      1\n",
       "lawgol       1\n",
       "Name: count, Length: 176, dtype: int64"
      ]
     },
     "execution_count": 59,
     "metadata": {},
     "output_type": "execute_result"
    }
   ],
   "source": [
    "meta.iloc[:,3].value_counts()"
   ]
  },
  {
   "cell_type": "markdown",
   "id": "bc18335aa206d0a2",
   "metadata": {},
   "source": [
    "# Convert Zenodo dataset to 5sec format\n",
    "Assumes format from 2023 competition Kenya dataset, which has start=end time"
   ]
  },
  {
   "cell_type": "code",
   "execution_count": 54,
   "id": "bb722a643f4370d1",
   "metadata": {
    "ExecuteTime": {
     "end_time": "2024-05-13T14:25:03.116709Z",
     "start_time": "2024-05-13T14:25:02.765593Z"
    }
   },
   "outputs": [
    {
     "name": "stderr",
     "output_type": "stream",
     "text": [
      "/tmp/ipykernel_25753/3222266845.py:27: DeprecationWarning: DataFrameGroupBy.apply operated on the grouping columns. This behavior is deprecated, and in a future version of pandas the grouping columns will be excluded from the operation. Either pass `include_groups=False` to exclude the groupings or explicitly select the grouping columns after groupby to silence this warning.\n",
      "  meta_5s = meta.groupby('Filename').apply(process_file).reset_index(drop=True)\n"
     ]
    },
    {
     "data": {
      "text/html": [
       "<div>\n",
       "<style scoped>\n",
       "    .dataframe tbody tr th:only-of-type {\n",
       "        vertical-align: middle;\n",
       "    }\n",
       "\n",
       "    .dataframe tbody tr th {\n",
       "        vertical-align: top;\n",
       "    }\n",
       "\n",
       "    .dataframe thead th {\n",
       "        text-align: right;\n",
       "    }\n",
       "</style>\n",
       "<table border=\"1\" class=\"dataframe\">\n",
       "  <thead>\n",
       "    <tr style=\"text-align: right;\">\n",
       "      <th></th>\n",
       "      <th>filename</th>\n",
       "      <th>offset</th>\n",
       "      <th>labels</th>\n",
       "    </tr>\n",
       "  </thead>\n",
       "  <tbody>\n",
       "    <tr>\n",
       "      <th>0</th>\n",
       "      <td>KEN_001_20211207_153852_0.ogg</td>\n",
       "      <td>0</td>\n",
       "      <td>[]</td>\n",
       "    </tr>\n",
       "    <tr>\n",
       "      <th>1</th>\n",
       "      <td>KEN_001_20211207_153852_5.ogg</td>\n",
       "      <td>5</td>\n",
       "      <td>[]</td>\n",
       "    </tr>\n",
       "    <tr>\n",
       "      <th>2</th>\n",
       "      <td>KEN_001_20211207_153852_10.ogg</td>\n",
       "      <td>10</td>\n",
       "      <td>[]</td>\n",
       "    </tr>\n",
       "    <tr>\n",
       "      <th>3</th>\n",
       "      <td>KEN_001_20211207_153852_15.ogg</td>\n",
       "      <td>15</td>\n",
       "      <td>[]</td>\n",
       "    </tr>\n",
       "    <tr>\n",
       "      <th>4</th>\n",
       "      <td>KEN_001_20211207_153852_20.ogg</td>\n",
       "      <td>20</td>\n",
       "      <td>[]</td>\n",
       "    </tr>\n",
       "  </tbody>\n",
       "</table>\n",
       "</div>"
      ],
      "text/plain": [
       "                         filename  offset labels\n",
       "0   KEN_001_20211207_153852_0.ogg       0     []\n",
       "1   KEN_001_20211207_153852_5.ogg       5     []\n",
       "2  KEN_001_20211207_153852_10.ogg      10     []\n",
       "3  KEN_001_20211207_153852_15.ogg      15     []\n",
       "4  KEN_001_20211207_153852_20.ogg      20     []"
      ]
     },
     "execution_count": 54,
     "metadata": {},
     "output_type": "execute_result"
    }
   ],
   "source": [
    "SEG_LEN = 5\n",
    "def process_file(group: pd.DataFrame):\n",
    "    last_event = group['Start Time (s)'].max()\n",
    "    num_segments = int(last_event // SEG_LEN + 1)\n",
    "    \n",
    "    \n",
    "    # create labels list\n",
    "    label_bins = [list() for _ in range(num_segments)]\n",
    "    for idx, row in group.iterrows():\n",
    "        bin = int(row.iloc[1] // SEG_LEN)\n",
    "        bird = row.iloc[3]\n",
    "        if bird not in label_bins[bin]:\n",
    "            label_bins[bin].append(bird)\n",
    "        \n",
    "    # create new dataframe\n",
    "    filename = group.iloc[0,0]\n",
    "    offsets = np.arange(0,num_segments)*SEG_LEN\n",
    "    filenames = [f'{filename[:-5]}_{o}.ogg' for o in offsets]\n",
    "    labels = [str(l) for l in label_bins]\n",
    "    \n",
    "    return pd.DataFrame({\n",
    "        'filename': filenames,\n",
    "        'offset': offsets,\n",
    "        'labels': labels\n",
    "    })\n",
    "\n",
    "meta_5s = meta.groupby('Filename').apply(process_file).reset_index(drop=True)\n",
    "meta_5s.head()"
   ]
  },
  {
   "cell_type": "code",
   "execution_count": 55,
   "id": "5742968dea1bcff9",
   "metadata": {
    "ExecuteTime": {
     "end_time": "2024-05-13T14:25:04.560788Z",
     "start_time": "2024-05-13T14:25:03.117504Z"
    }
   },
   "outputs": [
    {
     "data": {
      "text/html": [
       "<div>\n",
       "<style scoped>\n",
       "    .dataframe tbody tr th:only-of-type {\n",
       "        vertical-align: middle;\n",
       "    }\n",
       "\n",
       "    .dataframe tbody tr th {\n",
       "        vertical-align: top;\n",
       "    }\n",
       "\n",
       "    .dataframe thead th {\n",
       "        text-align: right;\n",
       "    }\n",
       "</style>\n",
       "<table border=\"1\" class=\"dataframe\">\n",
       "  <thead>\n",
       "    <tr style=\"text-align: right;\">\n",
       "      <th></th>\n",
       "      <th>filename</th>\n",
       "      <th>offset</th>\n",
       "      <th>labels</th>\n",
       "      <th>rating</th>\n",
       "      <th>primary_label</th>\n",
       "    </tr>\n",
       "  </thead>\n",
       "  <tbody>\n",
       "    <tr>\n",
       "      <th>0</th>\n",
       "      <td>KEN_001_20211207_153852_0.ogg</td>\n",
       "      <td>0</td>\n",
       "      <td>[]</td>\n",
       "      <td>5</td>\n",
       "      <td>silent</td>\n",
       "    </tr>\n",
       "    <tr>\n",
       "      <th>1</th>\n",
       "      <td>KEN_001_20211207_153852_5.ogg</td>\n",
       "      <td>5</td>\n",
       "      <td>[]</td>\n",
       "      <td>5</td>\n",
       "      <td>silent</td>\n",
       "    </tr>\n",
       "    <tr>\n",
       "      <th>2</th>\n",
       "      <td>KEN_001_20211207_153852_10.ogg</td>\n",
       "      <td>10</td>\n",
       "      <td>[]</td>\n",
       "      <td>5</td>\n",
       "      <td>silent</td>\n",
       "    </tr>\n",
       "    <tr>\n",
       "      <th>3</th>\n",
       "      <td>KEN_001_20211207_153852_15.ogg</td>\n",
       "      <td>15</td>\n",
       "      <td>[]</td>\n",
       "      <td>5</td>\n",
       "      <td>silent</td>\n",
       "    </tr>\n",
       "    <tr>\n",
       "      <th>4</th>\n",
       "      <td>KEN_001_20211207_153852_20.ogg</td>\n",
       "      <td>20</td>\n",
       "      <td>[]</td>\n",
       "      <td>5</td>\n",
       "      <td>silent</td>\n",
       "    </tr>\n",
       "  </tbody>\n",
       "</table>\n",
       "</div>"
      ],
      "text/plain": [
       "                         filename  offset labels  rating primary_label\n",
       "0   KEN_001_20211207_153852_0.ogg       0     []       5        silent\n",
       "1   KEN_001_20211207_153852_5.ogg       5     []       5        silent\n",
       "2  KEN_001_20211207_153852_10.ogg      10     []       5        silent\n",
       "3  KEN_001_20211207_153852_15.ogg      15     []       5        silent\n",
       "4  KEN_001_20211207_153852_20.ogg      20     []       5        silent"
      ]
     },
     "execution_count": 55,
     "metadata": {},
     "output_type": "execute_result"
    }
   ],
   "source": [
    "import ast\n",
    "\n",
    "# Set the primary label, arbitrarily selects a bird, can be used for splitter\n",
    "def set_primary(row):\n",
    "    labels = ast.literal_eval(row['labels'])\n",
    "    if len(labels) > 0:\n",
    "        row['primary_label'] = labels[0]\n",
    "    return row\n",
    "\n",
    "meta_5s['rating'] = 5\n",
    "meta_5s['primary_label'] = 'silent'\n",
    "meta_5s = meta_5s.apply(set_primary, axis=1)\n",
    "meta_5s.head()"
   ]
  },
  {
   "cell_type": "code",
   "execution_count": 56,
   "id": "71f6883fdd0d0dd",
   "metadata": {
    "ExecuteTime": {
     "end_time": "2024-05-13T14:25:04.568392Z",
     "start_time": "2024-05-13T14:25:04.561768Z"
    }
   },
   "outputs": [
    {
     "data": {
      "text/html": [
       "<div>\n",
       "<style scoped>\n",
       "    .dataframe tbody tr th:only-of-type {\n",
       "        vertical-align: middle;\n",
       "    }\n",
       "\n",
       "    .dataframe tbody tr th {\n",
       "        vertical-align: top;\n",
       "    }\n",
       "\n",
       "    .dataframe thead th {\n",
       "        text-align: right;\n",
       "    }\n",
       "</style>\n",
       "<table border=\"1\" class=\"dataframe\">\n",
       "  <thead>\n",
       "    <tr style=\"text-align: right;\">\n",
       "      <th></th>\n",
       "      <th>filename</th>\n",
       "      <th>offset</th>\n",
       "      <th>labels</th>\n",
       "      <th>rating</th>\n",
       "      <th>primary_label</th>\n",
       "    </tr>\n",
       "  </thead>\n",
       "  <tbody>\n",
       "    <tr>\n",
       "      <th>13</th>\n",
       "      <td>KEN_001_20211207_153852_65.ogg</td>\n",
       "      <td>65</td>\n",
       "      <td>['slcbou1']</td>\n",
       "      <td>5</td>\n",
       "      <td>slcbou1</td>\n",
       "    </tr>\n",
       "    <tr>\n",
       "      <th>21</th>\n",
       "      <td>KEN_001_20211207_153852_105.ogg</td>\n",
       "      <td>105</td>\n",
       "      <td>['slcbou1', 'hamerk1']</td>\n",
       "      <td>5</td>\n",
       "      <td>slcbou1</td>\n",
       "    </tr>\n",
       "    <tr>\n",
       "      <th>23</th>\n",
       "      <td>KEN_001_20211207_153852_115.ogg</td>\n",
       "      <td>115</td>\n",
       "      <td>['slcbou1']</td>\n",
       "      <td>5</td>\n",
       "      <td>slcbou1</td>\n",
       "    </tr>\n",
       "    <tr>\n",
       "      <th>41</th>\n",
       "      <td>KEN_001_20211207_153852_205.ogg</td>\n",
       "      <td>205</td>\n",
       "      <td>['hamerk1']</td>\n",
       "      <td>5</td>\n",
       "      <td>hamerk1</td>\n",
       "    </tr>\n",
       "    <tr>\n",
       "      <th>42</th>\n",
       "      <td>KEN_001_20211207_153852_210.ogg</td>\n",
       "      <td>210</td>\n",
       "      <td>['hamerk1']</td>\n",
       "      <td>5</td>\n",
       "      <td>hamerk1</td>\n",
       "    </tr>\n",
       "  </tbody>\n",
       "</table>\n",
       "</div>"
      ],
      "text/plain": [
       "                           filename  offset                  labels  rating  \\\n",
       "13   KEN_001_20211207_153852_65.ogg      65             ['slcbou1']       5   \n",
       "21  KEN_001_20211207_153852_105.ogg     105  ['slcbou1', 'hamerk1']       5   \n",
       "23  KEN_001_20211207_153852_115.ogg     115             ['slcbou1']       5   \n",
       "41  KEN_001_20211207_153852_205.ogg     205             ['hamerk1']       5   \n",
       "42  KEN_001_20211207_153852_210.ogg     210             ['hamerk1']       5   \n",
       "\n",
       "   primary_label  \n",
       "13       slcbou1  \n",
       "21       slcbou1  \n",
       "23       slcbou1  \n",
       "41       hamerk1  \n",
       "42       hamerk1  "
      ]
     },
     "execution_count": 56,
     "metadata": {},
     "output_type": "execute_result"
    }
   ],
   "source": [
    "meta_5s[meta_5s['labels'] != '[]'].head()"
   ]
  },
  {
   "cell_type": "code",
   "execution_count": 57,
   "id": "540c623fad328803",
   "metadata": {
    "ExecuteTime": {
     "end_time": "2024-05-13T14:25:04.600380Z",
     "start_time": "2024-05-13T14:25:04.568982Z"
    }
   },
   "outputs": [],
   "source": [
    "meta_5s.to_csv(f'{DATASET_PATH}/train_metadata.csv', index=False)"
   ]
  },
  {
   "cell_type": "markdown",
   "id": "79213ef329fff658",
   "metadata": {},
   "source": [
    "# Create 5 sec segments"
   ]
  },
  {
   "cell_type": "code",
   "execution_count": 58,
   "id": "64b1678f2149a0a0",
   "metadata": {
    "ExecuteTime": {
     "end_time": "2024-05-13T14:25:08.530980Z",
     "start_time": "2024-05-13T14:25:04.601220Z"
    }
   },
   "outputs": [
    {
     "data": {
      "application/vnd.jupyter.widget-view+json": {
       "model_id": "ec70068fe44e435d9a2439c927e6dd10",
       "version_major": 2,
       "version_minor": 0
      },
      "text/plain": [
       "  0%|          | 0/23209 [00:00<?, ?it/s]"
      ]
     },
     "metadata": {},
     "output_type": "display_data"
    },
    {
     "ename": "LibsndfileError",
     "evalue": "Error opening '': System error.",
     "output_type": "error",
     "traceback": [
      "\u001b[0;31m---------------------------------------------------------------------------\u001b[0m",
      "\u001b[0;31mLibsndfileError\u001b[0m                           Traceback (most recent call last)",
      "Cell \u001b[0;32mIn[58], line 29\u001b[0m\n\u001b[1;32m     26\u001b[0m     audio \u001b[38;5;241m=\u001b[39m np\u001b[38;5;241m.\u001b[39mpad(audio, (\u001b[38;5;241m0\u001b[39m, SR \u001b[38;5;241m*\u001b[39m SEG_LEN \u001b[38;5;241m-\u001b[39m \u001b[38;5;28mlen\u001b[39m(audio)))\n\u001b[1;32m     28\u001b[0m \u001b[38;5;66;03m# save audio to ogg\u001b[39;00m\n\u001b[0;32m---> 29\u001b[0m \u001b[43msf\u001b[49m\u001b[38;5;241;43m.\u001b[39;49m\u001b[43mwrite\u001b[49m\u001b[43m(\u001b[49m\u001b[43mtarget_file\u001b[49m\u001b[38;5;241;43m.\u001b[39;49m\u001b[43msplit\u001b[49m\u001b[43m(\u001b[49m\u001b[38;5;124;43m'\u001b[39;49m\u001b[38;5;124;43m.\u001b[39;49m\u001b[38;5;124;43m'\u001b[39;49m\u001b[43m)\u001b[49m\u001b[43m[\u001b[49m\u001b[38;5;241;43m0\u001b[39;49m\u001b[43m]\u001b[49m\u001b[43m,\u001b[49m\u001b[43m \u001b[49m\u001b[43maudio\u001b[49m\u001b[43m,\u001b[49m\u001b[43m \u001b[49m\u001b[43mSR\u001b[49m\u001b[43m,\u001b[49m\u001b[43m \u001b[49m\u001b[38;5;28;43mformat\u001b[39;49m\u001b[38;5;241;43m=\u001b[39;49m\u001b[38;5;124;43m'\u001b[39;49m\u001b[38;5;124;43mogg\u001b[39;49m\u001b[38;5;124;43m'\u001b[39;49m\u001b[43m)\u001b[49m\n",
      "File \u001b[0;32m~/Projects/q4-bird-clef/venv/lib/python3.10/site-packages/soundfile.py:343\u001b[0m, in \u001b[0;36mwrite\u001b[0;34m(file, data, samplerate, subtype, endian, format, closefd)\u001b[0m\n\u001b[1;32m    341\u001b[0m \u001b[38;5;28;01melse\u001b[39;00m:\n\u001b[1;32m    342\u001b[0m     channels \u001b[38;5;241m=\u001b[39m data\u001b[38;5;241m.\u001b[39mshape[\u001b[38;5;241m1\u001b[39m]\n\u001b[0;32m--> 343\u001b[0m \u001b[38;5;28;01mwith\u001b[39;00m \u001b[43mSoundFile\u001b[49m\u001b[43m(\u001b[49m\u001b[43mfile\u001b[49m\u001b[43m,\u001b[49m\u001b[43m \u001b[49m\u001b[38;5;124;43m'\u001b[39;49m\u001b[38;5;124;43mw\u001b[39;49m\u001b[38;5;124;43m'\u001b[39;49m\u001b[43m,\u001b[49m\u001b[43m \u001b[49m\u001b[43msamplerate\u001b[49m\u001b[43m,\u001b[49m\u001b[43m \u001b[49m\u001b[43mchannels\u001b[49m\u001b[43m,\u001b[49m\n\u001b[1;32m    344\u001b[0m \u001b[43m               \u001b[49m\u001b[43msubtype\u001b[49m\u001b[43m,\u001b[49m\u001b[43m \u001b[49m\u001b[43mendian\u001b[49m\u001b[43m,\u001b[49m\u001b[43m \u001b[49m\u001b[38;5;28;43mformat\u001b[39;49m\u001b[43m,\u001b[49m\u001b[43m \u001b[49m\u001b[43mclosefd\u001b[49m\u001b[43m)\u001b[49m \u001b[38;5;28;01mas\u001b[39;00m f:\n\u001b[1;32m    345\u001b[0m     f\u001b[38;5;241m.\u001b[39mwrite(data)\n",
      "File \u001b[0;32m~/Projects/q4-bird-clef/venv/lib/python3.10/site-packages/soundfile.py:658\u001b[0m, in \u001b[0;36mSoundFile.__init__\u001b[0;34m(self, file, mode, samplerate, channels, subtype, endian, format, closefd)\u001b[0m\n\u001b[1;32m    655\u001b[0m \u001b[38;5;28mself\u001b[39m\u001b[38;5;241m.\u001b[39m_mode \u001b[38;5;241m=\u001b[39m mode\n\u001b[1;32m    656\u001b[0m \u001b[38;5;28mself\u001b[39m\u001b[38;5;241m.\u001b[39m_info \u001b[38;5;241m=\u001b[39m _create_info_struct(file, mode, samplerate, channels,\n\u001b[1;32m    657\u001b[0m                                  \u001b[38;5;28mformat\u001b[39m, subtype, endian)\n\u001b[0;32m--> 658\u001b[0m \u001b[38;5;28mself\u001b[39m\u001b[38;5;241m.\u001b[39m_file \u001b[38;5;241m=\u001b[39m \u001b[38;5;28;43mself\u001b[39;49m\u001b[38;5;241;43m.\u001b[39;49m\u001b[43m_open\u001b[49m\u001b[43m(\u001b[49m\u001b[43mfile\u001b[49m\u001b[43m,\u001b[49m\u001b[43m \u001b[49m\u001b[43mmode_int\u001b[49m\u001b[43m,\u001b[49m\u001b[43m \u001b[49m\u001b[43mclosefd\u001b[49m\u001b[43m)\u001b[49m\n\u001b[1;32m    659\u001b[0m \u001b[38;5;28;01mif\u001b[39;00m \u001b[38;5;28mset\u001b[39m(mode)\u001b[38;5;241m.\u001b[39missuperset(\u001b[38;5;124m'\u001b[39m\u001b[38;5;124mr+\u001b[39m\u001b[38;5;124m'\u001b[39m) \u001b[38;5;129;01mand\u001b[39;00m \u001b[38;5;28mself\u001b[39m\u001b[38;5;241m.\u001b[39mseekable():\n\u001b[1;32m    660\u001b[0m     \u001b[38;5;66;03m# Move write position to 0 (like in Python file objects)\u001b[39;00m\n\u001b[1;32m    661\u001b[0m     \u001b[38;5;28mself\u001b[39m\u001b[38;5;241m.\u001b[39mseek(\u001b[38;5;241m0\u001b[39m)\n",
      "File \u001b[0;32m~/Projects/q4-bird-clef/venv/lib/python3.10/site-packages/soundfile.py:1216\u001b[0m, in \u001b[0;36mSoundFile._open\u001b[0;34m(self, file, mode_int, closefd)\u001b[0m\n\u001b[1;32m   1213\u001b[0m \u001b[38;5;28;01mif\u001b[39;00m file_ptr \u001b[38;5;241m==\u001b[39m _ffi\u001b[38;5;241m.\u001b[39mNULL:\n\u001b[1;32m   1214\u001b[0m     \u001b[38;5;66;03m# get the actual error code\u001b[39;00m\n\u001b[1;32m   1215\u001b[0m     err \u001b[38;5;241m=\u001b[39m _snd\u001b[38;5;241m.\u001b[39msf_error(file_ptr)\n\u001b[0;32m-> 1216\u001b[0m     \u001b[38;5;28;01mraise\u001b[39;00m LibsndfileError(err, prefix\u001b[38;5;241m=\u001b[39m\u001b[38;5;124m\"\u001b[39m\u001b[38;5;124mError opening \u001b[39m\u001b[38;5;132;01m{0!r}\u001b[39;00m\u001b[38;5;124m: \u001b[39m\u001b[38;5;124m\"\u001b[39m\u001b[38;5;241m.\u001b[39mformat(\u001b[38;5;28mself\u001b[39m\u001b[38;5;241m.\u001b[39mname))\n\u001b[1;32m   1217\u001b[0m \u001b[38;5;28;01mif\u001b[39;00m mode_int \u001b[38;5;241m==\u001b[39m _snd\u001b[38;5;241m.\u001b[39mSFM_WRITE:\n\u001b[1;32m   1218\u001b[0m     \u001b[38;5;66;03m# Due to a bug in libsndfile version <= 1.0.25, frames != 0\u001b[39;00m\n\u001b[1;32m   1219\u001b[0m     \u001b[38;5;66;03m# when opening a named pipe in SFM_WRITE mode.\u001b[39;00m\n\u001b[1;32m   1220\u001b[0m     \u001b[38;5;66;03m# See http://github.com/erikd/libsndfile/issues/77.\u001b[39;00m\n\u001b[1;32m   1221\u001b[0m     \u001b[38;5;28mself\u001b[39m\u001b[38;5;241m.\u001b[39m_info\u001b[38;5;241m.\u001b[39mframes \u001b[38;5;241m=\u001b[39m \u001b[38;5;241m0\u001b[39m\n",
      "\u001b[0;31mLibsndfileError\u001b[0m: Error opening '': System error."
     ]
    }
   ],
   "source": [
    "import soundfile as sf\n",
    "\n",
    "if not os.path.exists(f'{DATASET_PATH}/train_audio'):\n",
    "    os.makedirs(f'{DATASET_PATH}/train_audio')\n",
    "\n",
    "audio_loaded = None\n",
    "audio_loaded_name = None\n",
    "for i, row in tqdm(meta_5s.iterrows(), total=len(meta_5s)):\n",
    "    source_file = '_'.join(row['filename'].split('_')[:-1])\n",
    "    target_file = f'{DATASET_PATH}/train_audio/{row[\"filename\"]}.ogg'\n",
    "    if os.path.exists(target_file):\n",
    "        continue   \n",
    "    \n",
    "    if audio_loaded_name != source_file:\n",
    "        audio_loaded, _  = librosa.load(f'{DATASET_PATH}/soundscape_data/{source_file}.flac')\n",
    "        audio_loaded_name = source_file\n",
    "    \n",
    "    # select segment by offset\n",
    "    offset = row['offset'] * SR\n",
    "    audio = audio_loaded[offset:offset+min(len(audio_loaded), SR*SEG_LEN)]\n",
    "    \n",
    "    # crop or pad\n",
    "    if len(audio) > SR * SEG_LEN:\n",
    "        audio = audio[:SR * SEG_LEN]\n",
    "    if len(audio) < SR * SEG_LEN:\n",
    "        audio = np.pad(audio, (0, SR * SEG_LEN - len(audio)))\n",
    "    \n",
    "    # save audio to ogg\n",
    "    sf.write(target_file[:-4], audio, SR, format='ogg')"
   ]
  }
 ],
 "metadata": {
  "kernelspec": {
   "display_name": "Python 3",
   "language": "python",
   "name": "python3"
  },
  "language_info": {
   "codemirror_mode": {
    "name": "ipython",
    "version": 2
   },
   "file_extension": ".py",
   "mimetype": "text/x-python",
   "name": "python",
   "nbconvert_exporter": "python",
   "pygments_lexer": "ipython2",
   "version": "3.10.12"
  }
 },
 "nbformat": 4,
 "nbformat_minor": 5
}
