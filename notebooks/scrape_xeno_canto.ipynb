{
 "cells": [
  {
   "metadata": {},
   "cell_type": "markdown",
   "source": [
    "# Scraping Xeno Canto\n",
    "\n",
    "This notebook is used to scrape the metadata for the birds in our dataset. \n",
    "We will use the Xeno Canto API to get the metadata for the birds in our dataset."
   ],
   "id": "12d60a9230f9beb7"
  },
  {
   "cell_type": "code",
   "id": "initial_id",
   "metadata": {
    "collapsed": true,
    "ExecuteTime": {
     "end_time": "2024-05-02T13:10:47.735848Z",
     "start_time": "2024-05-02T13:10:47.732982Z"
    }
   },
   "source": [
    "import itertools\n",
    "import json\n",
    "from pathlib import Path\n",
    "\n",
    "import pandas as pd\n",
    "\n",
    "from typing import TypeAlias\n",
    "from collections.abc import Mapping, Sequence\n",
    "\n",
    "JSON: TypeAlias = Mapping[str, \"JSON\"] | Sequence[\"JSON\"] | str | int | float | bool | None\n",
    "\n",
    "TRAIN_METADATA_PATH = Path(\"../data/raw/train_metadata.csv\")"
   ],
   "outputs": [],
   "execution_count": 21
  },
  {
   "metadata": {},
   "cell_type": "markdown",
   "source": [
    "## Attempt 1: Retrieving all the ids one by one\n",
    "\n",
    "According to the [Xeno Canto API documentation](https://xeno-canto.org/help/search), we can retrieve the metadata for a single id.\n",
    "However, there seems to be no way to retrieve the metadata for multiple ids at once.\n",
    "This means that we will have to retrieve the metadata for each id one by one.\n",
    "\n",
    "This approach is not feasible as it seems that there is a hard server-side limit on the number of requests that can be made to the Xeno Canto API."
   ],
   "id": "bdb273c1349de90f"
  },
  {
   "metadata": {
    "ExecuteTime": {
     "end_time": "2024-05-02T13:10:51.066827Z",
     "start_time": "2024-05-02T13:10:51.064216Z"
    }
   },
   "cell_type": "code",
   "source": [
    "# Get the ids of all recordings in the dataset\n",
    "# ids = pd.read_csv(RAW_TRAIN_METADATA_PATH)[\"url\"].str.split(\"/\").str.get(-1).astype(int).to_list()\n",
    "\n",
    "# Retrieves metadata for requested recordings in the form of a JSON file\n",
    "# def get_metadata(i: int) -> dict:\n",
    "#     url = f\"https://xeno-canto.org/api/2/recordings?query=nr:{i}\"\n",
    "#     try:\n",
    "#         response = request.urlopen(url)\n",
    "#         response_json = json.loads(response.read().decode('UTF-8'))\n",
    "#         file_path = Path(f\"../data/download/metadata/{i}.json\")\n",
    "#         with open(file_path, \"w\") as f:\n",
    "#             json.dump(response_json, f)\n",
    "#         recordings = response_json[\"recordings\"]\n",
    "#         if not recordings:\n",
    "#             return {}\n",
    "#         return recordings[0]\n",
    "#     except error.HTTPError as e:\n",
    "#         print(f\"Error retrieving metadata for recording {i}: {e}\")\n",
    "#         return {}\n",
    "\n",
    "# Get metadata for the recordings\n",
    "# metadata = [get_metadata(i) for i in ids]\n",
    "# metadata[:5]"
   ],
   "id": "493df2c3e142d101",
   "outputs": [],
   "execution_count": 22
  },
  {
   "metadata": {},
   "cell_type": "markdown",
   "source": [
    "## Attempt 2: Retrieving all the metadata per species\n",
    "\n",
    "According to the [Xeno Canto API documentation](https://xeno-canto.org/help/search), we can retrieve the metadata for a single species.\n",
    "This means that we will retrieve too much metadata at once, but it makes less requests to the Xeno Canto API.\n",
    "We can filter the metadata later on."
   ],
   "id": "448344f920ee19c1"
  },
  {
   "metadata": {
    "ExecuteTime": {
     "end_time": "2024-05-02T13:10:53.509173Z",
     "start_time": "2024-05-02T13:10:53.458112Z"
    }
   },
   "cell_type": "code",
   "source": [
    "species = set(pd.read_csv(TRAIN_METADATA_PATH)[\"scientific_name\"].to_list()) | {\"Spilopelia senegalensis\", \"Spilopelia chinensis\", \"Acritillas indica\"}  # Hardcode \"laudov1\", \"spodov\", and \"yebbul3\" here because their scientific names are fucked and they ruined my life\n",
    "len(species)  # Ignore that it says 185 species instead of 182 because it counts 3 species that don't exist"
   ],
   "id": "83f7146464933717",
   "outputs": [
    {
     "data": {
      "text/plain": [
       "185"
      ]
     },
     "execution_count": 23,
     "metadata": {},
     "output_type": "execute_result"
    }
   ],
   "execution_count": 23
  },
  {
   "metadata": {
    "ExecuteTime": {
     "end_time": "2024-05-02T12:54:42.501877Z",
     "start_time": "2024-05-02T12:54:42.428071Z"
    }
   },
   "cell_type": "code",
   "source": [
    "# DO NOT RUN THIS CELL IF YOU ALREADY HAVE THE METADATA JSON FILES; THIS IS SUPER SLOW AND WILL RUIN YOUR LIFE\n",
    "\n",
    "# Retrieves metadata for requested recordings in the form of a JSON file\n",
    "import xenocanto\n",
    "\n",
    "# Get metadata for the recordings\n",
    "for name in set(species):\n",
    "    xenocanto.metadata([name])"
   ],
   "id": "72934d37523b1344",
   "outputs": [
    {
     "ename": "NameError",
     "evalue": "name 'species' is not defined",
     "output_type": "error",
     "traceback": [
      "\u001B[0;31m---------------------------------------------------------------------------\u001B[0m",
      "\u001B[0;31mNameError\u001B[0m                                 Traceback (most recent call last)",
      "Cell \u001B[0;32mIn[5], line 7\u001B[0m\n\u001B[1;32m      4\u001B[0m \u001B[38;5;28;01mimport\u001B[39;00m \u001B[38;5;21;01mxenocanto\u001B[39;00m\n\u001B[1;32m      6\u001B[0m \u001B[38;5;66;03m# Get metadata for the recordings\u001B[39;00m\n\u001B[0;32m----> 7\u001B[0m \u001B[38;5;28;01mfor\u001B[39;00m name \u001B[38;5;129;01min\u001B[39;00m \u001B[38;5;28mset\u001B[39m(\u001B[43mspecies\u001B[49m) \u001B[38;5;241m|\u001B[39m {\u001B[38;5;124m\"\u001B[39m\u001B[38;5;124mSpilopelia chinensis\u001B[39m\u001B[38;5;124m\"\u001B[39m, \u001B[38;5;124m\"\u001B[39m\u001B[38;5;124mSpilopelia senegalensis\u001B[39m\u001B[38;5;124m\"\u001B[39m}:  \u001B[38;5;66;03m# Hardcode \"spodov and \"laudov1\" here because their scientific names are fucked   \u001B[39;00m\n\u001B[1;32m      8\u001B[0m     xenocanto\u001B[38;5;241m.\u001B[39mmetadata([name])\n",
      "\u001B[0;31mNameError\u001B[0m: name 'species' is not defined"
     ]
    }
   ],
   "execution_count": 5
  },
  {
   "metadata": {
    "ExecuteTime": {
     "end_time": "2024-05-01T10:01:12.686203Z",
     "start_time": "2024-05-01T10:01:12.681476Z"
    }
   },
   "cell_type": "code",
   "source": [
    "# class XenoCantoAPIRecording(TypedDict, total=False):\n",
    "#     id: int\n",
    "#     gen: str\n",
    "#     sp: str\n",
    "#     ssp: str\n",
    "#     group: str\n",
    "#     en: str\n",
    "#     rec: str\n",
    "#     cnt: str\n",
    "#     loc: str\n",
    "#     lat: float\n",
    "#     lng: float\n",
    "#     alt: int\n",
    "#     type: str\n",
    "#     sex: str\n",
    "#     stage: str\n",
    "#     method: str\n",
    "#     url: str\n",
    "#     file: str\n",
    "#     file_name: str\n",
    "#     sono: Mapping[str, str]\n",
    "#     osci: Mapping[str, str]\n",
    "#     lic: str\n",
    "#     q: float\n",
    "#     length: str\n",
    "#     time: str\n",
    "#     date: str\n",
    "#     uploaded: str\n",
    "#     also: Sequence[str]\n",
    "#     rmk: str\n",
    "#     bird_seen: bool\n",
    "#     animal_seen: bool\n",
    "#     playback_used: bool\n",
    "#     temp: str\n",
    "#     regnr: str\n",
    "#     auto: str\n",
    "#     dvc: str\n",
    "#     mic: str\n",
    "#     smp: int\n",
    "\n",
    "# class XenoCantoAPIResponse(TypedDict):\n",
    "#     numRecordings: int\n",
    "#     numSpecies: int\n",
    "#     page: int\n",
    "#     numPages: int\n",
    "#     recordings: Sequence[XenoCantoAPIRecording]"
   ],
   "id": "69a3e336654908f3",
   "outputs": [],
   "execution_count": 3
  },
  {
   "metadata": {
    "ExecuteTime": {
     "end_time": "2024-05-02T13:11:02.702007Z",
     "start_time": "2024-05-02T13:11:00.828704Z"
    }
   },
   "cell_type": "code",
   "source": [
    "# Once all the metadata has been retrieved, we merge all pages within a species and store all the recordings metadata in a dataframe\n",
    "def merge_pages(name: str) -> list[JSON]:\n",
    "    files = list((Path(\"./dataset/metadata/\") / name.replace(\" \", \"\")).glob(\"*.json\"))\n",
    "    pages = [{}] * (len(files))\n",
    "    for i, file in enumerate(files):\n",
    "        with open(file, \"r\") as f:\n",
    "            page: JSON = json.load(f)\n",
    "            pages[i] = page\n",
    "    return list(itertools.chain.from_iterable([page[\"recordings\"] for page in pages]))\n",
    "\n",
    "records = list(itertools.chain.from_iterable([merge_pages(name) for name in species]))\n",
    "meta_dataframe = pd.DataFrame(records).astype({\"id\": int}).sort_values(by=\"id\")\n",
    "meta_dataframe.to_csv(\"./dataset/metadata.csv\", index=False)\n",
    "meta_dataframe.head(5)"
   ],
   "id": "5da5b08759ee0202",
   "outputs": [
    {
     "data": {
      "text/plain": [
       "         id         gen          sp ssp  group                         en  \\\n",
       "41664  1135  Nycticorax  nycticorax      birds  Black-crowned Night Heron   \n",
       "22650  2778       Ardea        alba      birds                Great Egret   \n",
       "40900  2797  Nycticorax  nycticorax      birds  Black-crowned Night Heron   \n",
       "13701  4415     Hirundo     rustica      birds               Barn Swallow   \n",
       "20414  5954      Passer  domesticus      birds              House Sparrow   \n",
       "\n",
       "                        rec            cnt  \\\n",
       "41664             Don Jones  United States   \n",
       "22650          Sjoerd Mayer        Bolivia   \n",
       "40900          Sjoerd Mayer        Bolivia   \n",
       "13701  Glauco Alves Pereira         Brazil   \n",
       "20414      Manuel Grosselet         Mexico   \n",
       "\n",
       "                                                     loc        lat  ...  \\\n",
       "41664    Jakes Landing Road, Cape May County, New Jersey  39.192751  ...   \n",
       "22650  Close to Trinidad, along road to San Javier, Beni   -14.8001  ...   \n",
       "40900                          Laguna Alalay, Cochabamba   -17.4084  ...   \n",
       "13701       Engenho Santa Fé, Nazaré da Mata, Pernambuco  -7.731915  ...   \n",
       "20414                                  san Augustin Etla       None  ...   \n",
       "\n",
       "                                                     rmk bird-seen  \\\n",
       "41664                                                      unknown   \n",
       "22650  At the roost. cd:http://www.birdsongs.com/Boli...   unknown   \n",
       "40900       cd:http://www.birdsongs.com/Bolivia/main.htm   unknown   \n",
       "13701           small group landed in an electric thread   unknown   \n",
       "20414                                                      unknown   \n",
       "\n",
       "      animal-seen playback-used temp regnr auto dvc mic    smp  \n",
       "41664     unknown       unknown              no          22050  \n",
       "22650     unknown       unknown              no          44100  \n",
       "40900     unknown       unknown              no          44100  \n",
       "13701     unknown       unknown              no          22050  \n",
       "20414     unknown       unknown              no          44100  \n",
       "\n",
       "[5 rows x 38 columns]"
      ],
      "text/html": [
       "<div>\n",
       "<style scoped>\n",
       "    .dataframe tbody tr th:only-of-type {\n",
       "        vertical-align: middle;\n",
       "    }\n",
       "\n",
       "    .dataframe tbody tr th {\n",
       "        vertical-align: top;\n",
       "    }\n",
       "\n",
       "    .dataframe thead th {\n",
       "        text-align: right;\n",
       "    }\n",
       "</style>\n",
       "<table border=\"1\" class=\"dataframe\">\n",
       "  <thead>\n",
       "    <tr style=\"text-align: right;\">\n",
       "      <th></th>\n",
       "      <th>id</th>\n",
       "      <th>gen</th>\n",
       "      <th>sp</th>\n",
       "      <th>ssp</th>\n",
       "      <th>group</th>\n",
       "      <th>en</th>\n",
       "      <th>rec</th>\n",
       "      <th>cnt</th>\n",
       "      <th>loc</th>\n",
       "      <th>lat</th>\n",
       "      <th>...</th>\n",
       "      <th>rmk</th>\n",
       "      <th>bird-seen</th>\n",
       "      <th>animal-seen</th>\n",
       "      <th>playback-used</th>\n",
       "      <th>temp</th>\n",
       "      <th>regnr</th>\n",
       "      <th>auto</th>\n",
       "      <th>dvc</th>\n",
       "      <th>mic</th>\n",
       "      <th>smp</th>\n",
       "    </tr>\n",
       "  </thead>\n",
       "  <tbody>\n",
       "    <tr>\n",
       "      <th>41664</th>\n",
       "      <td>1135</td>\n",
       "      <td>Nycticorax</td>\n",
       "      <td>nycticorax</td>\n",
       "      <td></td>\n",
       "      <td>birds</td>\n",
       "      <td>Black-crowned Night Heron</td>\n",
       "      <td>Don Jones</td>\n",
       "      <td>United States</td>\n",
       "      <td>Jakes Landing Road, Cape May County, New Jersey</td>\n",
       "      <td>39.192751</td>\n",
       "      <td>...</td>\n",
       "      <td></td>\n",
       "      <td>unknown</td>\n",
       "      <td>unknown</td>\n",
       "      <td>unknown</td>\n",
       "      <td></td>\n",
       "      <td></td>\n",
       "      <td>no</td>\n",
       "      <td></td>\n",
       "      <td></td>\n",
       "      <td>22050</td>\n",
       "    </tr>\n",
       "    <tr>\n",
       "      <th>22650</th>\n",
       "      <td>2778</td>\n",
       "      <td>Ardea</td>\n",
       "      <td>alba</td>\n",
       "      <td></td>\n",
       "      <td>birds</td>\n",
       "      <td>Great Egret</td>\n",
       "      <td>Sjoerd Mayer</td>\n",
       "      <td>Bolivia</td>\n",
       "      <td>Close to Trinidad, along road to San Javier, Beni</td>\n",
       "      <td>-14.8001</td>\n",
       "      <td>...</td>\n",
       "      <td>At the roost. cd:http://www.birdsongs.com/Boli...</td>\n",
       "      <td>unknown</td>\n",
       "      <td>unknown</td>\n",
       "      <td>unknown</td>\n",
       "      <td></td>\n",
       "      <td></td>\n",
       "      <td>no</td>\n",
       "      <td></td>\n",
       "      <td></td>\n",
       "      <td>44100</td>\n",
       "    </tr>\n",
       "    <tr>\n",
       "      <th>40900</th>\n",
       "      <td>2797</td>\n",
       "      <td>Nycticorax</td>\n",
       "      <td>nycticorax</td>\n",
       "      <td></td>\n",
       "      <td>birds</td>\n",
       "      <td>Black-crowned Night Heron</td>\n",
       "      <td>Sjoerd Mayer</td>\n",
       "      <td>Bolivia</td>\n",
       "      <td>Laguna Alalay, Cochabamba</td>\n",
       "      <td>-17.4084</td>\n",
       "      <td>...</td>\n",
       "      <td>cd:http://www.birdsongs.com/Bolivia/main.htm</td>\n",
       "      <td>unknown</td>\n",
       "      <td>unknown</td>\n",
       "      <td>unknown</td>\n",
       "      <td></td>\n",
       "      <td></td>\n",
       "      <td>no</td>\n",
       "      <td></td>\n",
       "      <td></td>\n",
       "      <td>44100</td>\n",
       "    </tr>\n",
       "    <tr>\n",
       "      <th>13701</th>\n",
       "      <td>4415</td>\n",
       "      <td>Hirundo</td>\n",
       "      <td>rustica</td>\n",
       "      <td></td>\n",
       "      <td>birds</td>\n",
       "      <td>Barn Swallow</td>\n",
       "      <td>Glauco Alves Pereira</td>\n",
       "      <td>Brazil</td>\n",
       "      <td>Engenho Santa Fé, Nazaré da Mata, Pernambuco</td>\n",
       "      <td>-7.731915</td>\n",
       "      <td>...</td>\n",
       "      <td>small group landed in an electric thread</td>\n",
       "      <td>unknown</td>\n",
       "      <td>unknown</td>\n",
       "      <td>unknown</td>\n",
       "      <td></td>\n",
       "      <td></td>\n",
       "      <td>no</td>\n",
       "      <td></td>\n",
       "      <td></td>\n",
       "      <td>22050</td>\n",
       "    </tr>\n",
       "    <tr>\n",
       "      <th>20414</th>\n",
       "      <td>5954</td>\n",
       "      <td>Passer</td>\n",
       "      <td>domesticus</td>\n",
       "      <td></td>\n",
       "      <td>birds</td>\n",
       "      <td>House Sparrow</td>\n",
       "      <td>Manuel Grosselet</td>\n",
       "      <td>Mexico</td>\n",
       "      <td>san Augustin Etla</td>\n",
       "      <td>None</td>\n",
       "      <td>...</td>\n",
       "      <td></td>\n",
       "      <td>unknown</td>\n",
       "      <td>unknown</td>\n",
       "      <td>unknown</td>\n",
       "      <td></td>\n",
       "      <td></td>\n",
       "      <td>no</td>\n",
       "      <td></td>\n",
       "      <td></td>\n",
       "      <td>44100</td>\n",
       "    </tr>\n",
       "  </tbody>\n",
       "</table>\n",
       "<p>5 rows × 38 columns</p>\n",
       "</div>"
      ]
     },
     "execution_count": 24,
     "metadata": {},
     "output_type": "execute_result"
    }
   ],
   "execution_count": 24
  },
  {
   "metadata": {
    "ExecuteTime": {
     "end_time": "2024-05-02T13:11:05.640314Z",
     "start_time": "2024-05-02T13:11:04.739961Z"
    }
   },
   "cell_type": "code",
   "source": [
    "# Match the metadata with the recordings in our dataset\n",
    "ids = pd.read_csv(TRAIN_METADATA_PATH)[\"url\"].str.split(\"/\").str.get(-1).astype(int).to_list()\n",
    "metadata = pd.read_csv(\"./dataset/metadata.csv\")\n",
    "\n",
    "train_metadata_xc = metadata[metadata[\"id\"].isin(ids)]\n",
    "train_metadata_xc.to_csv(\"./dataset/train_metadata_xc.csv\", index=False)\n",
    "train_metadata_xc.shape"
   ],
   "id": "7c90a337c6167067",
   "outputs": [
    {
     "name": "stderr",
     "output_type": "stream",
     "text": [
      "/tmp/ipykernel_2177866/533698673.py:3: DtypeWarning: Columns (33) have mixed types. Specify dtype option on import or set low_memory=False.\n",
      "  metadata = pd.read_csv(\"./dataset/metadata.csv\")\n"
     ]
    },
    {
     "data": {
      "text/plain": [
       "(24195, 38)"
      ]
     },
     "execution_count": 25,
     "metadata": {},
     "output_type": "execute_result"
    }
   ],
   "execution_count": 25
  },
  {
   "metadata": {
    "ExecuteTime": {
     "end_time": "2024-05-02T13:11:07.033635Z",
     "start_time": "2024-05-02T13:11:07.026110Z"
    }
   },
   "cell_type": "code",
   "source": [
    "# Check missing ids; Some recordings have been removed from Xeno-Canto, so they are not in the metadata\n",
    "missing_ids = set(ids) - set(train_metadata_xc[\"id\"])\n",
    "len(missing_ids)"
   ],
   "id": "45c9d8fbb5f80917",
   "outputs": [
    {
     "data": {
      "text/plain": [
       "245"
      ]
     },
     "execution_count": 26,
     "metadata": {},
     "output_type": "execute_result"
    }
   ],
   "execution_count": 26
  }
 ],
 "metadata": {
  "kernelspec": {
   "display_name": "Python 3",
   "language": "python",
   "name": "python3"
  },
  "language_info": {
   "codemirror_mode": {
    "name": "ipython",
    "version": 2
   },
   "file_extension": ".py",
   "mimetype": "text/x-python",
   "name": "python",
   "nbconvert_exporter": "python",
   "pygments_lexer": "ipython2",
   "version": "2.7.6"
  }
 },
 "nbformat": 4,
 "nbformat_minor": 5
}
