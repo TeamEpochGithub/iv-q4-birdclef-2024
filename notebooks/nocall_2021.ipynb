{
 "cells": [
  {
   "cell_type": "code",
   "execution_count": 3,
   "id": "initial_id",
   "metadata": {
    "collapsed": true,
    "ExecuteTime": {
     "end_time": "2024-05-16T08:09:17.630008Z",
     "start_time": "2024-05-16T08:09:17.626547Z"
    }
   },
   "outputs": [],
   "source": [
    "import pandas\n",
    "\n",
    "df_2021 = pandas.read_csv('../data/raw/2021/train_soundscape_labels.csv')"
   ]
  },
  {
   "cell_type": "code",
   "outputs": [
    {
     "data": {
      "text/plain": "0.6370833333333333"
     },
     "execution_count": 5,
     "metadata": {},
     "output_type": "execute_result"
    }
   ],
   "source": [
    "len(df_2021[df_2021[\"birds\"] == \"nocall\"]) / len(df_2021)"
   ],
   "metadata": {
    "collapsed": false,
    "ExecuteTime": {
     "end_time": "2024-05-16T08:14:14.736276Z",
     "start_time": "2024-05-16T08:14:14.733546Z"
    }
   },
   "id": "713aa98d1727a870",
   "execution_count": 5
  }
 ],
 "metadata": {
  "kernelspec": {
   "display_name": "Python 3",
   "language": "python",
   "name": "python3"
  },
  "language_info": {
   "codemirror_mode": {
    "name": "ipython",
    "version": 2
   },
   "file_extension": ".py",
   "mimetype": "text/x-python",
   "name": "python",
   "nbconvert_exporter": "python",
   "pygments_lexer": "ipython2",
   "version": "2.7.6"
  }
 },
 "nbformat": 4,
 "nbformat_minor": 5
}
