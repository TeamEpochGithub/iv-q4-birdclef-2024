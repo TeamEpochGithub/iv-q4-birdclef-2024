{
 "cells": [
  {
   "cell_type": "code",
   "id": "initial_id",
   "metadata": {
    "collapsed": true,
    "ExecuteTime": {
     "end_time": "2024-06-06T14:15:52.826294Z",
     "start_time": "2024-06-06T14:15:52.411061Z"
    }
   },
   "source": [
    "import pandas as pd\n",
    "\n",
    "df = pd.read_csv('../data/idk/list-of-sites.csv')\n",
    "df.head()"
   ],
   "outputs": [
    {
     "data": {
      "text/plain": [
       "  Forest name Site code Restoration type  Longitude   Latitude  Year Active  \\\n",
       "0  HP Bend 36   HP36P1B        Benchmark  76.997687  10.364480          NaN   \n",
       "1  HP Bend 36   HP36P3B        Benchmark  76.997352  10.366579          NaN   \n",
       "2  HP Bend 36   HP36P4B        Benchmark  76.995389  10.369326          NaN   \n",
       "3  HP Bend 37   HP37P1B        Benchmark  76.993891  10.372652          NaN   \n",
       "4  HP Bend 37   HP37P2B        Benchmark  76.993471  10.374513          NaN   \n",
       "\n",
       "   No.\\nsaplings planted  No.\\nspecies planted  Planted\\narea (ha)  \\\n",
       "0                    NaN                   NaN                 NaN   \n",
       "1                    NaN                   NaN                 NaN   \n",
       "2                    NaN                   NaN                 NaN   \n",
       "3                    NaN                   NaN                 NaN   \n",
       "4                    NaN                   NaN                 NaN   \n",
       "\n",
       "   Distance to\\ncontinuous forest (m) Remnant area (ha) Notes  \n",
       "0                                 0.0             >1000   NaN  \n",
       "1                                 0.0             >1000   NaN  \n",
       "2                                 NaN               NaN   NaN  \n",
       "3                                 0.0             >1000   NaN  \n",
       "4                                 0.0             >1000   NaN  "
      ],
      "text/html": [
       "<div>\n",
       "<style scoped>\n",
       "    .dataframe tbody tr th:only-of-type {\n",
       "        vertical-align: middle;\n",
       "    }\n",
       "\n",
       "    .dataframe tbody tr th {\n",
       "        vertical-align: top;\n",
       "    }\n",
       "\n",
       "    .dataframe thead th {\n",
       "        text-align: right;\n",
       "    }\n",
       "</style>\n",
       "<table border=\"1\" class=\"dataframe\">\n",
       "  <thead>\n",
       "    <tr style=\"text-align: right;\">\n",
       "      <th></th>\n",
       "      <th>Forest name</th>\n",
       "      <th>Site code</th>\n",
       "      <th>Restoration type</th>\n",
       "      <th>Longitude</th>\n",
       "      <th>Latitude</th>\n",
       "      <th>Year Active</th>\n",
       "      <th>No.\\nsaplings planted</th>\n",
       "      <th>No.\\nspecies planted</th>\n",
       "      <th>Planted\\narea (ha)</th>\n",
       "      <th>Distance to\\ncontinuous forest (m)</th>\n",
       "      <th>Remnant area (ha)</th>\n",
       "      <th>Notes</th>\n",
       "    </tr>\n",
       "  </thead>\n",
       "  <tbody>\n",
       "    <tr>\n",
       "      <th>0</th>\n",
       "      <td>HP Bend 36</td>\n",
       "      <td>HP36P1B</td>\n",
       "      <td>Benchmark</td>\n",
       "      <td>76.997687</td>\n",
       "      <td>10.364480</td>\n",
       "      <td>NaN</td>\n",
       "      <td>NaN</td>\n",
       "      <td>NaN</td>\n",
       "      <td>NaN</td>\n",
       "      <td>0.0</td>\n",
       "      <td>&gt;1000</td>\n",
       "      <td>NaN</td>\n",
       "    </tr>\n",
       "    <tr>\n",
       "      <th>1</th>\n",
       "      <td>HP Bend 36</td>\n",
       "      <td>HP36P3B</td>\n",
       "      <td>Benchmark</td>\n",
       "      <td>76.997352</td>\n",
       "      <td>10.366579</td>\n",
       "      <td>NaN</td>\n",
       "      <td>NaN</td>\n",
       "      <td>NaN</td>\n",
       "      <td>NaN</td>\n",
       "      <td>0.0</td>\n",
       "      <td>&gt;1000</td>\n",
       "      <td>NaN</td>\n",
       "    </tr>\n",
       "    <tr>\n",
       "      <th>2</th>\n",
       "      <td>HP Bend 36</td>\n",
       "      <td>HP36P4B</td>\n",
       "      <td>Benchmark</td>\n",
       "      <td>76.995389</td>\n",
       "      <td>10.369326</td>\n",
       "      <td>NaN</td>\n",
       "      <td>NaN</td>\n",
       "      <td>NaN</td>\n",
       "      <td>NaN</td>\n",
       "      <td>NaN</td>\n",
       "      <td>NaN</td>\n",
       "      <td>NaN</td>\n",
       "    </tr>\n",
       "    <tr>\n",
       "      <th>3</th>\n",
       "      <td>HP Bend 37</td>\n",
       "      <td>HP37P1B</td>\n",
       "      <td>Benchmark</td>\n",
       "      <td>76.993891</td>\n",
       "      <td>10.372652</td>\n",
       "      <td>NaN</td>\n",
       "      <td>NaN</td>\n",
       "      <td>NaN</td>\n",
       "      <td>NaN</td>\n",
       "      <td>0.0</td>\n",
       "      <td>&gt;1000</td>\n",
       "      <td>NaN</td>\n",
       "    </tr>\n",
       "    <tr>\n",
       "      <th>4</th>\n",
       "      <td>HP Bend 37</td>\n",
       "      <td>HP37P2B</td>\n",
       "      <td>Benchmark</td>\n",
       "      <td>76.993471</td>\n",
       "      <td>10.374513</td>\n",
       "      <td>NaN</td>\n",
       "      <td>NaN</td>\n",
       "      <td>NaN</td>\n",
       "      <td>NaN</td>\n",
       "      <td>0.0</td>\n",
       "      <td>&gt;1000</td>\n",
       "      <td>NaN</td>\n",
       "    </tr>\n",
       "  </tbody>\n",
       "</table>\n",
       "</div>"
      ]
     },
     "execution_count": 1,
     "metadata": {},
     "output_type": "execute_result"
    }
   ],
   "execution_count": 1
  },
  {
   "metadata": {
    "ExecuteTime": {
     "end_time": "2024-06-06T14:16:28.766795Z",
     "start_time": "2024-06-06T14:16:28.760962Z"
    }
   },
   "cell_type": "code",
   "source": [
    "avg_long = df['Longitude'].mean()\n",
    "avg_lat = df['Latitude'].mean()\n",
    "avg_long, avg_lat"
   ],
   "id": "7d3fdecdf7147bdf",
   "outputs": [
    {
     "data": {
      "text/plain": [
       "(76.94375686363638, 10.34640938636364)"
      ]
     },
     "execution_count": 3,
     "metadata": {},
     "output_type": "execute_result"
    }
   ],
   "execution_count": 3
  }
 ],
 "metadata": {
  "kernelspec": {
   "display_name": "Python 3",
   "language": "python",
   "name": "python3"
  },
  "language_info": {
   "codemirror_mode": {
    "name": "ipython",
    "version": 2
   },
   "file_extension": ".py",
   "mimetype": "text/x-python",
   "name": "python",
   "nbconvert_exporter": "python",
   "pygments_lexer": "ipython2",
   "version": "2.7.6"
  }
 },
 "nbformat": 4,
 "nbformat_minor": 5
}
