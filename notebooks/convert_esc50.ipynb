{
 "cells": [
  {
   "cell_type": "code",
   "execution_count": 1,
   "metadata": {
    "ExecuteTime": {
     "end_time": "2024-05-29T22:37:00.705995Z",
     "start_time": "2024-05-29T22:36:59.777221Z"
    }
   },
   "outputs": [],
   "source": [
    "import pandas as pd\n",
    "import numpy as np\n",
    "import glob\n",
    "import librosa\n",
    "import torchaudio.transforms\n",
    "from tqdm.notebook import tqdm\n",
    "from matplotlib import pyplot as plt\n",
    "import torch\n",
    "import torchaudio\n",
    "import os"
   ]
  },
  {
   "cell_type": "code",
   "execution_count": 2,
   "metadata": {
    "ExecuteTime": {
     "end_time": "2024-05-29T22:37:00.708259Z",
     "start_time": "2024-05-29T22:37:00.706788Z"
    }
   },
   "outputs": [],
   "source": [
    "DATASET_PATH = '../data/raw/esc50'"
   ]
  },
  {
   "cell_type": "code",
   "execution_count": 3,
   "metadata": {
    "ExecuteTime": {
     "end_time": "2024-05-29T22:37:00.748452Z",
     "start_time": "2024-05-29T22:37:00.708617Z"
    }
   },
   "outputs": [
    {
     "data": {
      "text/plain": "            filename  fold  target        category  esc10  src_file take\n0   1-100032-A-0.wav     1       0             dog   True    100032    A\n1  1-100038-A-14.wav     1      14  chirping_birds  False    100038    A\n2  1-100210-A-36.wav     1      36  vacuum_cleaner  False    100210    A\n3  1-100210-B-36.wav     1      36  vacuum_cleaner  False    100210    B\n4  1-101296-A-19.wav     1      19    thunderstorm  False    101296    A",
      "text/html": "<div>\n<style scoped>\n    .dataframe tbody tr th:only-of-type {\n        vertical-align: middle;\n    }\n\n    .dataframe tbody tr th {\n        vertical-align: top;\n    }\n\n    .dataframe thead th {\n        text-align: right;\n    }\n</style>\n<table border=\"1\" class=\"dataframe\">\n  <thead>\n    <tr style=\"text-align: right;\">\n      <th></th>\n      <th>filename</th>\n      <th>fold</th>\n      <th>target</th>\n      <th>category</th>\n      <th>esc10</th>\n      <th>src_file</th>\n      <th>take</th>\n    </tr>\n  </thead>\n  <tbody>\n    <tr>\n      <th>0</th>\n      <td>1-100032-A-0.wav</td>\n      <td>1</td>\n      <td>0</td>\n      <td>dog</td>\n      <td>True</td>\n      <td>100032</td>\n      <td>A</td>\n    </tr>\n    <tr>\n      <th>1</th>\n      <td>1-100038-A-14.wav</td>\n      <td>1</td>\n      <td>14</td>\n      <td>chirping_birds</td>\n      <td>False</td>\n      <td>100038</td>\n      <td>A</td>\n    </tr>\n    <tr>\n      <th>2</th>\n      <td>1-100210-A-36.wav</td>\n      <td>1</td>\n      <td>36</td>\n      <td>vacuum_cleaner</td>\n      <td>False</td>\n      <td>100210</td>\n      <td>A</td>\n    </tr>\n    <tr>\n      <th>3</th>\n      <td>1-100210-B-36.wav</td>\n      <td>1</td>\n      <td>36</td>\n      <td>vacuum_cleaner</td>\n      <td>False</td>\n      <td>100210</td>\n      <td>B</td>\n    </tr>\n    <tr>\n      <th>4</th>\n      <td>1-101296-A-19.wav</td>\n      <td>1</td>\n      <td>19</td>\n      <td>thunderstorm</td>\n      <td>False</td>\n      <td>101296</td>\n      <td>A</td>\n    </tr>\n  </tbody>\n</table>\n</div>"
     },
     "execution_count": 3,
     "metadata": {},
     "output_type": "execute_result"
    }
   ],
   "source": [
    "# Read the metadata\n",
    "meta = pd.read_csv(f'{DATASET_PATH}/meta/esc50.csv')\n",
    "meta.head()"
   ]
  },
  {
   "cell_type": "code",
   "execution_count": 4,
   "metadata": {
    "ExecuteTime": {
     "end_time": "2024-05-29T22:37:00.768290Z",
     "start_time": "2024-05-29T22:37:00.749009Z"
    }
   },
   "outputs": [],
   "source": [
    "meta = meta[meta['category'] != 'chirping_birds']"
   ]
  },
  {
   "cell_type": "code",
   "execution_count": 5,
   "metadata": {
    "ExecuteTime": {
     "end_time": "2024-05-29T22:37:00.799163Z",
     "start_time": "2024-05-29T22:37:00.769095Z"
    }
   },
   "outputs": [],
   "source": [
    "# Read files with librosa\n",
    "def read_audio(file):\n",
    "    audio, sr = librosa.load(file, sr=None)\n",
    "    return audio, sr\n",
    "# Resample the adio to 32000 Hz using librosa\n",
    "def resample_audio(audio, sr, new_sr):\n",
    "    resampled_audio = librosa.resample(audio, orig_sr = sr, target_sr=new_sr)\n",
    "    return resampled_audio\n"
   ]
  },
  {
   "cell_type": "code",
   "execution_count": 6,
   "metadata": {
    "ExecuteTime": {
     "end_time": "2024-05-29T22:37:19.324708Z",
     "start_time": "2024-05-29T22:37:00.799772Z"
    }
   },
   "outputs": [
    {
     "data": {
      "text/plain": "  0%|          | 0/1960 [00:00<?, ?it/s]",
      "application/vnd.jupyter.widget-view+json": {
       "version_major": 2,
       "version_minor": 0,
       "model_id": "9e24ebcf0f574f258fccd60c5206ba65"
      }
     },
     "metadata": {},
     "output_type": "display_data"
    }
   ],
   "source": [
    "import soundfile as sf\n",
    "new_dir = f'{DATASET_PATH}/train_audio'\n",
    "\n",
    "# filename, labels, rating, primary_labels\n",
    "os.makedirs(new_dir, exist_ok=True)\n",
    "\n",
    "for filename in tqdm(meta['filename']):\n",
    "    audio, sr = read_audio(f'{DATASET_PATH}/audio/{filename}')\n",
    "    resampled_audio = resample_audio(audio, sr, 32000)\n",
    "\n",
    "    os.makedirs(f'{new_dir}', exist_ok=True)\n",
    "    sf.write(f'{new_dir}/{filename}', resampled_audio, 32000)\n"
   ]
  },
  {
   "cell_type": "code",
   "execution_count": 7,
   "metadata": {
    "ExecuteTime": {
     "end_time": "2024-05-29T22:37:19.330493Z",
     "start_time": "2024-05-29T22:37:19.325526Z"
    }
   },
   "outputs": [
    {
     "data": {
      "text/plain": "            filename primary_label secondary_labels  rating\n0   1-100032-A-0.wav        silent               []       5\n2  1-100210-A-36.wav        silent               []       5\n3  1-100210-B-36.wav        silent               []       5\n4  1-101296-A-19.wav        silent               []       5\n5  1-101296-B-19.wav        silent               []       5",
      "text/html": "<div>\n<style scoped>\n    .dataframe tbody tr th:only-of-type {\n        vertical-align: middle;\n    }\n\n    .dataframe tbody tr th {\n        vertical-align: top;\n    }\n\n    .dataframe thead th {\n        text-align: right;\n    }\n</style>\n<table border=\"1\" class=\"dataframe\">\n  <thead>\n    <tr style=\"text-align: right;\">\n      <th></th>\n      <th>filename</th>\n      <th>primary_label</th>\n      <th>secondary_labels</th>\n      <th>rating</th>\n    </tr>\n  </thead>\n  <tbody>\n    <tr>\n      <th>0</th>\n      <td>1-100032-A-0.wav</td>\n      <td>silent</td>\n      <td>[]</td>\n      <td>5</td>\n    </tr>\n    <tr>\n      <th>2</th>\n      <td>1-100210-A-36.wav</td>\n      <td>silent</td>\n      <td>[]</td>\n      <td>5</td>\n    </tr>\n    <tr>\n      <th>3</th>\n      <td>1-100210-B-36.wav</td>\n      <td>silent</td>\n      <td>[]</td>\n      <td>5</td>\n    </tr>\n    <tr>\n      <th>4</th>\n      <td>1-101296-A-19.wav</td>\n      <td>silent</td>\n      <td>[]</td>\n      <td>5</td>\n    </tr>\n    <tr>\n      <th>5</th>\n      <td>1-101296-B-19.wav</td>\n      <td>silent</td>\n      <td>[]</td>\n      <td>5</td>\n    </tr>\n  </tbody>\n</table>\n</div>"
     },
     "execution_count": 7,
     "metadata": {},
     "output_type": "execute_result"
    }
   ],
   "source": [
    "# write the metadata\n",
    "new_metadata = pd.DataFrame({\n",
    "    'filename': meta['filename'],\n",
    "    \"primary_label\": ['silent'] * len(meta),\n",
    "    \"secondary_labels\": ['[]'] * len(meta),\n",
    "    # \"labels\": ['[]'] * len(meta),  # Provide a list of empty strings with the same length as meta\n",
    "    \"rating\": [5] * len(meta) \n",
    "})\n",
    "new_metadata.head()"
   ]
  },
  {
   "cell_type": "code",
   "execution_count": 8,
   "metadata": {
    "ExecuteTime": {
     "end_time": "2024-05-29T22:37:19.357807Z",
     "start_time": "2024-05-29T22:37:19.331022Z"
    }
   },
   "outputs": [],
   "source": [
    "# write metadata to csv\n",
    "new_metadata.to_csv(f'{DATASET_PATH}/train_metadata.csv', index=False)"
   ]
  }
 ],
 "metadata": {
  "kernelspec": {
   "display_name": ".venv",
   "language": "python",
   "name": "python3"
  },
  "language_info": {
   "codemirror_mode": {
    "name": "ipython",
    "version": 3
   },
   "file_extension": ".py",
   "mimetype": "text/x-python",
   "name": "python",
   "nbconvert_exporter": "python",
   "pygments_lexer": "ipython3",
   "version": "3.10.12"
  }
 },
 "nbformat": 4,
 "nbformat_minor": 2
}
