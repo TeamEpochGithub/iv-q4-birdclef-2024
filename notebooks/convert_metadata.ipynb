{
 "cells": [
  {
   "metadata": {},
   "cell_type": "markdown",
   "source": [
    "# Convert XC metadata to BirdCLEF metadata\n",
    "\n",
    "Convert metadata scraped from Xeno-Canto to a format used for this competition"
   ],
   "id": "3cccba4a43621888"
  },
  {
   "metadata": {
    "ExecuteTime": {
     "end_time": "2024-05-02T13:12:59.886616Z",
     "start_time": "2024-05-02T13:12:59.883713Z"
    }
   },
   "cell_type": "code",
   "source": [
    "from pathlib import Path\n",
    "import ast\n",
    "from collections import defaultdict\n",
    "from collections.abc import Mapping\n",
    "from typing import Final\n",
    "\n",
    "import pandas as pd\n",
    "\n",
    "RATING_MAP: Final[defaultdict[str, int]] = defaultdict(lambda: 0, {\n",
    "    \"A\": 5,\n",
    "    \"B\": 4,\n",
    "    \"C\": 3,\n",
    "    \"D\": 2,\n",
    "    \"E\": 1,\n",
    "})\n",
    "EBIRD_TAXONOMY_PATH: Final[Path] = Path(\"../data/raw/eBird_Taxonomy_v2021.csv\")\n",
    "\n",
    "# Re-scraped 2024 metadata\n",
    "XC_METADATA_PATH: Final[Path] = Path(\"./dataset/train_metadata_xc.csv\")\n",
    "OUT_METADATA_PATH: Final[Path] = Path(\"../data/raw/2024/train_metadata.csv\")\n",
    "EXTENSION: Final[str] = \".ogg\"\n",
    "\n",
    "# Additional 2024 metadata\n",
    "# XC_METADATA_PATH: Final[Path] = Path(\"../data/raw/BirdClef2024_additional.csv\")\n",
    "# OUT_METADATA_PATH: Final[Path] = Path(\"../data/raw/2024_additional/train_metadata.csv\")\n",
    "# EXTENSION: Final[str] = \".mp3\""
   ],
   "id": "1bf84269af6f6d2f",
   "outputs": [],
   "execution_count": 33
  },
  {
   "metadata": {
    "ExecuteTime": {
     "end_time": "2024-05-02T13:13:00.183333Z",
     "start_time": "2024-05-02T13:13:00.131674Z"
    }
   },
   "cell_type": "code",
   "source": [
    "# Retrieve mapping from scientific name to birdcode\n",
    "ebird_taxonomy = pd.read_csv(EBIRD_TAXONOMY_PATH, usecols=[\"SPECIES_CODE\", \"SCI_NAME\"])\n",
    "\n",
    "scientific_name_to_birdcode: Mapping[str, str] = ebird_taxonomy.set_index(\"SCI_NAME\").to_dict()[\"SPECIES_CODE\"] | {\"Spilopelia senegalensis\": \"laudov1\", \"Spilopelia chinensis\": \"spodov\", \"Acritillas indica\": \"yebbul3\"}"
   ],
   "id": "1d04bc58d6885a0",
   "outputs": [],
   "execution_count": 34
  },
  {
   "metadata": {
    "ExecuteTime": {
     "end_time": "2024-05-02T13:13:00.691204Z",
     "start_time": "2024-05-02T13:13:00.354323Z"
    }
   },
   "cell_type": "code",
   "source": [
    "# Read XC metadata and rename columns that map one-to-one to columns in train_metadata\n",
    "metadata = pd.read_csv(XC_METADATA_PATH, usecols=[\"id\", \"gen\", \"sp\", \"en\", \"rec\", \"lat\", \"lng\", \"type\", \"url\", \"lic\", \"q\", \"also\"]).rename(columns={\n",
    "    \"en\": \"common_name\",\n",
    "    \"rec\": \"author\",\n",
    "    \"lat\": \"latitude\",\n",
    "    \"lng\": \"longitude\",\n",
    "    \"lic\": \"license\",\n",
    "})\n",
    "\n",
    "# Add all other columns\n",
    "metadata[\"scientific_name\"] = (metadata[\"gen\"].fillna(\"\") + \" \" + metadata[\"sp\"].fillna(\"\")).str.strip()\n",
    "metadata[\"type\"] = metadata[\"type\"].fillna(\"\").str.split(\", \")\n",
    "metadata[\"primary_label\"] = metadata[\"scientific_name\"].map(scientific_name_to_birdcode)\n",
    "metadata[\"secondary_labels\"] = metadata[\"also\"].map(lambda l: [scientific_name_to_birdcode[x] for x in ast.literal_eval(l) if x in scientific_name_to_birdcode])\n",
    "metadata[\"url\"] = \"https:\" + metadata[\"url\"]\n",
    "metadata[\"filename\"] = (metadata[\"primary_label\"] + \"/XC\" + metadata[\"id\"].astype(str) + EXTENSION)\n",
    "metadata[\"rating\"] = metadata[\"q\"].map(RATING_MAP)\n",
    "metadata = metadata.drop(columns=[\"id\", \"q\", \"also\"]).sort_values(\"filename\").reindex(columns=[\n",
    "    \"primary_label\", \"secondary_labels\", \"type\", \"latitude\", \"longitude\", \"scientific_name\", \"common_name\", \"author\", \"license\", \"rating\", \"url\",  \"filename\"\n",
    "])\n",
    "\n",
    "metadata.head()"
   ],
   "id": "2fa5c732380c2c62",
   "outputs": [
    {
     "data": {
      "text/plain": [
       "     primary_label    secondary_labels    type  latitude  longitude  \\\n",
       "937         asbfly                  []  [call]   39.2297   118.1987   \n",
       "1809        asbfly  [gybthr1, brebul1]  [song]   36.3319   127.3555   \n",
       "2961        asbfly                  []  [call]   21.1697    70.6005   \n",
       "3154        asbfly                  []  [call]   15.5442    73.7733   \n",
       "3155        asbfly                  []  [call]   15.5442    73.7733   \n",
       "\n",
       "         scientific_name             common_name  \\\n",
       "937   Muscicapa dauurica  Asian Brown Flycatcher   \n",
       "1809  Muscicapa dauurica  Asian Brown Flycatcher   \n",
       "2961  Muscicapa dauurica  Asian Brown Flycatcher   \n",
       "3154  Muscicapa dauurica  Asian Brown Flycatcher   \n",
       "3155  Muscicapa dauurica  Asian Brown Flycatcher   \n",
       "\n",
       "                                 author  \\\n",
       "937                      Matt Slaymaker   \n",
       "1809                      Stuart Fisher   \n",
       "2961                          vir joshi   \n",
       "3154  Albert Lastukhin & Sergei Karpeev   \n",
       "3155  Albert Lastukhin & Sergei Karpeev   \n",
       "\n",
       "                                           license  rating  \\\n",
       "937   //creativecommons.org/licenses/by-nc-sa/3.0/       5   \n",
       "1809  //creativecommons.org/licenses/by-nc-sa/4.0/       3   \n",
       "2961  //creativecommons.org/licenses/by-nc-sa/4.0/       1   \n",
       "3154  //creativecommons.org/licenses/by-nc-sa/4.0/       4   \n",
       "3155  //creativecommons.org/licenses/by-nc-sa/4.0/       4   \n",
       "\n",
       "                                url             filename  \n",
       "937   https://xeno-canto.org/134896  asbfly/XC134896.ogg  \n",
       "1809  https://xeno-canto.org/175797  asbfly/XC175797.ogg  \n",
       "2961  https://xeno-canto.org/207738  asbfly/XC207738.ogg  \n",
       "3154  https://xeno-canto.org/209218  asbfly/XC209218.ogg  \n",
       "3155  https://xeno-canto.org/209219  asbfly/XC209219.ogg  "
      ],
      "text/html": [
       "<div>\n",
       "<style scoped>\n",
       "    .dataframe tbody tr th:only-of-type {\n",
       "        vertical-align: middle;\n",
       "    }\n",
       "\n",
       "    .dataframe tbody tr th {\n",
       "        vertical-align: top;\n",
       "    }\n",
       "\n",
       "    .dataframe thead th {\n",
       "        text-align: right;\n",
       "    }\n",
       "</style>\n",
       "<table border=\"1\" class=\"dataframe\">\n",
       "  <thead>\n",
       "    <tr style=\"text-align: right;\">\n",
       "      <th></th>\n",
       "      <th>primary_label</th>\n",
       "      <th>secondary_labels</th>\n",
       "      <th>type</th>\n",
       "      <th>latitude</th>\n",
       "      <th>longitude</th>\n",
       "      <th>scientific_name</th>\n",
       "      <th>common_name</th>\n",
       "      <th>author</th>\n",
       "      <th>license</th>\n",
       "      <th>rating</th>\n",
       "      <th>url</th>\n",
       "      <th>filename</th>\n",
       "    </tr>\n",
       "  </thead>\n",
       "  <tbody>\n",
       "    <tr>\n",
       "      <th>937</th>\n",
       "      <td>asbfly</td>\n",
       "      <td>[]</td>\n",
       "      <td>[call]</td>\n",
       "      <td>39.2297</td>\n",
       "      <td>118.1987</td>\n",
       "      <td>Muscicapa dauurica</td>\n",
       "      <td>Asian Brown Flycatcher</td>\n",
       "      <td>Matt Slaymaker</td>\n",
       "      <td>//creativecommons.org/licenses/by-nc-sa/3.0/</td>\n",
       "      <td>5</td>\n",
       "      <td>https://xeno-canto.org/134896</td>\n",
       "      <td>asbfly/XC134896.ogg</td>\n",
       "    </tr>\n",
       "    <tr>\n",
       "      <th>1809</th>\n",
       "      <td>asbfly</td>\n",
       "      <td>[gybthr1, brebul1]</td>\n",
       "      <td>[song]</td>\n",
       "      <td>36.3319</td>\n",
       "      <td>127.3555</td>\n",
       "      <td>Muscicapa dauurica</td>\n",
       "      <td>Asian Brown Flycatcher</td>\n",
       "      <td>Stuart Fisher</td>\n",
       "      <td>//creativecommons.org/licenses/by-nc-sa/4.0/</td>\n",
       "      <td>3</td>\n",
       "      <td>https://xeno-canto.org/175797</td>\n",
       "      <td>asbfly/XC175797.ogg</td>\n",
       "    </tr>\n",
       "    <tr>\n",
       "      <th>2961</th>\n",
       "      <td>asbfly</td>\n",
       "      <td>[]</td>\n",
       "      <td>[call]</td>\n",
       "      <td>21.1697</td>\n",
       "      <td>70.6005</td>\n",
       "      <td>Muscicapa dauurica</td>\n",
       "      <td>Asian Brown Flycatcher</td>\n",
       "      <td>vir joshi</td>\n",
       "      <td>//creativecommons.org/licenses/by-nc-sa/4.0/</td>\n",
       "      <td>1</td>\n",
       "      <td>https://xeno-canto.org/207738</td>\n",
       "      <td>asbfly/XC207738.ogg</td>\n",
       "    </tr>\n",
       "    <tr>\n",
       "      <th>3154</th>\n",
       "      <td>asbfly</td>\n",
       "      <td>[]</td>\n",
       "      <td>[call]</td>\n",
       "      <td>15.5442</td>\n",
       "      <td>73.7733</td>\n",
       "      <td>Muscicapa dauurica</td>\n",
       "      <td>Asian Brown Flycatcher</td>\n",
       "      <td>Albert Lastukhin &amp; Sergei Karpeev</td>\n",
       "      <td>//creativecommons.org/licenses/by-nc-sa/4.0/</td>\n",
       "      <td>4</td>\n",
       "      <td>https://xeno-canto.org/209218</td>\n",
       "      <td>asbfly/XC209218.ogg</td>\n",
       "    </tr>\n",
       "    <tr>\n",
       "      <th>3155</th>\n",
       "      <td>asbfly</td>\n",
       "      <td>[]</td>\n",
       "      <td>[call]</td>\n",
       "      <td>15.5442</td>\n",
       "      <td>73.7733</td>\n",
       "      <td>Muscicapa dauurica</td>\n",
       "      <td>Asian Brown Flycatcher</td>\n",
       "      <td>Albert Lastukhin &amp; Sergei Karpeev</td>\n",
       "      <td>//creativecommons.org/licenses/by-nc-sa/4.0/</td>\n",
       "      <td>4</td>\n",
       "      <td>https://xeno-canto.org/209219</td>\n",
       "      <td>asbfly/XC209219.ogg</td>\n",
       "    </tr>\n",
       "  </tbody>\n",
       "</table>\n",
       "</div>"
      ]
     },
     "execution_count": 35,
     "metadata": {},
     "output_type": "execute_result"
    }
   ],
   "execution_count": 35
  },
  {
   "metadata": {},
   "cell_type": "markdown",
   "source": [
    "# Merge re-scraped metadata with metadata from the competition\n",
    "Since 542 audio files have been removed from Xeno-Canto, but are still present in our dataset, we have to merge the missing data from the BirdCLEF 2024 data into the new dataframe. \n",
    "\n",
    "SKIP THE NEXT BLOCK IF YOU USE ANY OTHER DATASET"
   ],
   "id": "e07e804c21e88fd6"
  },
  {
   "metadata": {
    "ExecuteTime": {
     "end_time": "2024-05-02T13:13:01.699093Z",
     "start_time": "2024-05-02T13:13:01.567814Z"
    }
   },
   "cell_type": "code",
   "source": [
    "BIRDCLEF_2024_METADATA_PATH: Final[Path] = Path(\"../data/raw/train_metadata.csv\")\n",
    "\n",
    "birdclef_2024_metadata = pd.read_csv(BIRDCLEF_2024_METADATA_PATH)\n",
    "\n",
    "metadata_filled = metadata.combine_first(birdclef_2024_metadata).sort_values(\"filename\")\n",
    "\n",
    "species_birdclef = set(birdclef_2024_metadata[\"primary_label\"])\n",
    "species_meta = set(metadata_filled[\"primary_label\"])\n",
    "species_birdclef - species_meta"
   ],
   "id": "800c34943e315caa",
   "outputs": [
    {
     "data": {
      "text/plain": [
       "set()"
      ]
     },
     "execution_count": 36,
     "metadata": {},
     "output_type": "execute_result"
    }
   ],
   "execution_count": 36
  },
  {
   "metadata": {
    "ExecuteTime": {
     "end_time": "2024-05-02T13:13:02.432625Z",
     "start_time": "2024-05-02T13:13:02.312545Z"
    }
   },
   "cell_type": "code",
   "source": [
    "metadata_filled.to_csv(OUT_METADATA_PATH, index=False)\n",
    "metadata_filled.shape"
   ],
   "id": "688f5ed76601c575",
   "outputs": [
    {
     "data": {
      "text/plain": [
       "(24459, 12)"
      ]
     },
     "execution_count": 37,
     "metadata": {},
     "output_type": "execute_result"
    }
   ],
   "execution_count": 37
  }
 ],
 "metadata": {
  "kernelspec": {
   "display_name": "Python 3",
   "language": "python",
   "name": "python3"
  },
  "language_info": {
   "codemirror_mode": {
    "name": "ipython",
    "version": 2
   },
   "file_extension": ".py",
   "mimetype": "text/x-python",
   "name": "python",
   "nbconvert_exporter": "python",
   "pygments_lexer": "ipython2",
   "version": "2.7.6"
  }
 },
 "nbformat": 4,
 "nbformat_minor": 5
}
