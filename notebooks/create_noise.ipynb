{
 "cells": [
  {
   "cell_type": "code",
   "execution_count": 2,
   "metadata": {},
   "outputs": [],
   "source": [
    "from moviepy.editor import AudioFileClip\n",
    "\n",
    "video_path = '../data/raw/Green_noise.mp4'\n",
    "audio_path = '../data/raw/Green_noise.wav'\n",
    "\n",
    "# # Read the audio from the mp4 file\n",
    "# audio_clip = AudioFileClip(video_path)\n",
    "\n",
    "# # Save the audio as a separate wav file\n",
    "# audio_clip.write_audiofile(audio_path)"
   ]
  },
  {
   "cell_type": "code",
   "execution_count": 5,
   "metadata": {},
   "outputs": [
    {
     "name": "stdout",
     "output_type": "stream",
     "text": [
      "(1073741823,) 44100\n"
     ]
    }
   ],
   "source": [
    "import librosa\n",
    "import numpy\n",
    "\n",
    "audio, sr = librosa.load(audio_path, sr=44100)\n",
    "print(audio.shape, sr)"
   ]
  },
  {
   "cell_type": "code",
   "execution_count": 7,
   "metadata": {},
   "outputs": [
    {
     "name": "stdout",
     "output_type": "stream",
     "text": [
      "(779132389,)\n"
     ]
    }
   ],
   "source": [
    "def resample_audio(audio, sr, new_sr):\n",
    "    resampled_audio = librosa.resample(audio, orig_sr = sr, target_sr=new_sr)\n",
    "    return resampled_audio\n",
    "\n",
    "resampled_audio = resample_audio(audio, sr, 32000)\n",
    "print(resampled_audio.shape)"
   ]
  },
  {
   "cell_type": "code",
   "execution_count": 12,
   "metadata": {},
   "outputs": [],
   "source": [
    "import numpy as np\n",
    "import soundfile as sf\n",
    "import os\n",
    "\n",
    "# Define the duration of each snippet in seconds\n",
    "snippet_duration = 5\n",
    "output_path = '../data/raw/green/'\n",
    "\n",
    "os.makedirs(output_path+'train_audio', exist_ok=True)\n",
    "\n",
    "# Calculate the total number of snippets\n",
    "total_snippets = len(resampled_audio) // (snippet_duration * sr)\n",
    "filenames = []\n",
    "# Iterate over each snippet\n",
    "for i in range(total_snippets):\n",
    "    # Calculate the start and end indices of the current snippet\n",
    "    start_index = i * snippet_duration * sr\n",
    "    end_index = (i + 1) * snippet_duration * sr\n",
    "\n",
    "    # Extract the current snippet from the resampled audio\n",
    "    snippet = resampled_audio[start_index:end_index] * np.random.rand(1)\n",
    "\n",
    "    # Define the filename for the current snippet\n",
    "    filename = f\"{output_path}train_audio/snippet_{i+1}.wav\"\n",
    "    filenames.append(f'snippet_{i+1}.wav')\n",
    "    # Save the snippet as a separate WAV file\n",
    "    sf.write(filename, snippet, sr, format='wav')"
   ]
  },
  {
   "cell_type": "code",
   "execution_count": 14,
   "metadata": {},
   "outputs": [],
   "source": [
    "# Make the metadata\n",
    "import pandas as pd\n",
    "metadata = pd.DataFrame({\n",
    "    'filename': filenames,\n",
    "    'primary_label': ['silent'] * len(filenames),\n",
    "    \"secondary_labels\": ['[]'] * len(filenames),\n",
    "    \"rating\": [5] * len(filenames)\n",
    "})\n",
    "\n",
    "metadata.to_csv(f'{output_path}train_metadata.csv')"
   ]
  }
 ],
 "metadata": {
  "kernelspec": {
   "display_name": ".venv",
   "language": "python",
   "name": "python3"
  },
  "language_info": {
   "codemirror_mode": {
    "name": "ipython",
    "version": 3
   },
   "file_extension": ".py",
   "mimetype": "text/x-python",
   "name": "python",
   "nbconvert_exporter": "python",
   "pygments_lexer": "ipython3",
   "version": "3.10.12"
  }
 },
 "nbformat": 4,
 "nbformat_minor": 2
}
