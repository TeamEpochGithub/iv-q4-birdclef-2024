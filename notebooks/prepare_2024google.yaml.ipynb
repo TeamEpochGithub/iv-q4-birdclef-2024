{
 "cells": [
  {
   "cell_type": "code",
   "execution_count": 49,
   "id": "initial_id",
   "metadata": {
    "collapsed": true,
    "ExecuteTime": {
     "end_time": "2024-05-16T10:25:26.357177Z",
     "start_time": "2024-05-16T10:25:26.347566Z"
    }
   },
   "outputs": [],
   "source": [
    "from pathlib import Path\n",
    "import pandas as pd\n",
    "\n",
    "only_silences = True\n",
    "\n",
    "AUDIO_PATH = Path(\"../data/raw/2024/unlabeled_soundscapes\")\n",
    "FILE_PATHS = list(AUDIO_PATH.glob(\"*.ogg\"))\n",
    "PREDICTIONS_OUTPUT_PATH = Path(\"../data/raw/2024/google-bvc-predictions.csv\")\n",
    "SAMPLE_RATE = 32000\n",
    "OUTPUT_PATH = Path(\"../data/raw/2024google/train_audio/\")\n",
    "META_PATH = Path(\"../data/raw/2024google/train_metadata.csv\")"
   ]
  },
  {
   "cell_type": "code",
   "outputs": [],
   "source": [
    "#Load in preds\n",
    "\n",
    "df_preds = pd.read_csv(PREDICTIONS_OUTPUT_PATH)\n",
    "#Get the rows that \n"
   ],
   "metadata": {
    "collapsed": false,
    "ExecuteTime": {
     "end_time": "2024-05-16T10:25:29.864173Z",
     "start_time": "2024-05-16T10:25:26.388515Z"
    }
   },
   "id": "8dea59d35af1f0ce",
   "execution_count": 50
  },
  {
   "cell_type": "code",
   "outputs": [
    {
     "name": "stderr",
     "output_type": "stream",
     "text": [
      "/tmp/ipykernel_2365675/1380949178.py:12: SettingWithCopyWarning: \n",
      "A value is trying to be set on a copy of a slice from a DataFrame.\n",
      "Try using .loc[row_indexer,col_indexer] = value instead\n",
      "\n",
      "See the caveats in the documentation: https://pandas.pydata.org/pandas-docs/stable/user_guide/indexing.html#returning-a-view-versus-a-copy\n",
      "  sliced[\"file\"] = sliced[\"row_id\"].apply(lambda x: x.split(\"_\")[0])\n"
     ]
    },
    {
     "name": "stdout",
     "output_type": "stream",
     "text": [
      "0.03788649511270696\n"
     ]
    },
    {
     "name": "stderr",
     "output_type": "stream",
     "text": [
      "Processing files: 100%|██████████| 1957/1957 [04:47<00:00,  6.81it/s]\n"
     ]
    }
   ],
   "source": [
    "from tqdm import tqdm\n",
    "import librosa\n",
    "import soundfile as sf\n",
    "\n",
    "train_metadata = {\"filename\": [], \"labels\": [], \"rating\": [], \"primary_label\": []}\n",
    "\n",
    "\n",
    "if only_silences:\n",
    "    # Get the rows where the sum of the classes is <= 0.1\n",
    "    sliced = df_preds[df_preds.iloc[:,:182].sum(axis=1) <= 0.004]\n",
    "    print(len(sliced) / len(df_preds))\n",
    "    sliced[\"file\"] = sliced[\"row_id\"].apply(lambda x: x.split(\"_\")[0])\n",
    "    \n",
    "    # Group by the file and apply operations per group in loop\n",
    "    for group in tqdm(sliced.groupby(\"file\"), desc=\"Processing files\"):\n",
    "        file_name = group[0]\n",
    "\n",
    "\n",
    "        curr_df = group[1]\n",
    "        file = AUDIO_PATH /file_name\n",
    "        \n",
    "        segments = curr_df[\"row_id\"].apply(lambda x: int(x.split(\"_\")[1])).values\n",
    "        # print(segments)\n",
    "        \n",
    "        #Load the file using librosa\n",
    "        y, sr = librosa.load(file, sr=SAMPLE_RATE)\n",
    "        #Replace .ogg with empty\n",
    "        file_name = file_name.replace(\".ogg\", \"\")\n",
    "        #Slice the audio file into 5 second chunks\n",
    "        for segment in segments:\n",
    "            start = segment * SAMPLE_RATE\n",
    "            end = (segment + 5) * SAMPLE_RATE\n",
    "            \n",
    "            chunk = y[start:end]\n",
    "            \n",
    "            #Save the chunk to disk\n",
    "            output_file = OUTPUT_PATH / f\"{file_name}_{segment}.wav\"\n",
    "            sf.write(output_file, chunk, SAMPLE_RATE, format=\"WAV\")\n",
    "            \n",
    "\n",
    "            #Append the metadata to the metadata dict\n",
    "            train_metadata[\"filename\"].append(f\"{file_name}_{segment}.wav\")\n",
    "            train_metadata[\"labels\"].append([])\n",
    "            train_metadata[\"rating\"].append(5)\n",
    "            train_metadata[\"primary_label\"].append(\"silent\")\n",
    "        \n",
    "    #Save metatdata to disk\n",
    "    metadata_df = pd.DataFrame(train_metadata)\n",
    "    metadata_df.to_csv(META_PATH, index=False)\n",
    "        \n",
    "        \n",
    "\n",
    "    \n"
   ],
   "metadata": {
    "collapsed": false,
    "ExecuteTime": {
     "end_time": "2024-05-16T11:11:09.192381Z",
     "start_time": "2024-05-16T11:06:21.590001Z"
    }
   },
   "id": "454ea8bb3a892313",
   "execution_count": 69
  },
  {
   "cell_type": "code",
   "outputs": [],
   "source": [],
   "metadata": {
    "collapsed": false
   },
   "id": "f0797abd23215d8e"
  }
 ],
 "metadata": {
  "kernelspec": {
   "display_name": "Python 3",
   "language": "python",
   "name": "python3"
  },
  "language_info": {
   "codemirror_mode": {
    "name": "ipython",
    "version": 2
   },
   "file_extension": ".py",
   "mimetype": "text/x-python",
   "name": "python",
   "nbconvert_exporter": "python",
   "pygments_lexer": "ipython2",
   "version": "2.7.6"
  }
 },
 "nbformat": 4,
 "nbformat_minor": 5
}
