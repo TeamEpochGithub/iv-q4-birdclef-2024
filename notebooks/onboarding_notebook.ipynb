{
 "cells": [
  {
   "cell_type": "markdown",
   "metadata": {},
   "source": [
    "## Best practices using python:\n",
    "- Avoid using python funtions and loops\n"
   ]
  },
  {
   "cell_type": "markdown",
   "metadata": {},
   "source": [
    "Finding the sum of values in an array/list"
   ]
  },
  {
   "cell_type": "code",
   "execution_count": 39,
   "metadata": {},
   "outputs": [
    {
     "name": "stdout",
     "output_type": "stream",
     "text": [
      "Native python 1000000 4.724264144897461 miliseconds\n",
      "Numpy 1000000 0.5729198455810547 miliseconds\n"
     ]
    }
   ],
   "source": [
    "# Find the sum of 1000000 items\n",
    "import time\n",
    "arr = [1] * 1000000\n",
    "start_time = time.time()\n",
    "sum_ = sum(arr)\n",
    "print('Native python', sum_, f\"{(time.time()-start_time)*1000} miliseconds\")\n",
    "# Now do it using numpy\n",
    "import numpy as np\n",
    "arr = np.ones(1000000).astype(np.int8)\n",
    "start_time = time.time()\n",
    "sum_ = np.sum(arr)\n",
    "print('Numpy', sum_, f\"{(time.time()-start_time)*1000} miliseconds\")\n"
   ]
  },
  {
   "cell_type": "markdown",
   "metadata": {},
   "source": [
    "Whenever you can use vectorized operations to avoid loops"
   ]
  },
  {
   "cell_type": "code",
   "execution_count": 40,
   "metadata": {},
   "outputs": [
    {
     "name": "stdout",
     "output_type": "stream",
     "text": [
      "Sum using numpy: 499500\n",
      "Sum using nested lists: 499500\n",
      "Execution time using numpy: 0.0011365413665771484\n",
      "Execution time using nested lists: 0.006396055221557617\n"
     ]
    }
   ],
   "source": [
    "import numpy as np\n",
    "import time\n",
    "\n",
    "# Using nested lists\n",
    "nested_list = [list(range(1000)) for _ in range(1000)]\n",
    "start_time = time.time()\n",
    "sum_nested = [sum(i) for i in nested_list]\n",
    "nested_list_time = time.time() - start_time\n",
    "\n",
    "# Using vectorized numpy operations\n",
    "arr = np.array(nested_list)\n",
    "start_time = time.time()\n",
    "# Specify axis to apply function along a given dimension\n",
    "sum_np = np.sum(arr, axis=1)\n",
    "numpy_time = time.time() - start_time\n",
    "\n",
    "\n",
    "print(\"Sum using numpy:\", sum_np[0])\n",
    "print(\"Sum using nested lists:\", sum_nested[0])\n",
    "print(\"Execution time using numpy:\", numpy_time)\n",
    "print(\"Execution time using nested lists:\", nested_list_time)"
   ]
  },
  {
   "cell_type": "markdown",
   "metadata": {},
   "source": [
    "To ensure deterministic results using torch and CUDA we have to set the seed to a few things"
   ]
  },
  {
   "cell_type": "code",
   "execution_count": 41,
   "metadata": {},
   "outputs": [],
   "source": [
    "import torch\n",
    "def set_torch_seed(seed: int = 42) -> None:\n",
    "    \"\"\"Set torch seed for reproducibility.\n",
    "\n",
    "    :param seed: seed to set\n",
    "\n",
    "    :return: None\n",
    "    \"\"\"\n",
    "    torch.manual_seed(seed)\n",
    "    torch.cuda.manual_seed(seed)\n",
    "    torch.cuda.manual_seed_all(seed)\n",
    "\n",
    "    # When running on the CuDNN backend, two further options must be set\n",
    "    torch.backends.cudnn.deterministic = True\n",
    "    torch.backends.cudnn.benchmark = False\n",
    "\n",
    "set_torch_seed(42)"
   ]
  },
  {
   "cell_type": "markdown",
   "metadata": {},
   "source": [
    "## Training a model using Pytorch\n",
    "You need to implement the following to be able to train a model using Pytorch:\n",
    "- A dataset and a dataloader\n",
    "- A loss function\n",
    "- A model\n",
    "- An optimizer\n",
    "\n"
   ]
  },
  {
   "cell_type": "markdown",
   "metadata": {},
   "source": [
    "### Dataset and dataloader"
   ]
  },
  {
   "cell_type": "code",
   "execution_count": 42,
   "metadata": {},
   "outputs": [],
   "source": [
    "import torch\n",
    "import torchvision\n",
    "from torch.utils.data import Dataset\n",
    "from sklearn.model_selection import train_test_split\n",
    "\n",
    "class CustomDataset(Dataset):\n",
    "    def __init__(self, data, labels):\n",
    "        self.data = data\n",
    "        self.labels = labels\n",
    "\n",
    "    def __len__(self):\n",
    "        return len(self.data)\n",
    "\n",
    "    def __getitem__(self, index):\n",
    "        sample = self.data[index]\n",
    "        label = self.labels[index]\n",
    "        return sample, label\n",
    "\n",
    "# Create an instance of the dataset\n",
    "X = torch.ones(100, 32)\n",
    "y = torch.ones(100, 2)\n",
    "X_train, X_test, y_train, y_test = train_test_split(X, y, test_size=0.2, random_state=42)\n",
    "\n",
    "\n",
    "train_dataset = CustomDataset(X_train, y_train)\n",
    "test_dataset = CustomDataset(X_test, y_test)"
   ]
  },
  {
   "cell_type": "code",
   "execution_count": 43,
   "metadata": {},
   "outputs": [],
   "source": [
    "import torch\n",
    "from torch.utils.data import DataLoader\n",
    "\n",
    "# Create a dataloader\n",
    "batch_size = 2\n",
    "train_dataloader = DataLoader(train_dataset, batch_size=batch_size, shuffle=True)\n",
    "test_dataloader = DataLoader(test_dataset, batch_size=batch_size, shuffle=False)"
   ]
  },
  {
   "cell_type": "markdown",
   "metadata": {},
   "source": [
    "### The loss function"
   ]
  },
  {
   "cell_type": "code",
   "execution_count": 44,
   "metadata": {},
   "outputs": [],
   "source": [
    "from torch import nn\n",
    "criterion = nn.MSELoss()"
   ]
  },
  {
   "cell_type": "code",
   "execution_count": 45,
   "metadata": {},
   "outputs": [],
   "source": [
    "class MyModel(nn.Module):\n",
    "    \n",
    "    def __init__(self):\n",
    "        super().__init__()\n",
    "        self.layer1 = nn.Linear(32, 16)\n",
    "        self.relu = nn.ReLU()\n",
    "        self.layer2 = nn.Linear(16, 8)\n",
    "        self.layer3 = nn.Linear(8, 1)\n",
    "\n",
    "    def forward(self, x):\n",
    "        x1 = self.layer1(x)\n",
    "        x2 = self.relu(x1)\n",
    "        x3  = self.layer2(x2)\n",
    "        x4 = self.relu(x3)\n",
    "        y = self.layer3(x4)\n",
    "        return y"
   ]
  },
  {
   "cell_type": "markdown",
   "metadata": {},
   "source": [
    "Optimizer"
   ]
  },
  {
   "cell_type": "code",
   "execution_count": 46,
   "metadata": {},
   "outputs": [],
   "source": [
    "import torch\n",
    "import torch.optim as optim\n",
    "device = 'cuda' if torch.cuda.is_available() else 'cpu'\n",
    "\n",
    "# Create an instance of your model\n",
    "model = MyModel()\n",
    "model.to(device)\n",
    "# Define the learning rate\n",
    "learning_rate = 0.001\n",
    "\n",
    "# Create the Adam optimizer\n",
    "optimizer = optim.Adam(model.parameters(), lr=learning_rate)"
   ]
  },
  {
   "cell_type": "markdown",
   "metadata": {},
   "source": [
    "## Training loop"
   ]
  },
  {
   "cell_type": "markdown",
   "metadata": {},
   "source": [
    "### Train a single epoch"
   ]
  },
  {
   "cell_type": "code",
   "execution_count": 47,
   "metadata": {},
   "outputs": [],
   "source": [
    "from tqdm import tqdm\n",
    "\n",
    "def train_one_epoch(train_dataloader):\n",
    "    losses = []\n",
    "    model.train()\n",
    "    pbar = tqdm(train_dataloader)\n",
    "    for batch in pbar:\n",
    "        X_batch, y_batch = batch\n",
    "        X_batch = X_batch.to(device).float()\n",
    "        y_batch = y_batch.to(device).float()\n",
    "\n",
    "        # Forward pass\n",
    "        y_pred = model(X_batch).squeeze(1)\n",
    "        loss = criterion(y_pred, y_batch)\n",
    "\n",
    "        # Backward pass\n",
    "        optimizer.zero_grad()\n",
    "        loss.backward()\n",
    "        optimizer.step()\n",
    "\n",
    "        # Print tqdm\n",
    "        losses.append(loss.item())\n",
    "        pbar.set_postfix(loss=sum(losses) / len(losses))\n",
    "\n",
    "def val_one_epoch(test_dataloader):\n",
    "    losses = []\n",
    "    model.eval()\n",
    "    pbar = tqdm(test_dataloader, unit=\"batch\")\n",
    "    with torch.no_grad():\n",
    "        for batch in pbar:\n",
    "            X_batch, y_batch = batch\n",
    "            X_batch = X_batch.to(device).float()\n",
    "            y_batch = y_batch.to(device).float()\n",
    "\n",
    "            # Forward pass\n",
    "            y_pred = model(X_batch).squeeze(1)\n",
    "            loss = criterion(y_pred, y_batch)\n",
    "\n",
    "            # Print losses\n",
    "            losses.append(loss.item())\n",
    "            pbar.set_postfix(loss=sum(losses) / len(losses))\n",
    "    "
   ]
  },
  {
   "cell_type": "code",
   "execution_count": 49,
   "metadata": {},
   "outputs": [
    {
     "name": "stderr",
     "output_type": "stream",
     "text": [
      "100%|██████████| 40/40 [00:00<00:00, 144.69it/s, loss=0]\n",
      "100%|██████████| 10/10 [00:00<00:00, 281.63batch/s, loss=0]\n",
      "100%|██████████| 40/40 [00:00<00:00, 125.71it/s, loss=0]\n",
      "100%|██████████| 10/10 [00:00<00:00, 187.00batch/s, loss=0]\n",
      "100%|██████████| 40/40 [00:00<00:00, 128.94it/s, loss=0]\n",
      "100%|██████████| 10/10 [00:00<00:00, 143.62batch/s, loss=0]\n",
      "100%|██████████| 40/40 [00:00<00:00, 126.98it/s, loss=0]\n",
      "100%|██████████| 10/10 [00:00<00:00, 121.48batch/s, loss=0]\n",
      "100%|██████████| 40/40 [00:00<00:00, 128.48it/s, loss=0]\n",
      "100%|██████████| 10/10 [00:00<00:00, 141.25batch/s, loss=0]\n",
      "100%|██████████| 40/40 [00:00<00:00, 141.32it/s, loss=0]\n",
      "100%|██████████| 10/10 [00:00<00:00, 150.78batch/s, loss=0]\n",
      "100%|██████████| 40/40 [00:00<00:00, 116.25it/s, loss=0]\n",
      "100%|██████████| 10/10 [00:00<00:00, 185.10batch/s, loss=0]\n",
      "100%|██████████| 40/40 [00:00<00:00, 119.50it/s, loss=0]\n",
      "100%|██████████| 10/10 [00:00<00:00, 596.32batch/s, loss=0]\n",
      "100%|██████████| 40/40 [00:00<00:00, 118.20it/s, loss=0]\n",
      "100%|██████████| 10/10 [00:00<00:00, 140.63batch/s, loss=0]\n",
      "100%|██████████| 40/40 [00:00<00:00, 145.59it/s, loss=0]\n",
      "100%|██████████| 10/10 [00:00<00:00, 132.29batch/s, loss=0]\n"
     ]
    }
   ],
   "source": [
    "num_epochs = 10\n",
    "for epoch in range(num_epochs):\n",
    "    train_one_epoch(train_dataloader=train_dataloader)\n",
    "    val_one_epoch(test_dataloader=test_dataloader)"
   ]
  },
  {
   "cell_type": "code",
   "execution_count": 51,
   "metadata": {},
   "outputs": [
    {
     "name": "stdout",
     "output_type": "stream",
     "text": [
      "Delayed('create_dummy_data-e6190fcb-b881-4973-abdf-3306b4573a15')\n"
     ]
    }
   ],
   "source": [
    "import dask\n",
    "\n",
    "@dask.delayed\n",
    "def create_dummy_data():\n",
    "    return np.ones(1000000)\n",
    "\n",
    "dummy_data = create_dummy_data()\n",
    "print(dummy_data)"
   ]
  },
  {
   "cell_type": "code",
   "execution_count": 52,
   "metadata": {},
   "outputs": [
    {
     "name": "stdout",
     "output_type": "stream",
     "text": [
      "(array([1., 1., 1., ..., 1., 1., 1.]),)\n"
     ]
    }
   ],
   "source": [
    "computed_data = dask.compute(dummy_data)\n",
    "print(len(computed_data), computed_data)"
   ]
  },
  {
   "cell_type": "code",
   "execution_count": 53,
   "metadata": {},
   "outputs": [
    {
     "name": "stdout",
     "output_type": "stream",
     "text": [
      "[Delayed('create_dummy_data-4283a465-6277-47f9-85ea-559869b35a9d'), Delayed('create_dummy_data-a53268d6-0f7b-4140-ab78-43db1c9eb4cf'), Delayed('create_dummy_data-1dcde7c8-346b-48af-aafb-cc4a03737a23'), Delayed('create_dummy_data-9dee5d67-8b94-4322-b058-d3817d2c3b55'), Delayed('create_dummy_data-e09304d0-54d9-4e59-8c0b-d86b5a247092'), Delayed('create_dummy_data-4e5244ff-9813-4faf-8d97-1da94d35aba0'), Delayed('create_dummy_data-f237f855-82ef-428f-ae3b-a7fedebbaf08'), Delayed('create_dummy_data-8def60db-21a9-4a5b-ae8b-1efab06103ff'), Delayed('create_dummy_data-e2ac3d1f-1f58-4891-bdf6-7fc3161b63a2'), Delayed('create_dummy_data-a1f69fca-ea0d-48b6-935a-ef75246d7174'), Delayed('create_dummy_data-3626ce26-0615-423e-8249-f8d9ec011cd6'), Delayed('create_dummy_data-08cdd904-5932-4812-a4ad-0e91e5f03716'), Delayed('create_dummy_data-02bd0721-8d68-4bea-bb9a-28c4d11884e4'), Delayed('create_dummy_data-b3108b43-3180-4988-a0d6-7397aaec6264'), Delayed('create_dummy_data-0fd49209-3696-4e0d-aad8-2302c4095c22'), Delayed('create_dummy_data-d21bdec8-0396-4804-ae56-5ef48dc65b23'), Delayed('create_dummy_data-d55cfe83-083a-46bc-949f-b819ee7daaae'), Delayed('create_dummy_data-e2f894e8-2da7-475e-a253-660f32d7f941'), Delayed('create_dummy_data-6c18f6b7-75fc-4ef8-b766-90950dbc6205'), Delayed('create_dummy_data-f01e8c5d-d2d4-47ce-9406-1f5f3b2d56ec'), Delayed('create_dummy_data-db89c9e4-35ef-47bb-ab1d-794d0d55883f'), Delayed('create_dummy_data-ad6ee94b-c41e-4cc3-9300-7fb4e58d9b35'), Delayed('create_dummy_data-50284870-ae2e-4d0a-bf49-8afca36d0532'), Delayed('create_dummy_data-3ad84bb4-d7a1-4b00-803f-217abe54feae'), Delayed('create_dummy_data-f5a65c6c-9688-4c0a-b21d-5753a2e950ea'), Delayed('create_dummy_data-f0f94e3b-ed5c-4084-ad97-307625ec7f1c'), Delayed('create_dummy_data-8111b699-ea46-49cb-bdff-f9d09c2c52a1'), Delayed('create_dummy_data-0f43c25d-fa57-4c1d-8a16-cef54759e0bc'), Delayed('create_dummy_data-76226d32-43e1-4282-80f2-88fd383eca68'), Delayed('create_dummy_data-68070ba1-2e0b-4f6d-aeac-a6b628d31c20'), Delayed('create_dummy_data-ce8c3442-291b-45ff-9817-419412c15489'), Delayed('create_dummy_data-c9aeecbf-7ac6-439e-aec3-d17168425cc0'), Delayed('create_dummy_data-eebad39e-aade-4611-9411-a627b2f9131f'), Delayed('create_dummy_data-7244cd17-00eb-4542-8969-8af27ba25300'), Delayed('create_dummy_data-0f89eab3-77da-44c1-bdb7-b81fa0b3a184'), Delayed('create_dummy_data-ed20b1e4-f18c-4976-8290-72bf01229a0b'), Delayed('create_dummy_data-332cd81b-a59f-41f3-954b-3a4a263e0192'), Delayed('create_dummy_data-901fcd12-e842-4dea-818e-0a938fac0205'), Delayed('create_dummy_data-152e30dc-f02d-4d47-ba25-c542d6403738'), Delayed('create_dummy_data-c6529a97-0e60-4947-99c7-ea5f81b9df87'), Delayed('create_dummy_data-2fb9862a-770d-4135-85c1-ec83e49bbc7a'), Delayed('create_dummy_data-13129e94-3685-4db4-b8fe-17e30ea6ed4e'), Delayed('create_dummy_data-89a25cdf-4016-43b2-9c26-4f0e7b483c78'), Delayed('create_dummy_data-6bbcc3a6-65ac-4e13-95b8-131659ad2e3a'), Delayed('create_dummy_data-6bb52550-7693-4f16-8bed-0c7f9615827a'), Delayed('create_dummy_data-4f1b4853-4586-41ed-9767-073cfae45b5b'), Delayed('create_dummy_data-e3b68858-688b-4322-8506-a1d5813e0a63'), Delayed('create_dummy_data-397c4fb9-4d28-4f35-b65c-c14989347c70'), Delayed('create_dummy_data-f60bc7ca-4287-46a7-a8ed-27b9b3db9523'), Delayed('create_dummy_data-0c292a1e-cf77-43dc-8805-844f0e9193f4'), Delayed('create_dummy_data-b86bd033-379d-4b8c-8a56-a5d32ceb04a5'), Delayed('create_dummy_data-5aa84f6e-2c56-405b-9f3b-579204ea5494'), Delayed('create_dummy_data-cf3b051e-8aa1-4b0b-a1de-9b289d96ebf9'), Delayed('create_dummy_data-cf878c17-d356-4395-a660-0cfbe2f0a914'), Delayed('create_dummy_data-f0523292-83b0-48d4-aaaa-30d11d4af43f'), Delayed('create_dummy_data-ecaf7dcd-5cb0-42cf-a251-711aa432501f'), Delayed('create_dummy_data-2c2034f4-8dcd-4362-8c5b-6068b74bc4d6'), Delayed('create_dummy_data-608be5e7-9a89-408b-ba8e-9861be388f25'), Delayed('create_dummy_data-eaf40480-c0f7-4c1b-9338-7126d9a6f500'), Delayed('create_dummy_data-71564200-2439-4599-923e-3430f2000252'), Delayed('create_dummy_data-f06a924b-0479-47cd-b76c-1b010ea148d9'), Delayed('create_dummy_data-1954d678-0189-496a-a2d8-92c175875589'), Delayed('create_dummy_data-8688fd81-69d3-461e-ad2b-ff4d52150842'), Delayed('create_dummy_data-f1bc2d60-edde-4256-bd0b-e60f9c78f507'), Delayed('create_dummy_data-56c5ac39-3122-47fe-999d-821ab118ef19'), Delayed('create_dummy_data-d66d42e2-c79f-431b-8459-5e50fa7dda42'), Delayed('create_dummy_data-a1a5a17f-1967-46a7-9271-09ee3e611c7f'), Delayed('create_dummy_data-8bdca862-5b30-48a2-9297-a0eba422ead0'), Delayed('create_dummy_data-7a0202b8-54ae-4710-abd8-bd9f79351a9a'), Delayed('create_dummy_data-e718ca48-7851-4c23-b278-255dc60001f7'), Delayed('create_dummy_data-c46d10ba-5348-4a40-bb5d-5750ae21f675'), Delayed('create_dummy_data-6fbab06b-159b-4a70-a3f1-81c99a35aa21'), Delayed('create_dummy_data-abe2e3c6-6f56-428e-8608-d6c4c3e85bb3'), Delayed('create_dummy_data-b6b7af2f-c648-402a-8243-0d5f27161df3'), Delayed('create_dummy_data-f190440c-eaac-4626-8864-33815a17379e'), Delayed('create_dummy_data-f1b1561a-f3e0-47ef-a311-73a18bd5a5da'), Delayed('create_dummy_data-af3e43fe-579d-453b-9b53-6602130fc6e3'), Delayed('create_dummy_data-8d985001-49c8-42c6-b0f2-3db212cf937f'), Delayed('create_dummy_data-649e31de-4947-44f4-8cdb-a4e4349d40d6'), Delayed('create_dummy_data-bbd460cf-facf-4f44-9e12-45e5bb07d27f'), Delayed('create_dummy_data-00b7e246-3b7b-4c9f-a0bd-5c6e32b07266'), Delayed('create_dummy_data-f769020a-1b5e-4297-ac10-7905682d5f65'), Delayed('create_dummy_data-55938682-71d4-4440-993f-17b486e6af83'), Delayed('create_dummy_data-6b27592a-8a1e-4bcd-92c0-f376d09f01e0'), Delayed('create_dummy_data-f9f5947d-0683-469b-a79f-1e6311b33962'), Delayed('create_dummy_data-fa8139d1-ed28-4586-87e1-81ced10b9273'), Delayed('create_dummy_data-828a4a53-a788-421d-ba87-40743da19ae9'), Delayed('create_dummy_data-78876083-dee6-44a9-abf8-f65dfefc4fb7'), Delayed('create_dummy_data-19faabe2-f8f5-4678-b152-bf376bcd58b3'), Delayed('create_dummy_data-da9318cc-4ac9-4b71-b69f-77d64d35cb31'), Delayed('create_dummy_data-180b5d18-0974-4af1-9450-f2a7a2e352da'), Delayed('create_dummy_data-399a1263-1185-46cc-924e-84aedd547cc9'), Delayed('create_dummy_data-bf72d86f-6913-47b3-9ca7-33090a8db824'), Delayed('create_dummy_data-77a3dbf6-aea8-4d71-bc93-0253ac8a05d5'), Delayed('create_dummy_data-14f258d7-761a-42a0-b56d-879c4a5412a2'), Delayed('create_dummy_data-77f6d067-6336-42db-991b-0102600383e0'), Delayed('create_dummy_data-1a7e52c7-dd2a-4568-870b-742726bc817a'), Delayed('create_dummy_data-cbeca4ea-20b8-4603-bd0d-ff6794c58078'), Delayed('create_dummy_data-4f8995ba-7dbf-4179-9d43-69d2499343a9'), Delayed('create_dummy_data-328d3e66-735e-4a8f-90d2-548f74ea8f25')]\n"
     ]
    }
   ],
   "source": [
    "@dask.delayed\n",
    "def create_dummy_data():\n",
    "    return np.ones(1000000)\n",
    "\n",
    "dummy_data_array = [create_dummy_data() for _ in range(100)]\n",
    "print(dummy_data_array)"
   ]
  },
  {
   "cell_type": "code",
   "execution_count": 60,
   "metadata": {},
   "outputs": [
    {
     "name": "stdout",
     "output_type": "stream",
     "text": [
      "100 [1. 1. 1. ... 1. 1. 1.]\n"
     ]
    }
   ],
   "source": [
    "computed_data_array = dask.compute(*dummy_data_array)\n",
    "print(len(computed_data_array), computed_data_array[0])"
   ]
  }
 ],
 "metadata": {
  "kernelspec": {
   "display_name": ".venv",
   "language": "python",
   "name": "python3"
  },
  "language_info": {
   "codemirror_mode": {
    "name": "ipython",
    "version": 3
   },
   "file_extension": ".py",
   "mimetype": "text/x-python",
   "name": "python",
   "nbconvert_exporter": "python",
   "pygments_lexer": "ipython3",
   "version": "3.10.12"
  }
 },
 "nbformat": 4,
 "nbformat_minor": 2
}
