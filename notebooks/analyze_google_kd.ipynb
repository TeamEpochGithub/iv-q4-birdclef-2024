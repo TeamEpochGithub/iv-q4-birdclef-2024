{
 "cells": [
  {
   "cell_type": "code",
   "execution_count": 37,
   "id": "initial_id",
   "metadata": {
    "collapsed": true,
    "ExecuteTime": {
     "end_time": "2024-06-04T08:16:30.964226Z",
     "start_time": "2024-06-04T08:16:30.712781Z"
    }
   },
   "outputs": [
    {
     "data": {
      "text/plain": "     asbfly       ashdro1       ashpri1       ashwoo2   asikoe2       asiope1  \\\n0  0.987501  1.521984e-07  4.641677e-08  1.157198e-08  0.000002  4.541352e-09   \n1  0.167609  4.998558e-06  6.320889e-06  1.929095e-08  0.000017  1.779055e-07   \n2  0.998419  4.060961e-04  1.425495e-04  1.195038e-07  0.001032  8.460510e-09   \n3  0.020216  2.258941e-05  4.326599e-04  2.591792e-06  0.000125  1.461722e-06   \n4  0.000449  1.854787e-06  5.435721e-06  5.728171e-07  0.000061  1.468567e-07   \n\n        aspfly1       aspswi1       barfly1    barswa  ...       whbwoo2  \\\n0  2.196083e-07  1.045536e-09  5.756379e-07  0.000044  ...  2.436250e-09   \n1  2.051557e-06  1.019628e-07  4.316464e-07  0.000027  ...  5.283208e-08   \n2  1.821896e-05  9.033255e-07  1.337866e-05  0.000300  ...  9.678595e-07   \n3  4.283588e-07  3.509085e-05  2.954996e-05  0.000136  ...  9.198205e-05   \n4  1.026665e-05  2.881020e-06  1.114334e-06  0.000042  ...  1.461504e-06   \n\n        whcbar1   whiter2        whrmun       whtkin2    woosan       wynlau1  \\\n0  3.949450e-09  0.000003  4.581374e-08  2.052622e-06  0.000009  5.434499e-09   \n1  1.828574e-07  0.000002  1.047183e-08  2.545233e-07  0.000134  9.861542e-08   \n2  1.367160e-05  0.000003  5.539795e-07  1.213593e-04  0.000203  1.554572e-07   \n3  7.810969e-05  0.000001  1.150444e-05  1.765826e-04  0.000180  7.736972e-07   \n4  1.329434e-05  0.000058  2.340791e-06  4.625209e-05  0.000338  1.487748e-06   \n\n        yebbab1       yebbul3   zitcis1  \n0  2.054867e-07  2.007613e-09  0.000005  \n1  1.758546e-08  2.486768e-08  0.000011  \n2  1.116136e-06  3.209346e-07  0.000021  \n3  1.542380e-05  1.463316e-07  0.000036  \n4  5.217453e-06  5.765142e-06  0.000053  \n\n[5 rows x 182 columns]",
      "text/html": "<div>\n<style scoped>\n    .dataframe tbody tr th:only-of-type {\n        vertical-align: middle;\n    }\n\n    .dataframe tbody tr th {\n        vertical-align: top;\n    }\n\n    .dataframe thead th {\n        text-align: right;\n    }\n</style>\n<table border=\"1\" class=\"dataframe\">\n  <thead>\n    <tr style=\"text-align: right;\">\n      <th></th>\n      <th>asbfly</th>\n      <th>ashdro1</th>\n      <th>ashpri1</th>\n      <th>ashwoo2</th>\n      <th>asikoe2</th>\n      <th>asiope1</th>\n      <th>aspfly1</th>\n      <th>aspswi1</th>\n      <th>barfly1</th>\n      <th>barswa</th>\n      <th>...</th>\n      <th>whbwoo2</th>\n      <th>whcbar1</th>\n      <th>whiter2</th>\n      <th>whrmun</th>\n      <th>whtkin2</th>\n      <th>woosan</th>\n      <th>wynlau1</th>\n      <th>yebbab1</th>\n      <th>yebbul3</th>\n      <th>zitcis1</th>\n    </tr>\n  </thead>\n  <tbody>\n    <tr>\n      <th>0</th>\n      <td>0.987501</td>\n      <td>1.521984e-07</td>\n      <td>4.641677e-08</td>\n      <td>1.157198e-08</td>\n      <td>0.000002</td>\n      <td>4.541352e-09</td>\n      <td>2.196083e-07</td>\n      <td>1.045536e-09</td>\n      <td>5.756379e-07</td>\n      <td>0.000044</td>\n      <td>...</td>\n      <td>2.436250e-09</td>\n      <td>3.949450e-09</td>\n      <td>0.000003</td>\n      <td>4.581374e-08</td>\n      <td>2.052622e-06</td>\n      <td>0.000009</td>\n      <td>5.434499e-09</td>\n      <td>2.054867e-07</td>\n      <td>2.007613e-09</td>\n      <td>0.000005</td>\n    </tr>\n    <tr>\n      <th>1</th>\n      <td>0.167609</td>\n      <td>4.998558e-06</td>\n      <td>6.320889e-06</td>\n      <td>1.929095e-08</td>\n      <td>0.000017</td>\n      <td>1.779055e-07</td>\n      <td>2.051557e-06</td>\n      <td>1.019628e-07</td>\n      <td>4.316464e-07</td>\n      <td>0.000027</td>\n      <td>...</td>\n      <td>5.283208e-08</td>\n      <td>1.828574e-07</td>\n      <td>0.000002</td>\n      <td>1.047183e-08</td>\n      <td>2.545233e-07</td>\n      <td>0.000134</td>\n      <td>9.861542e-08</td>\n      <td>1.758546e-08</td>\n      <td>2.486768e-08</td>\n      <td>0.000011</td>\n    </tr>\n    <tr>\n      <th>2</th>\n      <td>0.998419</td>\n      <td>4.060961e-04</td>\n      <td>1.425495e-04</td>\n      <td>1.195038e-07</td>\n      <td>0.001032</td>\n      <td>8.460510e-09</td>\n      <td>1.821896e-05</td>\n      <td>9.033255e-07</td>\n      <td>1.337866e-05</td>\n      <td>0.000300</td>\n      <td>...</td>\n      <td>9.678595e-07</td>\n      <td>1.367160e-05</td>\n      <td>0.000003</td>\n      <td>5.539795e-07</td>\n      <td>1.213593e-04</td>\n      <td>0.000203</td>\n      <td>1.554572e-07</td>\n      <td>1.116136e-06</td>\n      <td>3.209346e-07</td>\n      <td>0.000021</td>\n    </tr>\n    <tr>\n      <th>3</th>\n      <td>0.020216</td>\n      <td>2.258941e-05</td>\n      <td>4.326599e-04</td>\n      <td>2.591792e-06</td>\n      <td>0.000125</td>\n      <td>1.461722e-06</td>\n      <td>4.283588e-07</td>\n      <td>3.509085e-05</td>\n      <td>2.954996e-05</td>\n      <td>0.000136</td>\n      <td>...</td>\n      <td>9.198205e-05</td>\n      <td>7.810969e-05</td>\n      <td>0.000001</td>\n      <td>1.150444e-05</td>\n      <td>1.765826e-04</td>\n      <td>0.000180</td>\n      <td>7.736972e-07</td>\n      <td>1.542380e-05</td>\n      <td>1.463316e-07</td>\n      <td>0.000036</td>\n    </tr>\n    <tr>\n      <th>4</th>\n      <td>0.000449</td>\n      <td>1.854787e-06</td>\n      <td>5.435721e-06</td>\n      <td>5.728171e-07</td>\n      <td>0.000061</td>\n      <td>1.468567e-07</td>\n      <td>1.026665e-05</td>\n      <td>2.881020e-06</td>\n      <td>1.114334e-06</td>\n      <td>0.000042</td>\n      <td>...</td>\n      <td>1.461504e-06</td>\n      <td>1.329434e-05</td>\n      <td>0.000058</td>\n      <td>2.340791e-06</td>\n      <td>4.625209e-05</td>\n      <td>0.000338</td>\n      <td>1.487748e-06</td>\n      <td>5.217453e-06</td>\n      <td>5.765142e-06</td>\n      <td>0.000053</td>\n    </tr>\n  </tbody>\n</table>\n<p>5 rows × 182 columns</p>\n</div>"
     },
     "execution_count": 37,
     "metadata": {},
     "output_type": "execute_result"
    }
   ],
   "source": [
    "import pandas as pd\n",
    "\n",
    "filename = \"../data/raw/2024gxeno/train_metadata.csv\"\n",
    "true_meta = \"../data/raw/2024/train_metadata.csv\"\n",
    "df = pd.read_csv(filename)\n",
    "df_true = pd.read_csv(true_meta)\n",
    "df.head()"
   ]
  },
  {
   "cell_type": "code",
   "outputs": [
    {
     "name": "stdout",
     "output_type": "stream",
     "text": [
      "<class 'pandas.core.frame.DataFrame'>\n",
      "RangeIndex: 24459 entries, 0 to 24458\n",
      "Columns: 182 entries, asbfly to zitcis1\n",
      "dtypes: float64(182)\n",
      "memory usage: 34.0 MB\n"
     ]
    }
   ],
   "source": [
    "df.info()"
   ],
   "metadata": {
    "collapsed": false,
    "ExecuteTime": {
     "end_time": "2024-06-04T07:59:46.622838Z",
     "start_time": "2024-06-04T07:59:46.617620Z"
    }
   },
   "id": "be85d402bf3a2263",
   "execution_count": 5
  },
  {
   "cell_type": "code",
   "outputs": [],
   "source": [
    "import numpy as np\n",
    "import numpy.typing as npt\n",
    "from typing import Any, Sequence\n",
    "\n",
    "def heatmap(predictions: npt.NDArray[np.floating[Any]], classes: Sequence[str], file_name: str, output_dir: str) -> None:\n",
    "    \"\"\"Create a heatmap of the predictions for a 4-minute file.\n",
    "\n",
    "    :param predictions: The predictions in shape (n_samples=48, n_features=182)\n",
    "    :param classes: The bird classes\n",
    "    :param file_name: The name of the file\n",
    "    :param output_dir: The output directory\n",
    "    \"\"\"\n",
    "    minutes = sections_to_time_labels(predictions)\n",
    "\n",
    "    plt.figure(figsize=(30, 30))\n",
    "    sns.heatmap(predictions.T, cmap=\"viridis\", xticklabels=np.arange(len(predictions)), vmin=0, vmax=1)\n",
    "    plt.yticks(np.arange(0, predictions.shape[1]), labels=classes, rotation=0)\n",
    "    plt.title(f\"Probability Heatmap of Bird Classes Over Time - {file_name}\")\n",
    "    plt.xlabel(\"Time Segment (5-second intervals)\")\n",
    "    plt.ylabel(\"Bird Classes\")\n",
    "    #plt.grid(visible=True, which=\"both\", axis=\"x\", linestyle=\"--\", linewidth=0.5)\n",
    "    plt.tight_layout()\n",
    "    plt.savefig(f\"{output_dir}/{file_name}\", dpi=300)\n",
    "    plt.close()\n",
    "    \n",
    "def sections_to_time_labels(predictions: npt.NDArray[np.floating[Any]]) -> list[str]:\n",
    "    \"\"\"Convert the number of sections to time_labels.\n",
    "\n",
    "    :param predictions: The predictions in shape (n_samples=48, n_features=182)\n",
    "    :return: The time labels\n",
    "    \"\"\"\n",
    "    # Time conversion settings\n",
    "    time_segments = predictions.shape[0]  # Number of time segments\n",
    "    seconds_per_segment = 5\n",
    "    total_seconds = time_segments * seconds_per_segment\n",
    "    return [f\"{int(s // 60)} min {int(s % 60)} sec\" for s in range(0, total_seconds, seconds_per_segment)]\n"
   ],
   "metadata": {
    "collapsed": false,
    "ExecuteTime": {
     "end_time": "2024-06-04T08:19:29.671288Z",
     "start_time": "2024-06-04T08:19:29.667939Z"
    }
   },
   "id": "333952dce0ff33cc",
   "execution_count": 39
  },
  {
   "cell_type": "code",
   "outputs": [],
   "source": [
    "import matplotlib.pyplot as plt\n",
    "import seaborn as sns\n",
    "\n",
    "\n",
    "heatmap(df.iloc[:250], df.columns, \"test\", \"../data/raw/2024gxeno/\")"
   ],
   "metadata": {
    "collapsed": false,
    "ExecuteTime": {
     "end_time": "2024-06-04T08:19:34.155583Z",
     "start_time": "2024-06-04T08:19:31.162912Z"
    }
   },
   "id": "69b7ae06442566c1",
   "execution_count": 40
  },
  {
   "cell_type": "code",
   "outputs": [
    {
     "data": {
      "text/plain": "      primary_label secondary_labels  type  latitude  longitude  \\\n24454       zitcis1               []  ['']   43.5925     4.5434   \n24455       zitcis1               []  ['']   43.5925     4.5434   \n24456       zitcis1               []  ['']   51.1207     4.5607   \n24457       zitcis1               []  ['']   41.5607    -8.4236   \n24458       zitcis1               []  ['']   13.7747   100.8919   \n\n          scientific_name        common_name             author  \\\n24454  Cisticola juncidis  Zitting Cisticola  Chèvremont Fabian   \n24455  Cisticola juncidis  Zitting Cisticola  Chèvremont Fabian   \n24456  Cisticola juncidis  Zitting Cisticola         Wim Jacobs   \n24457  Cisticola juncidis  Zitting Cisticola       Jorge Leitão   \n24458  Cisticola juncidis  Zitting Cisticola         Sam Hambly   \n\n                                                 license  rating  \\\n24454  Creative Commons Attribution-NonCommercial-Sha...     5.0   \n24455  Creative Commons Attribution-NonCommercial-Sha...     4.0   \n24456  Creative Commons Attribution-NonCommercial-Sha...     4.0   \n24457  Creative Commons Attribution-NonCommercial-Sha...     4.5   \n24458  Creative Commons Attribution-NonCommercial-Sha...     5.0   \n\n                                 url              filename  \n24454  https://xeno-canto.org/845747  zitcis1/XC845747.ogg  \n24455  https://xeno-canto.org/845817  zitcis1/XC845817.ogg  \n24456  https://xeno-canto.org/856176  zitcis1/XC856176.ogg  \n24457  https://xeno-canto.org/856723  zitcis1/XC856723.ogg  \n24458  https://xeno-canto.org/858550  zitcis1/XC858550.ogg  ",
      "text/html": "<div>\n<style scoped>\n    .dataframe tbody tr th:only-of-type {\n        vertical-align: middle;\n    }\n\n    .dataframe tbody tr th {\n        vertical-align: top;\n    }\n\n    .dataframe thead th {\n        text-align: right;\n    }\n</style>\n<table border=\"1\" class=\"dataframe\">\n  <thead>\n    <tr style=\"text-align: right;\">\n      <th></th>\n      <th>primary_label</th>\n      <th>secondary_labels</th>\n      <th>type</th>\n      <th>latitude</th>\n      <th>longitude</th>\n      <th>scientific_name</th>\n      <th>common_name</th>\n      <th>author</th>\n      <th>license</th>\n      <th>rating</th>\n      <th>url</th>\n      <th>filename</th>\n    </tr>\n  </thead>\n  <tbody>\n    <tr>\n      <th>24454</th>\n      <td>zitcis1</td>\n      <td>[]</td>\n      <td>['']</td>\n      <td>43.5925</td>\n      <td>4.5434</td>\n      <td>Cisticola juncidis</td>\n      <td>Zitting Cisticola</td>\n      <td>Chèvremont Fabian</td>\n      <td>Creative Commons Attribution-NonCommercial-Sha...</td>\n      <td>5.0</td>\n      <td>https://xeno-canto.org/845747</td>\n      <td>zitcis1/XC845747.ogg</td>\n    </tr>\n    <tr>\n      <th>24455</th>\n      <td>zitcis1</td>\n      <td>[]</td>\n      <td>['']</td>\n      <td>43.5925</td>\n      <td>4.5434</td>\n      <td>Cisticola juncidis</td>\n      <td>Zitting Cisticola</td>\n      <td>Chèvremont Fabian</td>\n      <td>Creative Commons Attribution-NonCommercial-Sha...</td>\n      <td>4.0</td>\n      <td>https://xeno-canto.org/845817</td>\n      <td>zitcis1/XC845817.ogg</td>\n    </tr>\n    <tr>\n      <th>24456</th>\n      <td>zitcis1</td>\n      <td>[]</td>\n      <td>['']</td>\n      <td>51.1207</td>\n      <td>4.5607</td>\n      <td>Cisticola juncidis</td>\n      <td>Zitting Cisticola</td>\n      <td>Wim Jacobs</td>\n      <td>Creative Commons Attribution-NonCommercial-Sha...</td>\n      <td>4.0</td>\n      <td>https://xeno-canto.org/856176</td>\n      <td>zitcis1/XC856176.ogg</td>\n    </tr>\n    <tr>\n      <th>24457</th>\n      <td>zitcis1</td>\n      <td>[]</td>\n      <td>['']</td>\n      <td>41.5607</td>\n      <td>-8.4236</td>\n      <td>Cisticola juncidis</td>\n      <td>Zitting Cisticola</td>\n      <td>Jorge Leitão</td>\n      <td>Creative Commons Attribution-NonCommercial-Sha...</td>\n      <td>4.5</td>\n      <td>https://xeno-canto.org/856723</td>\n      <td>zitcis1/XC856723.ogg</td>\n    </tr>\n    <tr>\n      <th>24458</th>\n      <td>zitcis1</td>\n      <td>[]</td>\n      <td>['']</td>\n      <td>13.7747</td>\n      <td>100.8919</td>\n      <td>Cisticola juncidis</td>\n      <td>Zitting Cisticola</td>\n      <td>Sam Hambly</td>\n      <td>Creative Commons Attribution-NonCommercial-Sha...</td>\n      <td>5.0</td>\n      <td>https://xeno-canto.org/858550</td>\n      <td>zitcis1/XC858550.ogg</td>\n    </tr>\n  </tbody>\n</table>\n</div>"
     },
     "execution_count": 48,
     "metadata": {},
     "output_type": "execute_result"
    }
   ],
   "source": [
    "df_true.tail()"
   ],
   "metadata": {
    "collapsed": false,
    "ExecuteTime": {
     "end_time": "2024-06-04T08:33:21.456338Z",
     "start_time": "2024-06-04T08:33:21.451358Z"
    }
   },
   "id": "5e439300e96d8200",
   "execution_count": 48
  },
  {
   "cell_type": "code",
   "outputs": [
    {
     "name": "stdout",
     "output_type": "stream",
     "text": [
      "24459 24459\n"
     ]
    }
   ],
   "source": [
    "\n",
    "print(len(df_true), len(df))\n",
    "\n",
    "\n",
    "total_df = pd.merge(df, df_true[[\"filename\", \"rating\"]], left_index=True, right_index=True)\n"
   ],
   "metadata": {
    "collapsed": false,
    "ExecuteTime": {
     "end_time": "2024-06-04T08:29:59.979656Z",
     "start_time": "2024-06-04T08:29:59.973417Z"
    }
   },
   "id": "5dd808bbcfc4aaa2",
   "execution_count": 45
  },
  {
   "cell_type": "code",
   "outputs": [
    {
     "data": {
      "text/plain": "     asbfly       ashdro1       ashpri1       ashwoo2   asikoe2       asiope1  \\\n0  0.987501  1.521984e-07  4.641677e-08  1.157198e-08  0.000002  4.541352e-09   \n1  0.167609  4.998558e-06  6.320889e-06  1.929095e-08  0.000017  1.779055e-07   \n2  0.998419  4.060961e-04  1.425495e-04  1.195038e-07  0.001032  8.460510e-09   \n3  0.020216  2.258941e-05  4.326599e-04  2.591792e-06  0.000125  1.461722e-06   \n4  0.000449  1.854787e-06  5.435721e-06  5.728171e-07  0.000061  1.468567e-07   \n\n        aspfly1       aspswi1       barfly1    barswa  ...   whiter2  \\\n0  2.196083e-07  1.045536e-09  5.756379e-07  0.000044  ...  0.000003   \n1  2.051557e-06  1.019628e-07  4.316464e-07  0.000027  ...  0.000002   \n2  1.821896e-05  9.033255e-07  1.337866e-05  0.000300  ...  0.000003   \n3  4.283588e-07  3.509085e-05  2.954996e-05  0.000136  ...  0.000001   \n4  1.026665e-05  2.881020e-06  1.114334e-06  0.000042  ...  0.000058   \n\n         whrmun       whtkin2    woosan       wynlau1       yebbab1  \\\n0  4.581374e-08  2.052622e-06  0.000009  5.434499e-09  2.054867e-07   \n1  1.047183e-08  2.545233e-07  0.000134  9.861542e-08  1.758546e-08   \n2  5.539795e-07  1.213593e-04  0.000203  1.554572e-07  1.116136e-06   \n3  1.150444e-05  1.765826e-04  0.000180  7.736972e-07  1.542380e-05   \n4  2.340791e-06  4.625209e-05  0.000338  1.487748e-06  5.217453e-06   \n\n        yebbul3   zitcis1             filename  rating  \n0  2.007613e-09  0.000005  asbfly/XC134896.ogg     5.0  \n1  2.486768e-08  0.000011  asbfly/XC164848.ogg     2.5  \n2  3.209346e-07  0.000021  asbfly/XC175797.ogg     2.5  \n3  1.463316e-07  0.000036  asbfly/XC207738.ogg     4.0  \n4  5.765142e-06  0.000053  asbfly/XC209218.ogg     4.0  \n\n[5 rows x 184 columns]",
      "text/html": "<div>\n<style scoped>\n    .dataframe tbody tr th:only-of-type {\n        vertical-align: middle;\n    }\n\n    .dataframe tbody tr th {\n        vertical-align: top;\n    }\n\n    .dataframe thead th {\n        text-align: right;\n    }\n</style>\n<table border=\"1\" class=\"dataframe\">\n  <thead>\n    <tr style=\"text-align: right;\">\n      <th></th>\n      <th>asbfly</th>\n      <th>ashdro1</th>\n      <th>ashpri1</th>\n      <th>ashwoo2</th>\n      <th>asikoe2</th>\n      <th>asiope1</th>\n      <th>aspfly1</th>\n      <th>aspswi1</th>\n      <th>barfly1</th>\n      <th>barswa</th>\n      <th>...</th>\n      <th>whiter2</th>\n      <th>whrmun</th>\n      <th>whtkin2</th>\n      <th>woosan</th>\n      <th>wynlau1</th>\n      <th>yebbab1</th>\n      <th>yebbul3</th>\n      <th>zitcis1</th>\n      <th>filename</th>\n      <th>rating</th>\n    </tr>\n  </thead>\n  <tbody>\n    <tr>\n      <th>0</th>\n      <td>0.987501</td>\n      <td>1.521984e-07</td>\n      <td>4.641677e-08</td>\n      <td>1.157198e-08</td>\n      <td>0.000002</td>\n      <td>4.541352e-09</td>\n      <td>2.196083e-07</td>\n      <td>1.045536e-09</td>\n      <td>5.756379e-07</td>\n      <td>0.000044</td>\n      <td>...</td>\n      <td>0.000003</td>\n      <td>4.581374e-08</td>\n      <td>2.052622e-06</td>\n      <td>0.000009</td>\n      <td>5.434499e-09</td>\n      <td>2.054867e-07</td>\n      <td>2.007613e-09</td>\n      <td>0.000005</td>\n      <td>asbfly/XC134896.ogg</td>\n      <td>5.0</td>\n    </tr>\n    <tr>\n      <th>1</th>\n      <td>0.167609</td>\n      <td>4.998558e-06</td>\n      <td>6.320889e-06</td>\n      <td>1.929095e-08</td>\n      <td>0.000017</td>\n      <td>1.779055e-07</td>\n      <td>2.051557e-06</td>\n      <td>1.019628e-07</td>\n      <td>4.316464e-07</td>\n      <td>0.000027</td>\n      <td>...</td>\n      <td>0.000002</td>\n      <td>1.047183e-08</td>\n      <td>2.545233e-07</td>\n      <td>0.000134</td>\n      <td>9.861542e-08</td>\n      <td>1.758546e-08</td>\n      <td>2.486768e-08</td>\n      <td>0.000011</td>\n      <td>asbfly/XC164848.ogg</td>\n      <td>2.5</td>\n    </tr>\n    <tr>\n      <th>2</th>\n      <td>0.998419</td>\n      <td>4.060961e-04</td>\n      <td>1.425495e-04</td>\n      <td>1.195038e-07</td>\n      <td>0.001032</td>\n      <td>8.460510e-09</td>\n      <td>1.821896e-05</td>\n      <td>9.033255e-07</td>\n      <td>1.337866e-05</td>\n      <td>0.000300</td>\n      <td>...</td>\n      <td>0.000003</td>\n      <td>5.539795e-07</td>\n      <td>1.213593e-04</td>\n      <td>0.000203</td>\n      <td>1.554572e-07</td>\n      <td>1.116136e-06</td>\n      <td>3.209346e-07</td>\n      <td>0.000021</td>\n      <td>asbfly/XC175797.ogg</td>\n      <td>2.5</td>\n    </tr>\n    <tr>\n      <th>3</th>\n      <td>0.020216</td>\n      <td>2.258941e-05</td>\n      <td>4.326599e-04</td>\n      <td>2.591792e-06</td>\n      <td>0.000125</td>\n      <td>1.461722e-06</td>\n      <td>4.283588e-07</td>\n      <td>3.509085e-05</td>\n      <td>2.954996e-05</td>\n      <td>0.000136</td>\n      <td>...</td>\n      <td>0.000001</td>\n      <td>1.150444e-05</td>\n      <td>1.765826e-04</td>\n      <td>0.000180</td>\n      <td>7.736972e-07</td>\n      <td>1.542380e-05</td>\n      <td>1.463316e-07</td>\n      <td>0.000036</td>\n      <td>asbfly/XC207738.ogg</td>\n      <td>4.0</td>\n    </tr>\n    <tr>\n      <th>4</th>\n      <td>0.000449</td>\n      <td>1.854787e-06</td>\n      <td>5.435721e-06</td>\n      <td>5.728171e-07</td>\n      <td>0.000061</td>\n      <td>1.468567e-07</td>\n      <td>1.026665e-05</td>\n      <td>2.881020e-06</td>\n      <td>1.114334e-06</td>\n      <td>0.000042</td>\n      <td>...</td>\n      <td>0.000058</td>\n      <td>2.340791e-06</td>\n      <td>4.625209e-05</td>\n      <td>0.000338</td>\n      <td>1.487748e-06</td>\n      <td>5.217453e-06</td>\n      <td>5.765142e-06</td>\n      <td>0.000053</td>\n      <td>asbfly/XC209218.ogg</td>\n      <td>4.0</td>\n    </tr>\n  </tbody>\n</table>\n<p>5 rows × 184 columns</p>\n</div>"
     },
     "execution_count": 46,
     "metadata": {},
     "output_type": "execute_result"
    }
   ],
   "source": [
    "total_df.head()"
   ],
   "metadata": {
    "collapsed": false,
    "ExecuteTime": {
     "end_time": "2024-06-04T08:30:06.345813Z",
     "start_time": "2024-06-04T08:30:06.337640Z"
    }
   },
   "id": "ddf7fa9be164cdd5",
   "execution_count": 46
  },
  {
   "cell_type": "code",
   "outputs": [
    {
     "data": {
      "text/plain": "             asbfly       ashdro1       ashpri1       ashwoo2   asikoe2  \\\n0      9.875011e-01  1.521984e-07  4.641677e-08  1.157198e-08  0.000002   \n1      1.676091e-01  4.998558e-06  6.320889e-06  1.929095e-08  0.000017   \n2      9.984192e-01  4.060961e-04  1.425495e-04  1.195038e-07  0.001032   \n3      2.021597e-02  2.258941e-05  4.326599e-04  2.591792e-06  0.000125   \n4      4.487776e-04  1.854787e-06  5.435721e-06  5.728171e-07  0.000061   \n...             ...           ...           ...           ...       ...   \n24454  3.991013e-05  5.910871e-07  2.083719e-06  5.341148e-07  0.000004   \n24455  7.016851e-05  3.130342e-06  4.647304e-06  8.369053e-07  0.000063   \n24456  2.950399e-07  2.368652e-06  1.809671e-06  2.460224e-07  0.000022   \n24457  1.751697e-06  5.735962e-06  3.339152e-08  1.570303e-09  0.000002   \n24458  5.756187e-07  7.986317e-06  3.198990e-09  6.221389e-08  0.000489   \n\n            asiope1       aspfly1       aspswi1       barfly1    barswa  ...  \\\n0      4.541352e-09  2.196083e-07  1.045536e-09  5.756379e-07  0.000044  ...   \n1      1.779055e-07  2.051557e-06  1.019628e-07  4.316464e-07  0.000027  ...   \n2      8.460510e-09  1.821896e-05  9.033255e-07  1.337866e-05  0.000300  ...   \n3      1.461722e-06  4.283588e-07  3.509085e-05  2.954996e-05  0.000136  ...   \n4      1.468567e-07  1.026665e-05  2.881020e-06  1.114334e-06  0.000042  ...   \n...             ...           ...           ...           ...       ...  ...   \n24454  5.359961e-07  7.643794e-07  3.909710e-07  3.404524e-07  0.000182  ...   \n24455  4.902785e-07  1.919740e-06  3.782009e-07  7.247494e-06  0.000149  ...   \n24456  3.497200e-07  2.371242e-06  7.975572e-08  9.750314e-08  0.000120  ...   \n24457  1.141519e-08  2.447643e-07  7.613156e-09  2.635377e-08  0.001496  ...   \n24458  7.649855e-08  7.819654e-08  2.338669e-09  7.068659e-07  0.000017  ...   \n\n            whbwoo2       whcbar1       whiter2        whrmun       whtkin2  \\\n0      2.436250e-09  3.949450e-09  2.681133e-06  4.581374e-08  2.052622e-06   \n1      5.283208e-08  1.828574e-07  1.882956e-06  1.047183e-08  2.545233e-07   \n2      9.678595e-07  1.367160e-05  3.463039e-06  5.539795e-07  1.213593e-04   \n3      9.198205e-05  7.810969e-05  1.241162e-06  1.150444e-05  1.765826e-04   \n4      1.461504e-06  1.329434e-05  5.772344e-05  2.340791e-06  4.625209e-05   \n...             ...           ...           ...           ...           ...   \n24454  1.249048e-06  1.052884e-06  6.307389e-05  4.021622e-07  7.951370e-05   \n24455  7.043156e-06  1.088959e-06  3.429752e-04  1.236487e-06  1.559761e-05   \n24456  1.243129e-07  1.778166e-06  1.255642e-05  5.233501e-07  1.516821e-06   \n24457  1.165573e-06  5.853746e-07  4.011085e-07  2.356716e-08  1.775448e-06   \n24458  1.682086e-08  4.629536e-09  4.910539e-07  1.460983e-06  1.742865e-06   \n\n         woosan       wynlau1       yebbab1       yebbul3   zitcis1  \n0      0.000009  5.434499e-09  2.054867e-07  2.007613e-09  0.000005  \n1      0.000134  9.861542e-08  1.758546e-08  2.486768e-08  0.000011  \n2      0.000203  1.554572e-07  1.116136e-06  3.209346e-07  0.000021  \n3      0.000180  7.736972e-07  1.542380e-05  1.463316e-07  0.000036  \n4      0.000338  1.487748e-06  5.217453e-06  5.765142e-06  0.000053  \n...         ...           ...           ...           ...       ...  \n24454  0.000351  2.706863e-07  2.983461e-08  8.448549e-08  0.037835  \n24455  0.000334  2.731056e-07  6.995255e-08  3.656697e-07  0.685826  \n24456  0.000268  3.848167e-07  7.985800e-08  6.056014e-08  0.941993  \n24457  0.000174  1.974062e-08  1.033413e-08  1.144882e-08  0.010642  \n24458  0.000028  4.572503e-09  9.166297e-09  3.777544e-09  0.245531  \n\n[24459 rows x 182 columns]",
      "text/html": "<div>\n<style scoped>\n    .dataframe tbody tr th:only-of-type {\n        vertical-align: middle;\n    }\n\n    .dataframe tbody tr th {\n        vertical-align: top;\n    }\n\n    .dataframe thead th {\n        text-align: right;\n    }\n</style>\n<table border=\"1\" class=\"dataframe\">\n  <thead>\n    <tr style=\"text-align: right;\">\n      <th></th>\n      <th>asbfly</th>\n      <th>ashdro1</th>\n      <th>ashpri1</th>\n      <th>ashwoo2</th>\n      <th>asikoe2</th>\n      <th>asiope1</th>\n      <th>aspfly1</th>\n      <th>aspswi1</th>\n      <th>barfly1</th>\n      <th>barswa</th>\n      <th>...</th>\n      <th>whbwoo2</th>\n      <th>whcbar1</th>\n      <th>whiter2</th>\n      <th>whrmun</th>\n      <th>whtkin2</th>\n      <th>woosan</th>\n      <th>wynlau1</th>\n      <th>yebbab1</th>\n      <th>yebbul3</th>\n      <th>zitcis1</th>\n    </tr>\n  </thead>\n  <tbody>\n    <tr>\n      <th>0</th>\n      <td>9.875011e-01</td>\n      <td>1.521984e-07</td>\n      <td>4.641677e-08</td>\n      <td>1.157198e-08</td>\n      <td>0.000002</td>\n      <td>4.541352e-09</td>\n      <td>2.196083e-07</td>\n      <td>1.045536e-09</td>\n      <td>5.756379e-07</td>\n      <td>0.000044</td>\n      <td>...</td>\n      <td>2.436250e-09</td>\n      <td>3.949450e-09</td>\n      <td>2.681133e-06</td>\n      <td>4.581374e-08</td>\n      <td>2.052622e-06</td>\n      <td>0.000009</td>\n      <td>5.434499e-09</td>\n      <td>2.054867e-07</td>\n      <td>2.007613e-09</td>\n      <td>0.000005</td>\n    </tr>\n    <tr>\n      <th>1</th>\n      <td>1.676091e-01</td>\n      <td>4.998558e-06</td>\n      <td>6.320889e-06</td>\n      <td>1.929095e-08</td>\n      <td>0.000017</td>\n      <td>1.779055e-07</td>\n      <td>2.051557e-06</td>\n      <td>1.019628e-07</td>\n      <td>4.316464e-07</td>\n      <td>0.000027</td>\n      <td>...</td>\n      <td>5.283208e-08</td>\n      <td>1.828574e-07</td>\n      <td>1.882956e-06</td>\n      <td>1.047183e-08</td>\n      <td>2.545233e-07</td>\n      <td>0.000134</td>\n      <td>9.861542e-08</td>\n      <td>1.758546e-08</td>\n      <td>2.486768e-08</td>\n      <td>0.000011</td>\n    </tr>\n    <tr>\n      <th>2</th>\n      <td>9.984192e-01</td>\n      <td>4.060961e-04</td>\n      <td>1.425495e-04</td>\n      <td>1.195038e-07</td>\n      <td>0.001032</td>\n      <td>8.460510e-09</td>\n      <td>1.821896e-05</td>\n      <td>9.033255e-07</td>\n      <td>1.337866e-05</td>\n      <td>0.000300</td>\n      <td>...</td>\n      <td>9.678595e-07</td>\n      <td>1.367160e-05</td>\n      <td>3.463039e-06</td>\n      <td>5.539795e-07</td>\n      <td>1.213593e-04</td>\n      <td>0.000203</td>\n      <td>1.554572e-07</td>\n      <td>1.116136e-06</td>\n      <td>3.209346e-07</td>\n      <td>0.000021</td>\n    </tr>\n    <tr>\n      <th>3</th>\n      <td>2.021597e-02</td>\n      <td>2.258941e-05</td>\n      <td>4.326599e-04</td>\n      <td>2.591792e-06</td>\n      <td>0.000125</td>\n      <td>1.461722e-06</td>\n      <td>4.283588e-07</td>\n      <td>3.509085e-05</td>\n      <td>2.954996e-05</td>\n      <td>0.000136</td>\n      <td>...</td>\n      <td>9.198205e-05</td>\n      <td>7.810969e-05</td>\n      <td>1.241162e-06</td>\n      <td>1.150444e-05</td>\n      <td>1.765826e-04</td>\n      <td>0.000180</td>\n      <td>7.736972e-07</td>\n      <td>1.542380e-05</td>\n      <td>1.463316e-07</td>\n      <td>0.000036</td>\n    </tr>\n    <tr>\n      <th>4</th>\n      <td>4.487776e-04</td>\n      <td>1.854787e-06</td>\n      <td>5.435721e-06</td>\n      <td>5.728171e-07</td>\n      <td>0.000061</td>\n      <td>1.468567e-07</td>\n      <td>1.026665e-05</td>\n      <td>2.881020e-06</td>\n      <td>1.114334e-06</td>\n      <td>0.000042</td>\n      <td>...</td>\n      <td>1.461504e-06</td>\n      <td>1.329434e-05</td>\n      <td>5.772344e-05</td>\n      <td>2.340791e-06</td>\n      <td>4.625209e-05</td>\n      <td>0.000338</td>\n      <td>1.487748e-06</td>\n      <td>5.217453e-06</td>\n      <td>5.765142e-06</td>\n      <td>0.000053</td>\n    </tr>\n    <tr>\n      <th>...</th>\n      <td>...</td>\n      <td>...</td>\n      <td>...</td>\n      <td>...</td>\n      <td>...</td>\n      <td>...</td>\n      <td>...</td>\n      <td>...</td>\n      <td>...</td>\n      <td>...</td>\n      <td>...</td>\n      <td>...</td>\n      <td>...</td>\n      <td>...</td>\n      <td>...</td>\n      <td>...</td>\n      <td>...</td>\n      <td>...</td>\n      <td>...</td>\n      <td>...</td>\n      <td>...</td>\n    </tr>\n    <tr>\n      <th>24454</th>\n      <td>3.991013e-05</td>\n      <td>5.910871e-07</td>\n      <td>2.083719e-06</td>\n      <td>5.341148e-07</td>\n      <td>0.000004</td>\n      <td>5.359961e-07</td>\n      <td>7.643794e-07</td>\n      <td>3.909710e-07</td>\n      <td>3.404524e-07</td>\n      <td>0.000182</td>\n      <td>...</td>\n      <td>1.249048e-06</td>\n      <td>1.052884e-06</td>\n      <td>6.307389e-05</td>\n      <td>4.021622e-07</td>\n      <td>7.951370e-05</td>\n      <td>0.000351</td>\n      <td>2.706863e-07</td>\n      <td>2.983461e-08</td>\n      <td>8.448549e-08</td>\n      <td>0.037835</td>\n    </tr>\n    <tr>\n      <th>24455</th>\n      <td>7.016851e-05</td>\n      <td>3.130342e-06</td>\n      <td>4.647304e-06</td>\n      <td>8.369053e-07</td>\n      <td>0.000063</td>\n      <td>4.902785e-07</td>\n      <td>1.919740e-06</td>\n      <td>3.782009e-07</td>\n      <td>7.247494e-06</td>\n      <td>0.000149</td>\n      <td>...</td>\n      <td>7.043156e-06</td>\n      <td>1.088959e-06</td>\n      <td>3.429752e-04</td>\n      <td>1.236487e-06</td>\n      <td>1.559761e-05</td>\n      <td>0.000334</td>\n      <td>2.731056e-07</td>\n      <td>6.995255e-08</td>\n      <td>3.656697e-07</td>\n      <td>0.685826</td>\n    </tr>\n    <tr>\n      <th>24456</th>\n      <td>2.950399e-07</td>\n      <td>2.368652e-06</td>\n      <td>1.809671e-06</td>\n      <td>2.460224e-07</td>\n      <td>0.000022</td>\n      <td>3.497200e-07</td>\n      <td>2.371242e-06</td>\n      <td>7.975572e-08</td>\n      <td>9.750314e-08</td>\n      <td>0.000120</td>\n      <td>...</td>\n      <td>1.243129e-07</td>\n      <td>1.778166e-06</td>\n      <td>1.255642e-05</td>\n      <td>5.233501e-07</td>\n      <td>1.516821e-06</td>\n      <td>0.000268</td>\n      <td>3.848167e-07</td>\n      <td>7.985800e-08</td>\n      <td>6.056014e-08</td>\n      <td>0.941993</td>\n    </tr>\n    <tr>\n      <th>24457</th>\n      <td>1.751697e-06</td>\n      <td>5.735962e-06</td>\n      <td>3.339152e-08</td>\n      <td>1.570303e-09</td>\n      <td>0.000002</td>\n      <td>1.141519e-08</td>\n      <td>2.447643e-07</td>\n      <td>7.613156e-09</td>\n      <td>2.635377e-08</td>\n      <td>0.001496</td>\n      <td>...</td>\n      <td>1.165573e-06</td>\n      <td>5.853746e-07</td>\n      <td>4.011085e-07</td>\n      <td>2.356716e-08</td>\n      <td>1.775448e-06</td>\n      <td>0.000174</td>\n      <td>1.974062e-08</td>\n      <td>1.033413e-08</td>\n      <td>1.144882e-08</td>\n      <td>0.010642</td>\n    </tr>\n    <tr>\n      <th>24458</th>\n      <td>5.756187e-07</td>\n      <td>7.986317e-06</td>\n      <td>3.198990e-09</td>\n      <td>6.221389e-08</td>\n      <td>0.000489</td>\n      <td>7.649855e-08</td>\n      <td>7.819654e-08</td>\n      <td>2.338669e-09</td>\n      <td>7.068659e-07</td>\n      <td>0.000017</td>\n      <td>...</td>\n      <td>1.682086e-08</td>\n      <td>4.629536e-09</td>\n      <td>4.910539e-07</td>\n      <td>1.460983e-06</td>\n      <td>1.742865e-06</td>\n      <td>0.000028</td>\n      <td>4.572503e-09</td>\n      <td>9.166297e-09</td>\n      <td>3.777544e-09</td>\n      <td>0.245531</td>\n    </tr>\n  </tbody>\n</table>\n<p>24459 rows × 182 columns</p>\n</div>"
     },
     "execution_count": 47,
     "metadata": {},
     "output_type": "execute_result"
    }
   ],
   "source": [
    "total_df.iloc[:,:182]"
   ],
   "metadata": {
    "collapsed": false,
    "ExecuteTime": {
     "end_time": "2024-06-04T08:33:11.047756Z",
     "start_time": "2024-06-04T08:33:11.035335Z"
    }
   },
   "id": "71ac4ac875b614fe",
   "execution_count": 47
  }
 ],
 "metadata": {
  "kernelspec": {
   "display_name": "Python 3",
   "language": "python",
   "name": "python3"
  },
  "language_info": {
   "codemirror_mode": {
    "name": "ipython",
    "version": 2
   },
   "file_extension": ".py",
   "mimetype": "text/x-python",
   "name": "python",
   "nbconvert_exporter": "python",
   "pygments_lexer": "ipython2",
   "version": "2.7.6"
  }
 },
 "nbformat": 4,
 "nbformat_minor": 5
}
