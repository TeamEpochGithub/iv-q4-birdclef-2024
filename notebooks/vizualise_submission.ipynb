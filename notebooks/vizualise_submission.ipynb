{
 "cells": [
  {
   "cell_type": "code",
   "outputs": [],
   "source": [
    "import matplotlib.pyplot as plt\n",
    "import numpy as np\n",
    "import pandas as pd\n"
   ],
   "metadata": {
    "collapsed": false,
    "ExecuteTime": {
     "end_time": "2024-05-13T11:37:49.507943Z",
     "start_time": "2024-05-13T11:37:49.506107Z"
    }
   },
   "id": "80e5b5588e5f30e4",
   "execution_count": 1
  },
  {
   "cell_type": "code",
   "outputs": [],
   "source": [
    "# Load the submission notebook\n",
    "\n",
    "submission_path = \"../submission/submission.csv\"\n",
    "smoothing = 0.375\n",
    "submission_df = pd.read_csv(submission_path)"
   ],
   "metadata": {
    "collapsed": false,
    "ExecuteTime": {
     "end_time": "2024-05-13T11:37:49.544816Z",
     "start_time": "2024-05-13T11:37:49.508836Z"
    }
   },
   "id": "9899f9f5488dbe64",
   "execution_count": 2
  },
  {
   "cell_type": "code",
   "outputs": [
    {
     "data": {
      "text/plain": "     asbfly   ashdro1   ashpri1   ashwoo2   asikoe2       asiope1   aspfly1  \\\n0  0.000526  0.000426  0.000367  0.000050  0.005416  6.076951e-07  0.000075   \n1  0.000515  0.003466  0.000206  0.000025  0.003596  7.009004e-07  0.000051   \n2  0.000288  0.000707  0.000164  0.000017  0.003200  2.671783e-07  0.000046   \n3  0.000850  0.000190  0.000326  0.000011  0.001346  1.365968e-07  0.000106   \n4  0.000588  0.000688  0.000074  0.000013  0.005088  2.797122e-06  0.000051   \n\n    aspswi1   barfly1    barswa  ...   whcbar1   whiter2    whrmun   whtkin2  \\\n0  0.000038  0.000020  0.000417  ...  0.003111  0.000040  0.000177  0.011141   \n1  0.000054  0.000124  0.004108  ...  0.000793  0.000090  0.002341  0.002683   \n2  0.000025  0.000011  0.000598  ...  0.003180  0.000014  0.000359  0.001448   \n3  0.000027  0.000002  0.000307  ...  0.000436  0.000018  0.000334  0.000427   \n4  0.000024  0.000052  0.000719  ...  0.000513  0.000176  0.000159  0.003316   \n\n     woosan       wynlau1   yebbab1   yebbul3   zitcis1      row_id  \n0  0.002918  9.218609e-07  0.000063  0.000044  0.000375   1779640_5  \n1  0.000628  3.443258e-06  0.000342  0.000012  0.001075  1779640_10  \n2  0.000816  2.789349e-07  0.000045  0.000047  0.000129  1779640_15  \n3  0.000712  8.781488e-07  0.000018  0.000052  0.000255  1779640_20  \n4  0.000529  2.936661e-06  0.000031  0.000010  0.000586  1779640_25  \n\n[5 rows x 183 columns]",
      "text/html": "<div>\n<style scoped>\n    .dataframe tbody tr th:only-of-type {\n        vertical-align: middle;\n    }\n\n    .dataframe tbody tr th {\n        vertical-align: top;\n    }\n\n    .dataframe thead th {\n        text-align: right;\n    }\n</style>\n<table border=\"1\" class=\"dataframe\">\n  <thead>\n    <tr style=\"text-align: right;\">\n      <th></th>\n      <th>asbfly</th>\n      <th>ashdro1</th>\n      <th>ashpri1</th>\n      <th>ashwoo2</th>\n      <th>asikoe2</th>\n      <th>asiope1</th>\n      <th>aspfly1</th>\n      <th>aspswi1</th>\n      <th>barfly1</th>\n      <th>barswa</th>\n      <th>...</th>\n      <th>whcbar1</th>\n      <th>whiter2</th>\n      <th>whrmun</th>\n      <th>whtkin2</th>\n      <th>woosan</th>\n      <th>wynlau1</th>\n      <th>yebbab1</th>\n      <th>yebbul3</th>\n      <th>zitcis1</th>\n      <th>row_id</th>\n    </tr>\n  </thead>\n  <tbody>\n    <tr>\n      <th>0</th>\n      <td>0.000526</td>\n      <td>0.000426</td>\n      <td>0.000367</td>\n      <td>0.000050</td>\n      <td>0.005416</td>\n      <td>6.076951e-07</td>\n      <td>0.000075</td>\n      <td>0.000038</td>\n      <td>0.000020</td>\n      <td>0.000417</td>\n      <td>...</td>\n      <td>0.003111</td>\n      <td>0.000040</td>\n      <td>0.000177</td>\n      <td>0.011141</td>\n      <td>0.002918</td>\n      <td>9.218609e-07</td>\n      <td>0.000063</td>\n      <td>0.000044</td>\n      <td>0.000375</td>\n      <td>1779640_5</td>\n    </tr>\n    <tr>\n      <th>1</th>\n      <td>0.000515</td>\n      <td>0.003466</td>\n      <td>0.000206</td>\n      <td>0.000025</td>\n      <td>0.003596</td>\n      <td>7.009004e-07</td>\n      <td>0.000051</td>\n      <td>0.000054</td>\n      <td>0.000124</td>\n      <td>0.004108</td>\n      <td>...</td>\n      <td>0.000793</td>\n      <td>0.000090</td>\n      <td>0.002341</td>\n      <td>0.002683</td>\n      <td>0.000628</td>\n      <td>3.443258e-06</td>\n      <td>0.000342</td>\n      <td>0.000012</td>\n      <td>0.001075</td>\n      <td>1779640_10</td>\n    </tr>\n    <tr>\n      <th>2</th>\n      <td>0.000288</td>\n      <td>0.000707</td>\n      <td>0.000164</td>\n      <td>0.000017</td>\n      <td>0.003200</td>\n      <td>2.671783e-07</td>\n      <td>0.000046</td>\n      <td>0.000025</td>\n      <td>0.000011</td>\n      <td>0.000598</td>\n      <td>...</td>\n      <td>0.003180</td>\n      <td>0.000014</td>\n      <td>0.000359</td>\n      <td>0.001448</td>\n      <td>0.000816</td>\n      <td>2.789349e-07</td>\n      <td>0.000045</td>\n      <td>0.000047</td>\n      <td>0.000129</td>\n      <td>1779640_15</td>\n    </tr>\n    <tr>\n      <th>3</th>\n      <td>0.000850</td>\n      <td>0.000190</td>\n      <td>0.000326</td>\n      <td>0.000011</td>\n      <td>0.001346</td>\n      <td>1.365968e-07</td>\n      <td>0.000106</td>\n      <td>0.000027</td>\n      <td>0.000002</td>\n      <td>0.000307</td>\n      <td>...</td>\n      <td>0.000436</td>\n      <td>0.000018</td>\n      <td>0.000334</td>\n      <td>0.000427</td>\n      <td>0.000712</td>\n      <td>8.781488e-07</td>\n      <td>0.000018</td>\n      <td>0.000052</td>\n      <td>0.000255</td>\n      <td>1779640_20</td>\n    </tr>\n    <tr>\n      <th>4</th>\n      <td>0.000588</td>\n      <td>0.000688</td>\n      <td>0.000074</td>\n      <td>0.000013</td>\n      <td>0.005088</td>\n      <td>2.797122e-06</td>\n      <td>0.000051</td>\n      <td>0.000024</td>\n      <td>0.000052</td>\n      <td>0.000719</td>\n      <td>...</td>\n      <td>0.000513</td>\n      <td>0.000176</td>\n      <td>0.000159</td>\n      <td>0.003316</td>\n      <td>0.000529</td>\n      <td>2.936661e-06</td>\n      <td>0.000031</td>\n      <td>0.000010</td>\n      <td>0.000586</td>\n      <td>1779640_25</td>\n    </tr>\n  </tbody>\n</table>\n<p>5 rows × 183 columns</p>\n</div>"
     },
     "execution_count": 3,
     "metadata": {},
     "output_type": "execute_result"
    }
   ],
   "source": [
    "submission_df.head()"
   ],
   "metadata": {
    "collapsed": false,
    "ExecuteTime": {
     "end_time": "2024-05-13T11:37:49.567012Z",
     "start_time": "2024-05-13T11:37:49.545768Z"
    }
   },
   "id": "df5a2aa8b5fbac61",
   "execution_count": 3
  },
  {
   "cell_type": "code",
   "outputs": [],
   "source": [
    "argmax = submission_df.iloc[:, :-1].values.argmax(axis=1)"
   ],
   "metadata": {
    "collapsed": false,
    "ExecuteTime": {
     "end_time": "2024-05-13T11:37:49.587522Z",
     "start_time": "2024-05-13T11:37:49.567681Z"
    }
   },
   "id": "2510f9518c8aadad",
   "execution_count": 4
  },
  {
   "cell_type": "code",
   "outputs": [],
   "source": [
    "# submission_df.iloc[:48, 30]"
   ],
   "metadata": {
    "collapsed": false,
    "ExecuteTime": {
     "end_time": "2024-05-13T11:37:49.617909Z",
     "start_time": "2024-05-13T11:37:49.588238Z"
    }
   },
   "id": "79764850c7699b59",
   "execution_count": 5
  },
  {
   "cell_type": "code",
   "outputs": [
    {
     "data": {
      "text/plain": "     asbfly   ashdro1   ashpri1   ashwoo2   asikoe2       asiope1   aspfly1  \\\n0  0.000526  0.000426  0.000367  0.000050  0.005416  6.076951e-07  0.000075   \n1  0.000515  0.003466  0.000206  0.000025  0.003596  7.009004e-07  0.000051   \n2  0.000288  0.000707  0.000164  0.000017  0.003200  2.671783e-07  0.000046   \n3  0.000850  0.000190  0.000326  0.000011  0.001346  1.365968e-07  0.000106   \n4  0.000588  0.000688  0.000074  0.000013  0.005088  2.797122e-06  0.000051   \n\n    aspswi1   barfly1    barswa  ...   whbwoo2   whcbar1   whiter2    whrmun  \\\n0  0.000038  0.000020  0.000417  ...  0.003864  0.003111  0.000040  0.000177   \n1  0.000054  0.000124  0.004108  ...  0.001383  0.000793  0.000090  0.002341   \n2  0.000025  0.000011  0.000598  ...  0.001309  0.003180  0.000014  0.000359   \n3  0.000027  0.000002  0.000307  ...  0.001400  0.000436  0.000018  0.000334   \n4  0.000024  0.000052  0.000719  ...  0.003176  0.000513  0.000176  0.000159   \n\n    whtkin2    woosan       wynlau1   yebbab1   yebbul3   zitcis1  \n0  0.011141  0.002918  9.218609e-07  0.000063  0.000044  0.000375  \n1  0.002683  0.000628  3.443258e-06  0.000342  0.000012  0.001075  \n2  0.001448  0.000816  2.789349e-07  0.000045  0.000047  0.000129  \n3  0.000427  0.000712  8.781488e-07  0.000018  0.000052  0.000255  \n4  0.003316  0.000529  2.936661e-06  0.000031  0.000010  0.000586  \n\n[5 rows x 182 columns]",
      "text/html": "<div>\n<style scoped>\n    .dataframe tbody tr th:only-of-type {\n        vertical-align: middle;\n    }\n\n    .dataframe tbody tr th {\n        vertical-align: top;\n    }\n\n    .dataframe thead th {\n        text-align: right;\n    }\n</style>\n<table border=\"1\" class=\"dataframe\">\n  <thead>\n    <tr style=\"text-align: right;\">\n      <th></th>\n      <th>asbfly</th>\n      <th>ashdro1</th>\n      <th>ashpri1</th>\n      <th>ashwoo2</th>\n      <th>asikoe2</th>\n      <th>asiope1</th>\n      <th>aspfly1</th>\n      <th>aspswi1</th>\n      <th>barfly1</th>\n      <th>barswa</th>\n      <th>...</th>\n      <th>whbwoo2</th>\n      <th>whcbar1</th>\n      <th>whiter2</th>\n      <th>whrmun</th>\n      <th>whtkin2</th>\n      <th>woosan</th>\n      <th>wynlau1</th>\n      <th>yebbab1</th>\n      <th>yebbul3</th>\n      <th>zitcis1</th>\n    </tr>\n  </thead>\n  <tbody>\n    <tr>\n      <th>0</th>\n      <td>0.000526</td>\n      <td>0.000426</td>\n      <td>0.000367</td>\n      <td>0.000050</td>\n      <td>0.005416</td>\n      <td>6.076951e-07</td>\n      <td>0.000075</td>\n      <td>0.000038</td>\n      <td>0.000020</td>\n      <td>0.000417</td>\n      <td>...</td>\n      <td>0.003864</td>\n      <td>0.003111</td>\n      <td>0.000040</td>\n      <td>0.000177</td>\n      <td>0.011141</td>\n      <td>0.002918</td>\n      <td>9.218609e-07</td>\n      <td>0.000063</td>\n      <td>0.000044</td>\n      <td>0.000375</td>\n    </tr>\n    <tr>\n      <th>1</th>\n      <td>0.000515</td>\n      <td>0.003466</td>\n      <td>0.000206</td>\n      <td>0.000025</td>\n      <td>0.003596</td>\n      <td>7.009004e-07</td>\n      <td>0.000051</td>\n      <td>0.000054</td>\n      <td>0.000124</td>\n      <td>0.004108</td>\n      <td>...</td>\n      <td>0.001383</td>\n      <td>0.000793</td>\n      <td>0.000090</td>\n      <td>0.002341</td>\n      <td>0.002683</td>\n      <td>0.000628</td>\n      <td>3.443258e-06</td>\n      <td>0.000342</td>\n      <td>0.000012</td>\n      <td>0.001075</td>\n    </tr>\n    <tr>\n      <th>2</th>\n      <td>0.000288</td>\n      <td>0.000707</td>\n      <td>0.000164</td>\n      <td>0.000017</td>\n      <td>0.003200</td>\n      <td>2.671783e-07</td>\n      <td>0.000046</td>\n      <td>0.000025</td>\n      <td>0.000011</td>\n      <td>0.000598</td>\n      <td>...</td>\n      <td>0.001309</td>\n      <td>0.003180</td>\n      <td>0.000014</td>\n      <td>0.000359</td>\n      <td>0.001448</td>\n      <td>0.000816</td>\n      <td>2.789349e-07</td>\n      <td>0.000045</td>\n      <td>0.000047</td>\n      <td>0.000129</td>\n    </tr>\n    <tr>\n      <th>3</th>\n      <td>0.000850</td>\n      <td>0.000190</td>\n      <td>0.000326</td>\n      <td>0.000011</td>\n      <td>0.001346</td>\n      <td>1.365968e-07</td>\n      <td>0.000106</td>\n      <td>0.000027</td>\n      <td>0.000002</td>\n      <td>0.000307</td>\n      <td>...</td>\n      <td>0.001400</td>\n      <td>0.000436</td>\n      <td>0.000018</td>\n      <td>0.000334</td>\n      <td>0.000427</td>\n      <td>0.000712</td>\n      <td>8.781488e-07</td>\n      <td>0.000018</td>\n      <td>0.000052</td>\n      <td>0.000255</td>\n    </tr>\n    <tr>\n      <th>4</th>\n      <td>0.000588</td>\n      <td>0.000688</td>\n      <td>0.000074</td>\n      <td>0.000013</td>\n      <td>0.005088</td>\n      <td>2.797122e-06</td>\n      <td>0.000051</td>\n      <td>0.000024</td>\n      <td>0.000052</td>\n      <td>0.000719</td>\n      <td>...</td>\n      <td>0.003176</td>\n      <td>0.000513</td>\n      <td>0.000176</td>\n      <td>0.000159</td>\n      <td>0.003316</td>\n      <td>0.000529</td>\n      <td>2.936661e-06</td>\n      <td>0.000031</td>\n      <td>0.000010</td>\n      <td>0.000586</td>\n    </tr>\n  </tbody>\n</table>\n<p>5 rows × 182 columns</p>\n</div>"
     },
     "execution_count": 6,
     "metadata": {},
     "output_type": "execute_result"
    }
   ],
   "source": [
    "plot_df = submission_df.iloc[:, :-1].copy()\n",
    "\n",
    "plot_df.head()\n",
    "\n",
    "# #Create a barplot of the predictions for the first row using seaborn\n",
    "# import seaborn as sns\n",
    "# import matplotlib.pyplot as plt\n",
    "# \n",
    "# fig, ax = plt.subplots(figsize=(10, 50))\n",
    "\n",
    "#sns.barplot(y=plot_df.columns, x=plot_df.iloc[41, :], ax=ax)"
   ],
   "metadata": {
    "collapsed": false,
    "ExecuteTime": {
     "end_time": "2024-05-13T11:37:49.648634Z",
     "start_time": "2024-05-13T11:37:49.618743Z"
    }
   },
   "id": "260e69dab4dafb5d",
   "execution_count": 6
  },
  {
   "cell_type": "code",
   "outputs": [
    {
     "name": "stdout",
     "output_type": "stream",
     "text": [
      "['1779640', '1910174', '2113145', '2162497', '2353770', '2830515', '460830', '969749', '1225526', '1451354', '1527167', '1606902', '1653006']\n"
     ]
    },
    {
     "name": "stderr",
     "output_type": "stream",
     "text": [
      "\n",
      "KeyboardInterrupt\n",
      "\n"
     ]
    },
    {
     "name": "stdout",
     "output_type": "stream",
     "text": [
      "Error in callback <function _draw_all_if_interactive at 0x712fb2baff40> (for post_execute), with arguments args (),kwargs {}:\n"
     ]
    },
    {
     "name": "stderr",
     "output_type": "stream",
     "text": [
      "Exception ignored in: <bound method IPythonKernel._clean_thread_parent_frames of <ipykernel.ipkernel.IPythonKernel object at 0x712ff62b4670>>\n",
      "Traceback (most recent call last):\n",
      "  File \"/home/hugo/Documents/Epoch/q4-bird-clef/venv/lib/python3.10/site-packages/ipykernel/ipkernel.py\", line 775, in _clean_thread_parent_frames\n",
      "    def _clean_thread_parent_frames(\n",
      "KeyboardInterrupt: \n",
      "\n",
      "KeyboardInterrupt\n",
      "\n"
     ]
    },
    {
     "name": "stdout",
     "output_type": "stream",
     "text": [
      "Error in callback <function flush_figures at 0x712f74f665f0> (for post_execute), with arguments args (),kwargs {}:\n"
     ]
    },
    {
     "name": "stderr",
     "output_type": "stream",
     "text": [
      "\n",
      "KeyboardInterrupt\n",
      "\n"
     ]
    }
   ],
   "source": [
    "from pathlib import Path\n",
    "from IPython.display import Audio\n",
    "import librosa\n",
    "import seaborn as sns\n",
    "\n",
    "step = 48\n",
    "figures = len(submission_df) // step\n",
    "file_list = [file.stem for file in Path(\"../data/raw/2024/test_soundscapes\").glob(\"*.ogg\")]\n",
    "print(file_list)\n",
    "\n",
    "#Get date of today with time\n",
    "import datetime\n",
    "today = datetime.datetime.now().strftime(\"%Y-%m-%d_%H-%M-%S\")\n",
    "\n",
    "# set seaborn style\n",
    "#sns.set_theme()\n",
    "\n",
    "#Create a stacked lineplot over the 48 steps\n",
    "for i in range(figures):\n",
    "    fig, ax = plt.subplots(figsize=(40, 40))\n",
    "    x = np.arange(48)\n",
    "\n",
    "    # Only get the columns that are > 1e-4\n",
    "    y = plot_df.iloc[i * step:(i + 1) * step]\n",
    "    # y = y.loc[:, (plot_df > 1e-5).all()]\n",
    "\n",
    "    colors = sns.color_palette(\"hsv\", n_colors=y.shape[1])\n",
    "    #print(y.shape)\n",
    "    y.head()\n",
    "\n",
    "    plt.stackplot(x, y.T, labels=y.columns, colors=colors)\n",
    "\n",
    "    plt.legend(loc='upper left')\n",
    "\n",
    "    #Play sound file from file_list\n",
    "    audio = librosa.load(f\"../data/raw/2024/test_soundscapes/{file_list[i]}.ogg\", sr=32000)\n",
    "    display(Audio(audio[0], rate=audio[1]))\n",
    "\n",
    "    plt.title(f\"Predictions for {file_list[i]}_smoothing_{smoothing}\")\n",
    "    plt.xlabel(\"Time step\")\n",
    "    plt.ylabel(\"Probability\")\n",
    "\n",
    "    # Create date folder\n",
    "    Path(f\"../plots/{today}\").mkdir(parents=True, exist_ok=True)\n",
    "\n",
    "    #Save fig in plots folder / date    \n",
    "    \n",
    "    plt.savefig(f\"../plots/{today}/{file_list[i]}_smoothing_{smoothing}.png\")\n",
    "    \n",
    "    #Remove plot\n",
    "    plt.close()\n",
    "    \n",
    "    \n",
    "    \n",
    "\n",
    "    # plt.show()\n",
    "\n"
   ],
   "metadata": {
    "collapsed": false,
    "ExecuteTime": {
     "end_time": "2024-05-13T11:37:51.428071Z",
     "start_time": "2024-05-13T11:37:49.649871Z"
    }
   },
   "id": "e4a2afdeb00a92c9",
   "execution_count": 7
  },
  {
   "cell_type": "code",
   "outputs": [],
   "source": [],
   "metadata": {
    "collapsed": false
   },
   "id": "661d10221f98627a",
   "execution_count": null
  }
 ],
 "metadata": {
  "kernelspec": {
   "display_name": "Python 3",
   "language": "python",
   "name": "python3"
  },
  "language_info": {
   "codemirror_mode": {
    "name": "ipython",
    "version": 2
   },
   "file_extension": ".py",
   "mimetype": "text/x-python",
   "name": "python",
   "nbconvert_exporter": "python",
   "pygments_lexer": "ipython2",
   "version": "2.7.6"
  }
 },
 "nbformat": 4,
 "nbformat_minor": 5
}
